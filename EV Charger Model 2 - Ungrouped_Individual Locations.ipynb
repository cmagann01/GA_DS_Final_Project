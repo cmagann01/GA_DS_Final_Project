{
 "cells": [
  {
   "cell_type": "markdown",
   "metadata": {
    "collapsed": true
   },
   "source": [
    "### EV Charger Models - Ungrouped (individual locations)_Population Observation Counts\n",
    "\n",
    "#### Overview\n",
    "\n",
    "Majority of updates in the data.gov alternative fuels data set were made in August 2017\n",
    "\n",
    "Total number of charge stations = 53301\n",
    "\n",
    "ev_total (mean) = 2.68 > charge stations per location\n",
    "\n",
    "evdcfastcount > DC Fast Chargers % of total = 12%\n",
    "\n",
    "evlevel1evsenum > Level 1 EVSE (standard 110V outlet) % of total = 6%\n",
    "\n",
    "evlevel2evsenum > Level 2 EVSE (J1772 connector) % of total = 82%\n"
   ]
  },
  {
   "cell_type": "code",
   "execution_count": null,
   "metadata": {
    "collapsed": true
   },
   "outputs": [],
   "source": []
  },
  {
   "cell_type": "markdown",
   "metadata": {},
   "source": [
    "#### Notes\n",
    "\n",
    "Not a logistic regression because we are not attempting to determine a category\n",
    "\n",
    "We are predicting how many and what type of ev charger to install per population count\n",
    "\n",
    "To clean up the notebook and reduce rows I removed the checks including head, shape, isnull, describe, nunique, value counts, etc.\n",
    "\n",
    "Model: Grouped by city, not great scores but started with 0.07!  Got them above 65 for the most popular types\n",
    "\n",
    "EV Types: Fast = super fast charger / 110 = standard 110 outlet charger (super slow) / 220 = 220 outlet charger like a dryer in a house runs on (fairly quick and the most popular)\n",
    "\n",
    "Goal: Predict how many and which type of charger to install for varying population groups"
   ]
  },
  {
   "cell_type": "code",
   "execution_count": null,
   "metadata": {},
   "outputs": [],
   "source": []
  },
  {
   "cell_type": "markdown",
   "metadata": {},
   "source": [
    "#### Ungrouped_Population Observation Counts\n",
    "\n",
    "median > over 2.5k, under 5k \n",
    "\n",
    "over 500k = 3233  /  over 250k, under 500k = 1886  /  over 100k, under 250k = 208  /  over 75k, under 100k = 1345  /  over 50k, under 75k = 1594  /  over 25k, under 50k = 2025  /  over 15k, under 25k = 1075\n",
    "\n",
    "over 7.5k, under 15k = 1112 < our city population category match\n",
    "\n",
    "over 5k, under 7.5k = 455  /  over 2.5k, under 5k = 406  /  over 100, under 2.5k = 540"
   ]
  },
  {
   "cell_type": "markdown",
   "metadata": {},
   "source": [
    "#### import"
   ]
  },
  {
   "cell_type": "code",
   "execution_count": 3,
   "metadata": {
    "collapsed": true
   },
   "outputs": [],
   "source": [
    "import pandas as pd\n",
    "import matplotlib.pyplot as plt\n",
    "import seaborn as sns\n",
    "\n",
    "%matplotlib inline"
   ]
  },
  {
   "cell_type": "markdown",
   "metadata": {},
   "source": [
    "#### 2 new prepped dataframes saved locally in csv format > 1. data.gov: ev data  /  2. cencus.gov: state, city, population"
   ]
  },
  {
   "cell_type": "code",
   "execution_count": 4,
   "metadata": {
    "collapsed": true,
    "scrolled": true
   },
   "outputs": [],
   "source": [
    "df_ev = pd.read_csv('ev_new.csv', error_bad_lines=False, index_col=False, dtype='unicode')"
   ]
  },
  {
   "cell_type": "code",
   "execution_count": 5,
   "metadata": {
    "collapsed": true
   },
   "outputs": [],
   "source": [
    "df_ev_pop = pd.read_csv('ev_citystatepop.csv', error_bad_lines=False, index_col=False, dtype='unicode')"
   ]
  },
  {
   "cell_type": "code",
   "execution_count": 6,
   "metadata": {},
   "outputs": [
    {
     "data": {
      "text/html": [
       "<div>\n",
       "<style>\n",
       "    .dataframe thead tr:only-child th {\n",
       "        text-align: right;\n",
       "    }\n",
       "\n",
       "    .dataframe thead th {\n",
       "        text-align: left;\n",
       "    }\n",
       "\n",
       "    .dataframe tbody tr th {\n",
       "        vertical-align: top;\n",
       "    }\n",
       "</style>\n",
       "<table border=\"1\" class=\"dataframe\">\n",
       "  <thead>\n",
       "    <tr style=\"text-align: right;\">\n",
       "      <th></th>\n",
       "      <th>id</th>\n",
       "      <th>citystate</th>\n",
       "      <th>city</th>\n",
       "      <th>state</th>\n",
       "      <th>evdcfastcount</th>\n",
       "      <th>evlevel1evsenum</th>\n",
       "      <th>evlevel2evsenum</th>\n",
       "      <th>ev_total</th>\n",
       "    </tr>\n",
       "  </thead>\n",
       "  <tbody>\n",
       "    <tr>\n",
       "      <th>0</th>\n",
       "      <td>19458</td>\n",
       "      <td>AbbotsfordWI</td>\n",
       "      <td>Abbotsford</td>\n",
       "      <td>WI</td>\n",
       "      <td>0</td>\n",
       "      <td>1</td>\n",
       "      <td>0</td>\n",
       "      <td>1</td>\n",
       "    </tr>\n",
       "  </tbody>\n",
       "</table>\n",
       "</div>"
      ],
      "text/plain": [
       "      id     citystate        city state evdcfastcount evlevel1evsenum  \\\n",
       "0  19458  AbbotsfordWI  Abbotsford    WI             0               1   \n",
       "\n",
       "  evlevel2evsenum ev_total  \n",
       "0               0        1  "
      ]
     },
     "execution_count": 6,
     "metadata": {},
     "output_type": "execute_result"
    }
   ],
   "source": [
    "df_ev.head(1)"
   ]
  },
  {
   "cell_type": "code",
   "execution_count": 7,
   "metadata": {
    "collapsed": true
   },
   "outputs": [],
   "source": [
    "# df_ev_drop = df_ev.drop(['id', 'city', 'state'], axis=1)\n",
    "df_ev_drop = df_ev.drop(['city', 'state'], axis=1)"
   ]
  },
  {
   "cell_type": "code",
   "execution_count": 8,
   "metadata": {
    "collapsed": true
   },
   "outputs": [
    {
     "data": {
      "text/plain": [
       "id                 object\n",
       "citystate          object\n",
       "evdcfastcount      object\n",
       "evlevel1evsenum    object\n",
       "evlevel2evsenum    object\n",
       "ev_total           object\n",
       "dtype: object"
      ]
     },
     "execution_count": 8,
     "metadata": {},
     "output_type": "execute_result"
    }
   ],
   "source": [
    "df_ev_drop.dtypes"
   ]
  },
  {
   "cell_type": "markdown",
   "metadata": {},
   "source": [
    "#### formatting"
   ]
  },
  {
   "cell_type": "code",
   "execution_count": 9,
   "metadata": {
    "collapsed": true
   },
   "outputs": [],
   "source": [
    "df_ev_drop[('evdcfastcount')] = df_ev_drop[('evdcfastcount')].astype(int)\n",
    "df_ev_drop[('evlevel1evsenum')] = df_ev_drop[('evlevel1evsenum')].astype(int)\n",
    "df_ev_drop[('evlevel2evsenum')] = df_ev_drop[('evlevel2evsenum')].astype(int)\n",
    "df_ev_drop[('ev_total')] = df_ev_drop[('ev_total')].astype(int)\n",
    "df_ev_drop[('id')] = df_ev_drop[('id')].astype(int)"
   ]
  },
  {
   "cell_type": "code",
   "execution_count": 10,
   "metadata": {
    "collapsed": true
   },
   "outputs": [],
   "source": [
    "df_ev_drop.evdcfastcount.fillna(value=0, inplace=True)\n",
    "df_ev_drop.evlevel1evsenum.fillna(value=0, inplace=True)\n",
    "df_ev_drop.evlevel2evsenum.fillna(value=0, inplace=True)"
   ]
  },
  {
   "cell_type": "code",
   "execution_count": 11,
   "metadata": {
    "collapsed": true
   },
   "outputs": [
    {
     "data": {
      "text/plain": [
       "id                  int32\n",
       "citystate          object\n",
       "evdcfastcount       int32\n",
       "evlevel1evsenum     int32\n",
       "evlevel2evsenum     int32\n",
       "ev_total            int32\n",
       "dtype: object"
      ]
     },
     "execution_count": 11,
     "metadata": {},
     "output_type": "execute_result"
    }
   ],
   "source": [
    "df_ev_drop.dtypes"
   ]
  },
  {
   "cell_type": "code",
   "execution_count": 63,
   "metadata": {
    "collapsed": true
   },
   "outputs": [],
   "source": [
    "# df_ev_pop['citystate'] = df_ev_pop['citystatepop']"
   ]
  },
  {
   "cell_type": "code",
   "execution_count": 10,
   "metadata": {
    "collapsed": true
   },
   "outputs": [
    {
     "data": {
      "text/html": [
       "<div>\n",
       "<style>\n",
       "    .dataframe thead tr:only-child th {\n",
       "        text-align: right;\n",
       "    }\n",
       "\n",
       "    .dataframe thead th {\n",
       "        text-align: left;\n",
       "    }\n",
       "\n",
       "    .dataframe tbody tr th {\n",
       "        vertical-align: top;\n",
       "    }\n",
       "</style>\n",
       "<table border=\"1\" class=\"dataframe\">\n",
       "  <thead>\n",
       "    <tr style=\"text-align: right;\">\n",
       "      <th></th>\n",
       "      <th>citystate</th>\n",
       "      <th>pop</th>\n",
       "    </tr>\n",
       "  </thead>\n",
       "  <tbody>\n",
       "    <tr>\n",
       "      <th>0</th>\n",
       "      <td>AbbevilleAL</td>\n",
       "      <td>2603</td>\n",
       "    </tr>\n",
       "  </tbody>\n",
       "</table>\n",
       "</div>"
      ],
      "text/plain": [
       "     citystate   pop\n",
       "0  AbbevilleAL  2603"
      ]
     },
     "execution_count": 10,
     "metadata": {},
     "output_type": "execute_result"
    }
   ],
   "source": [
    "df_ev_pop.head(1)"
   ]
  },
  {
   "cell_type": "code",
   "execution_count": 11,
   "metadata": {
    "collapsed": true
   },
   "outputs": [
    {
     "data": {
      "text/plain": [
       "citystate    object\n",
       "pop          object\n",
       "dtype: object"
      ]
     },
     "execution_count": 11,
     "metadata": {},
     "output_type": "execute_result"
    }
   ],
   "source": [
    "df_ev_pop.dtypes"
   ]
  },
  {
   "cell_type": "code",
   "execution_count": 12,
   "metadata": {
    "collapsed": true
   },
   "outputs": [],
   "source": [
    "df_ev_pop[('citystate')] = df_ev_pop[('citystate')].astype(str)\n",
    "df_ev_pop[('pop')] = df_ev_pop[('pop')].astype(int)"
   ]
  },
  {
   "cell_type": "code",
   "execution_count": 13,
   "metadata": {
    "collapsed": true
   },
   "outputs": [
    {
     "data": {
      "text/plain": [
       "citystate    object\n",
       "pop           int32\n",
       "dtype: object"
      ]
     },
     "execution_count": 13,
     "metadata": {},
     "output_type": "execute_result"
    }
   ],
   "source": [
    "df_ev_pop.dtypes"
   ]
  },
  {
   "cell_type": "markdown",
   "metadata": {},
   "source": [
    "#### set index of both dataframes to 'citystate' to merge on"
   ]
  },
  {
   "cell_type": "code",
   "execution_count": 14,
   "metadata": {
    "collapsed": true
   },
   "outputs": [],
   "source": [
    "# df.set_index('Locality', inplace=True)\n",
    "df_ev_drop2 = df_ev_drop.set_index('citystate')"
   ]
  },
  {
   "cell_type": "code",
   "execution_count": 15,
   "metadata": {},
   "outputs": [
    {
     "data": {
      "text/html": [
       "<div>\n",
       "<style>\n",
       "    .dataframe thead tr:only-child th {\n",
       "        text-align: right;\n",
       "    }\n",
       "\n",
       "    .dataframe thead th {\n",
       "        text-align: left;\n",
       "    }\n",
       "\n",
       "    .dataframe tbody tr th {\n",
       "        vertical-align: top;\n",
       "    }\n",
       "</style>\n",
       "<table border=\"1\" class=\"dataframe\">\n",
       "  <thead>\n",
       "    <tr style=\"text-align: right;\">\n",
       "      <th></th>\n",
       "      <th>id</th>\n",
       "      <th>evdcfastcount</th>\n",
       "      <th>evlevel1evsenum</th>\n",
       "      <th>evlevel2evsenum</th>\n",
       "      <th>ev_total</th>\n",
       "    </tr>\n",
       "    <tr>\n",
       "      <th>citystate</th>\n",
       "      <th></th>\n",
       "      <th></th>\n",
       "      <th></th>\n",
       "      <th></th>\n",
       "      <th></th>\n",
       "    </tr>\n",
       "  </thead>\n",
       "  <tbody>\n",
       "    <tr>\n",
       "      <th>AbbotsfordWI</th>\n",
       "      <td>19458</td>\n",
       "      <td>0</td>\n",
       "      <td>1</td>\n",
       "      <td>0</td>\n",
       "      <td>1</td>\n",
       "    </tr>\n",
       "    <tr>\n",
       "      <th>AberdeenMD</th>\n",
       "      <td>19380</td>\n",
       "      <td>0</td>\n",
       "      <td>0</td>\n",
       "      <td>2</td>\n",
       "      <td>2</td>\n",
       "    </tr>\n",
       "    <tr>\n",
       "      <th>AberdeenNC</th>\n",
       "      <td>27534</td>\n",
       "      <td>0</td>\n",
       "      <td>0</td>\n",
       "      <td>2</td>\n",
       "      <td>2</td>\n",
       "    </tr>\n",
       "    <tr>\n",
       "      <th>AberdeenNC</th>\n",
       "      <td>27574</td>\n",
       "      <td>0</td>\n",
       "      <td>0</td>\n",
       "      <td>4</td>\n",
       "      <td>4</td>\n",
       "    </tr>\n",
       "    <tr>\n",
       "      <th>AberdeenNC</th>\n",
       "      <td>27586</td>\n",
       "      <td>0</td>\n",
       "      <td>0</td>\n",
       "      <td>4</td>\n",
       "      <td>4</td>\n",
       "    </tr>\n",
       "  </tbody>\n",
       "</table>\n",
       "</div>"
      ],
      "text/plain": [
       "                 id  evdcfastcount  evlevel1evsenum  evlevel2evsenum  ev_total\n",
       "citystate                                                                     \n",
       "AbbotsfordWI  19458              0                1                0         1\n",
       "AberdeenMD    19380              0                0                2         2\n",
       "AberdeenNC    27534              0                0                2         2\n",
       "AberdeenNC    27574              0                0                4         4\n",
       "AberdeenNC    27586              0                0                4         4"
      ]
     },
     "execution_count": 15,
     "metadata": {},
     "output_type": "execute_result"
    }
   ],
   "source": [
    "df_ev_drop2 .head()"
   ]
  },
  {
   "cell_type": "code",
   "execution_count": 16,
   "metadata": {
    "collapsed": true
   },
   "outputs": [],
   "source": [
    "df_ev_pop2 = df_ev_pop.set_index('citystate')"
   ]
  },
  {
   "cell_type": "code",
   "execution_count": 17,
   "metadata": {
    "collapsed": true
   },
   "outputs": [
    {
     "data": {
      "text/html": [
       "<div>\n",
       "<style>\n",
       "    .dataframe thead tr:only-child th {\n",
       "        text-align: right;\n",
       "    }\n",
       "\n",
       "    .dataframe thead th {\n",
       "        text-align: left;\n",
       "    }\n",
       "\n",
       "    .dataframe tbody tr th {\n",
       "        vertical-align: top;\n",
       "    }\n",
       "</style>\n",
       "<table border=\"1\" class=\"dataframe\">\n",
       "  <thead>\n",
       "    <tr style=\"text-align: right;\">\n",
       "      <th></th>\n",
       "      <th>pop</th>\n",
       "    </tr>\n",
       "    <tr>\n",
       "      <th>citystate</th>\n",
       "      <th></th>\n",
       "    </tr>\n",
       "  </thead>\n",
       "  <tbody>\n",
       "    <tr>\n",
       "      <th>AbbevilleAL</th>\n",
       "      <td>2603</td>\n",
       "    </tr>\n",
       "  </tbody>\n",
       "</table>\n",
       "</div>"
      ],
      "text/plain": [
       "              pop\n",
       "citystate        \n",
       "AbbevilleAL  2603"
      ]
     },
     "execution_count": 17,
     "metadata": {},
     "output_type": "execute_result"
    }
   ],
   "source": [
    "df_ev_pop2.head(1)"
   ]
  },
  {
   "cell_type": "markdown",
   "metadata": {},
   "source": [
    "#### merge on 'citystate' to introduce population into the data set"
   ]
  },
  {
   "cell_type": "code",
   "execution_count": 18,
   "metadata": {
    "collapsed": true
   },
   "outputs": [],
   "source": [
    "df_ev_merge = pd.merge(df_ev_drop2, df_ev_pop2, right_index=True, left_index=True)"
   ]
  },
  {
   "cell_type": "code",
   "execution_count": 20,
   "metadata": {},
   "outputs": [
    {
     "data": {
      "text/plain": [
       "(16617, 6)"
      ]
     },
     "execution_count": 20,
     "metadata": {},
     "output_type": "execute_result"
    }
   ],
   "source": [
    "df_ev_merge.shape"
   ]
  },
  {
   "cell_type": "markdown",
   "metadata": {},
   "source": [
    "#### final dataframes config and checks"
   ]
  },
  {
   "cell_type": "code",
   "execution_count": 27,
   "metadata": {},
   "outputs": [],
   "source": [
    "# Reset index for use in model\n",
    "df_ev_config = df_ev_config.reset_index()"
   ]
  },
  {
   "cell_type": "code",
   "execution_count": 152,
   "metadata": {},
   "outputs": [
    {
     "data": {
      "text/html": [
       "<div>\n",
       "<style>\n",
       "    .dataframe thead tr:only-child th {\n",
       "        text-align: right;\n",
       "    }\n",
       "\n",
       "    .dataframe thead th {\n",
       "        text-align: left;\n",
       "    }\n",
       "\n",
       "    .dataframe tbody tr th {\n",
       "        vertical-align: top;\n",
       "    }\n",
       "</style>\n",
       "<table border=\"1\" class=\"dataframe\">\n",
       "  <thead>\n",
       "    <tr style=\"text-align: right;\">\n",
       "      <th></th>\n",
       "      <th>citystate</th>\n",
       "      <th>id</th>\n",
       "      <th>evdcfastcount</th>\n",
       "      <th>evlevel1evsenum</th>\n",
       "      <th>evlevel2evsenum</th>\n",
       "      <th>ev_total</th>\n",
       "      <th>pop</th>\n",
       "      <th>pop_x</th>\n",
       "      <th>id_x</th>\n",
       "    </tr>\n",
       "  </thead>\n",
       "  <tbody>\n",
       "    <tr>\n",
       "      <th>0</th>\n",
       "      <td>AbbotsfordWI</td>\n",
       "      <td>19458</td>\n",
       "      <td>0</td>\n",
       "      <td>1</td>\n",
       "      <td>0</td>\n",
       "      <td>1</td>\n",
       "      <td>2259</td>\n",
       "      <td>2259</td>\n",
       "      <td>19458</td>\n",
       "    </tr>\n",
       "    <tr>\n",
       "      <th>1</th>\n",
       "      <td>AberdeenMD</td>\n",
       "      <td>19380</td>\n",
       "      <td>0</td>\n",
       "      <td>0</td>\n",
       "      <td>2</td>\n",
       "      <td>2</td>\n",
       "      <td>15612</td>\n",
       "      <td>15612</td>\n",
       "      <td>19380</td>\n",
       "    </tr>\n",
       "    <tr>\n",
       "      <th>2</th>\n",
       "      <td>AberdeenNC</td>\n",
       "      <td>27534</td>\n",
       "      <td>0</td>\n",
       "      <td>0</td>\n",
       "      <td>2</td>\n",
       "      <td>2</td>\n",
       "      <td>7502</td>\n",
       "      <td>7502</td>\n",
       "      <td>27534</td>\n",
       "    </tr>\n",
       "    <tr>\n",
       "      <th>3</th>\n",
       "      <td>AberdeenNC</td>\n",
       "      <td>27574</td>\n",
       "      <td>0</td>\n",
       "      <td>0</td>\n",
       "      <td>4</td>\n",
       "      <td>4</td>\n",
       "      <td>7502</td>\n",
       "      <td>7502</td>\n",
       "      <td>27574</td>\n",
       "    </tr>\n",
       "    <tr>\n",
       "      <th>4</th>\n",
       "      <td>AberdeenNC</td>\n",
       "      <td>27586</td>\n",
       "      <td>0</td>\n",
       "      <td>0</td>\n",
       "      <td>4</td>\n",
       "      <td>4</td>\n",
       "      <td>7502</td>\n",
       "      <td>7502</td>\n",
       "      <td>27586</td>\n",
       "    </tr>\n",
       "  </tbody>\n",
       "</table>\n",
       "</div>"
      ],
      "text/plain": [
       "      citystate     id  evdcfastcount  evlevel1evsenum  evlevel2evsenum  \\\n",
       "0  AbbotsfordWI  19458              0                1                0   \n",
       "1    AberdeenMD  19380              0                0                2   \n",
       "2    AberdeenNC  27534              0                0                2   \n",
       "3    AberdeenNC  27574              0                0                4   \n",
       "4    AberdeenNC  27586              0                0                4   \n",
       "\n",
       "   ev_total    pop  pop_x   id_x  \n",
       "0         1   2259   2259  19458  \n",
       "1         2  15612  15612  19380  \n",
       "2         2   7502   7502  27534  \n",
       "3         4   7502   7502  27574  \n",
       "4         4   7502   7502  27586  "
      ]
     },
     "execution_count": 152,
     "metadata": {},
     "output_type": "execute_result"
    }
   ],
   "source": [
    "df_ev_config.head()"
   ]
  },
  {
   "cell_type": "code",
   "execution_count": null,
   "metadata": {
    "collapsed": true
   },
   "outputs": [],
   "source": [
    "\n",
    "# Conversion of 'pop' and 'id' as a new int columns\n"
   ]
  },
  {
   "cell_type": "code",
   "execution_count": 29,
   "metadata": {
    "collapsed": true
   },
   "outputs": [],
   "source": [
    "df_ev_config[('pop_x')] = df_ev_config[('pop')].astype(int)\n",
    "df_ev_config[('id_x')] = df_ev_config[('id')].astype(int)"
   ]
  },
  {
   "cell_type": "markdown",
   "metadata": {},
   "source": [
    "#### population category research"
   ]
  },
  {
   "cell_type": "code",
   "execution_count": 52,
   "metadata": {},
   "outputs": [
    {
     "data": {
      "text/plain": [
       "(1345, 9)"
      ]
     },
     "execution_count": 52,
     "metadata": {},
     "output_type": "execute_result"
    }
   ],
   "source": [
    "df_ev_config[(df_ev_config['pop_x'] >= 75000) & (df_ev_config['pop_x'] <= 100000)].shape"
   ]
  },
  {
   "cell_type": "markdown",
   "metadata": {},
   "source": [
    "#### population entry"
   ]
  },
  {
   "cell_type": "code",
   "execution_count": 53,
   "metadata": {
    "collapsed": true
   },
   "outputs": [],
   "source": [
    "df_ev_final = df_ev_config[(df_ev_config['pop_x'] > 7500) & (df_ev_config['pop_x'] < 15000)]"
   ]
  },
  {
   "cell_type": "code",
   "execution_count": 54,
   "metadata": {},
   "outputs": [
    {
     "data": {
      "text/plain": [
       "(1112, 9)"
      ]
     },
     "execution_count": 54,
     "metadata": {},
     "output_type": "execute_result"
    }
   ],
   "source": [
    "df_ev_final.shape"
   ]
  },
  {
   "cell_type": "markdown",
   "metadata": {},
   "source": [
    "#### individual data frames for each charger type"
   ]
  },
  {
   "cell_type": "markdown",
   "metadata": {},
   "source": [
    "#### 1. Fast dataframe"
   ]
  },
  {
   "cell_type": "code",
   "execution_count": 55,
   "metadata": {
    "collapsed": true
   },
   "outputs": [],
   "source": [
    "df_ev1 = df_ev_final[df_ev_final.evdcfastcount != 0]"
   ]
  },
  {
   "cell_type": "code",
   "execution_count": 56,
   "metadata": {
    "collapsed": true
   },
   "outputs": [
    {
     "name": "stderr",
     "output_type": "stream",
     "text": [
      "C:\\Users\\cmagann\\AppData\\Local\\Continuum\\Anaconda2\\lib\\site-packages\\ipykernel_launcher.py:1: SettingWithCopyWarning: \n",
      "A value is trying to be set on a copy of a slice from a DataFrame.\n",
      "Try using .loc[row_indexer,col_indexer] = value instead\n",
      "\n",
      "See the caveats in the documentation: http://pandas.pydata.org/pandas-docs/stable/indexing.html#indexing-view-versus-copy\n",
      "  \"\"\"Entry point for launching an IPython kernel.\n"
     ]
    }
   ],
   "source": [
    "df_ev1[('pop_x')] = df_ev1[('pop_x')].astype(int)\n",
    "# df_ev1[('id_fast')] = df_ev1[('id_x')].astype(int)"
   ]
  },
  {
   "cell_type": "markdown",
   "metadata": {},
   "source": [
    "#### define new column to divde population by ev type to obtain a more alternative sample size"
   ]
  },
  {
   "cell_type": "code",
   "execution_count": 57,
   "metadata": {
    "collapsed": true
   },
   "outputs": [
    {
     "name": "stderr",
     "output_type": "stream",
     "text": [
      "C:\\Users\\cmagann\\AppData\\Local\\Continuum\\Anaconda2\\lib\\site-packages\\ipykernel_launcher.py:2: SettingWithCopyWarning: \n",
      "A value is trying to be set on a copy of a slice from a DataFrame.\n",
      "Try using .loc[row_indexer,col_indexer] = value instead\n",
      "\n",
      "See the caveats in the documentation: http://pandas.pydata.org/pandas-docs/stable/indexing.html#indexing-view-versus-copy\n",
      "  \n"
     ]
    }
   ],
   "source": [
    "# Takes the total number of chargers per  to one population segment\n",
    "df_ev1['pop_div'] = df_ev1.pop_x / df_ev1.evdcfastcount"
   ]
  },
  {
   "cell_type": "code",
   "execution_count": 58,
   "metadata": {
    "collapsed": true
   },
   "outputs": [
    {
     "name": "stderr",
     "output_type": "stream",
     "text": [
      "C:\\Users\\cmagann\\AppData\\Local\\Continuum\\Anaconda2\\lib\\site-packages\\ipykernel_launcher.py:1: SettingWithCopyWarning: \n",
      "A value is trying to be set on a copy of a slice from a DataFrame.\n",
      "Try using .loc[row_indexer,col_indexer] = value instead\n",
      "\n",
      "See the caveats in the documentation: http://pandas.pydata.org/pandas-docs/stable/indexing.html#indexing-view-versus-copy\n",
      "  \"\"\"Entry point for launching an IPython kernel.\n"
     ]
    }
   ],
   "source": [
    "df_ev1[('pop_div')] = df_ev1[('pop_div')].astype(int)"
   ]
  },
  {
   "cell_type": "markdown",
   "metadata": {},
   "source": [
    "#### features setup"
   ]
  },
  {
   "cell_type": "code",
   "execution_count": 59,
   "metadata": {
    "collapsed": true
   },
   "outputs": [],
   "source": [
    "df_ev_fast = df_ev1.drop(['citystate', 'pop', 'id', 'ev_total'], axis=1)"
   ]
  },
  {
   "cell_type": "code",
   "execution_count": 60,
   "metadata": {
    "collapsed": true
   },
   "outputs": [
    {
     "data": {
      "image/png": "[encoded data removed]",
      "text/plain": [
       "<matplotlib.figure.Figure at 0xdac3b00>"
      ]
     },
     "metadata": {},
     "output_type": "display_data"
    }
   ],
   "source": [
    "# visualize correlation matrix in Seaborn using a heatmap\n",
    "sns.heatmap(df_ev_fast.corr())\n",
    "sns.set(font_scale = 1.5)"
   ]
  },
  {
   "cell_type": "markdown",
   "metadata": {},
   "source": [
    "##### create categories"
   ]
  },
  {
   "cell_type": "code",
   "execution_count": 61,
   "metadata": {
    "collapsed": true
   },
   "outputs": [],
   "source": [
    "fast_x = df_ev_fast.drop(['evdcfastcount'], axis=1)"
   ]
  },
  {
   "cell_type": "code",
   "execution_count": 85,
   "metadata": {
    "collapsed": true
   },
   "outputs": [],
   "source": [
    "fast_y = df_ev_fast.evdcfastcount"
   ]
  },
  {
   "cell_type": "markdown",
   "metadata": {},
   "source": [
    "#### ran multiple scatter plot tests on individual x features"
   ]
  },
  {
   "cell_type": "code",
   "execution_count": 62,
   "metadata": {
    "collapsed": true
   },
   "outputs": [
    {
     "data": {
      "text/plain": [
       "<matplotlib.axes._subplots.AxesSubplot at 0xde52048>"
      ]
     },
     "execution_count": 62,
     "metadata": {},
     "output_type": "execute_result"
    },
    {
     "data": {
      "image/png": "[encoded data removed]",
      "text/plain": [
       "<matplotlib.figure.Figure at 0xddfddd8>"
      ]
     },
     "metadata": {},
     "output_type": "display_data"
    }
   ],
   "source": [
    "sns.set(font_scale = 1)\n",
    "df_ev_fast.plot(kind='scatter', x='id_x', y='evdcfastcount', figsize=(12, 8))"
   ]
  },
  {
   "cell_type": "markdown",
   "metadata": {
    "collapsed": true
   },
   "source": [
    "#### 2. 110 dataframe"
   ]
  },
  {
   "cell_type": "code",
   "execution_count": 64,
   "metadata": {
    "collapsed": true
   },
   "outputs": [],
   "source": [
    "df_ev2 = df_ev_final[df_ev_final.evlevel1evsenum != 0]"
   ]
  },
  {
   "cell_type": "code",
   "execution_count": 65,
   "metadata": {
    "collapsed": true
   },
   "outputs": [
    {
     "name": "stderr",
     "output_type": "stream",
     "text": [
      "C:\\Users\\cmagann\\AppData\\Local\\Continuum\\Anaconda2\\lib\\site-packages\\ipykernel_launcher.py:1: SettingWithCopyWarning: \n",
      "A value is trying to be set on a copy of a slice from a DataFrame.\n",
      "Try using .loc[row_indexer,col_indexer] = value instead\n",
      "\n",
      "See the caveats in the documentation: http://pandas.pydata.org/pandas-docs/stable/indexing.html#indexing-view-versus-copy\n",
      "  \"\"\"Entry point for launching an IPython kernel.\n"
     ]
    }
   ],
   "source": [
    "df_ev2[('pop_x')] = df_ev2[('pop_x')].astype(int)"
   ]
  },
  {
   "cell_type": "code",
   "execution_count": 66,
   "metadata": {
    "collapsed": true
   },
   "outputs": [
    {
     "name": "stderr",
     "output_type": "stream",
     "text": [
      "C:\\Users\\cmagann\\AppData\\Local\\Continuum\\Anaconda2\\lib\\site-packages\\ipykernel_launcher.py:1: SettingWithCopyWarning: \n",
      "A value is trying to be set on a copy of a slice from a DataFrame.\n",
      "Try using .loc[row_indexer,col_indexer] = value instead\n",
      "\n",
      "See the caveats in the documentation: http://pandas.pydata.org/pandas-docs/stable/indexing.html#indexing-view-versus-copy\n",
      "  \"\"\"Entry point for launching an IPython kernel.\n"
     ]
    }
   ],
   "source": [
    "df_ev2['pop_div'] = df_ev2.pop_x / df_ev2.evlevel1evsenum"
   ]
  },
  {
   "cell_type": "code",
   "execution_count": 67,
   "metadata": {
    "collapsed": true
   },
   "outputs": [
    {
     "name": "stderr",
     "output_type": "stream",
     "text": [
      "C:\\Users\\cmagann\\AppData\\Local\\Continuum\\Anaconda2\\lib\\site-packages\\ipykernel_launcher.py:1: SettingWithCopyWarning: \n",
      "A value is trying to be set on a copy of a slice from a DataFrame.\n",
      "Try using .loc[row_indexer,col_indexer] = value instead\n",
      "\n",
      "See the caveats in the documentation: http://pandas.pydata.org/pandas-docs/stable/indexing.html#indexing-view-versus-copy\n",
      "  \"\"\"Entry point for launching an IPython kernel.\n"
     ]
    }
   ],
   "source": [
    "df_ev2[('pop_div')] = df_ev2[('pop_div')].astype(int)"
   ]
  },
  {
   "cell_type": "code",
   "execution_count": 68,
   "metadata": {
    "collapsed": true
   },
   "outputs": [],
   "source": [
    "df_ev_110 = df_ev2.drop(['citystate', 'pop', 'id', 'ev_total'], axis=1)"
   ]
  },
  {
   "cell_type": "code",
   "execution_count": 69,
   "metadata": {
    "collapsed": true
   },
   "outputs": [
    {
     "data": {
      "image/png": "[encoded data removed]",
      "text/plain": [
       "<matplotlib.figure.Figure at 0xdc18eb8>"
      ]
     },
     "metadata": {},
     "output_type": "display_data"
    }
   ],
   "source": [
    "sns.heatmap(df_ev_110.corr())\n",
    "sns.set(font_scale = 1.5)"
   ]
  },
  {
   "cell_type": "code",
   "execution_count": 70,
   "metadata": {
    "collapsed": true
   },
   "outputs": [],
   "source": [
    "x_110 = df_ev_110.drop(['evlevel1evsenum'], axis=1)"
   ]
  },
  {
   "cell_type": "code",
   "execution_count": 71,
   "metadata": {
    "collapsed": true
   },
   "outputs": [],
   "source": [
    "y_110 = df_ev_110.evlevel1evsenum"
   ]
  },
  {
   "cell_type": "code",
   "execution_count": 72,
   "metadata": {
    "collapsed": true
   },
   "outputs": [
    {
     "data": {
      "text/plain": [
       "<matplotlib.axes._subplots.AxesSubplot at 0xdfea048>"
      ]
     },
     "execution_count": 72,
     "metadata": {},
     "output_type": "execute_result"
    },
    {
     "data": {
      "image/png": "[encoded data removed]",
      "text/plain": [
       "<matplotlib.figure.Figure at 0xe032898>"
      ]
     },
     "metadata": {},
     "output_type": "display_data"
    }
   ],
   "source": [
    "sns.set(font_scale = 1)\n",
    "df_ev_110.plot(kind='scatter', x='id_x', y='evlevel1evsenum', figsize=(12, 8))"
   ]
  },
  {
   "cell_type": "markdown",
   "metadata": {
    "collapsed": true
   },
   "source": [
    "#### 3. 220 dataframe"
   ]
  },
  {
   "cell_type": "code",
   "execution_count": 73,
   "metadata": {
    "collapsed": true
   },
   "outputs": [],
   "source": [
    "df_ev3 = df_ev_final[df_ev_final.evlevel2evsenum != 0]"
   ]
  },
  {
   "cell_type": "code",
   "execution_count": 74,
   "metadata": {
    "collapsed": true
   },
   "outputs": [
    {
     "name": "stderr",
     "output_type": "stream",
     "text": [
      "C:\\Users\\cmagann\\AppData\\Local\\Continuum\\Anaconda2\\lib\\site-packages\\ipykernel_launcher.py:1: SettingWithCopyWarning: \n",
      "A value is trying to be set on a copy of a slice from a DataFrame.\n",
      "Try using .loc[row_indexer,col_indexer] = value instead\n",
      "\n",
      "See the caveats in the documentation: http://pandas.pydata.org/pandas-docs/stable/indexing.html#indexing-view-versus-copy\n",
      "  \"\"\"Entry point for launching an IPython kernel.\n"
     ]
    }
   ],
   "source": [
    "df_ev3[('pop_x')] = df_ev3[('pop_x')].astype(int)"
   ]
  },
  {
   "cell_type": "code",
   "execution_count": 75,
   "metadata": {
    "collapsed": true
   },
   "outputs": [
    {
     "name": "stderr",
     "output_type": "stream",
     "text": [
      "C:\\Users\\cmagann\\AppData\\Local\\Continuum\\Anaconda2\\lib\\site-packages\\ipykernel_launcher.py:1: SettingWithCopyWarning: \n",
      "A value is trying to be set on a copy of a slice from a DataFrame.\n",
      "Try using .loc[row_indexer,col_indexer] = value instead\n",
      "\n",
      "See the caveats in the documentation: http://pandas.pydata.org/pandas-docs/stable/indexing.html#indexing-view-versus-copy\n",
      "  \"\"\"Entry point for launching an IPython kernel.\n"
     ]
    }
   ],
   "source": [
    "df_ev3['pop_div'] = df_ev3.pop_x / df_ev3.evlevel2evsenum"
   ]
  },
  {
   "cell_type": "code",
   "execution_count": 76,
   "metadata": {
    "collapsed": true
   },
   "outputs": [
    {
     "name": "stderr",
     "output_type": "stream",
     "text": [
      "C:\\Users\\cmagann\\AppData\\Local\\Continuum\\Anaconda2\\lib\\site-packages\\ipykernel_launcher.py:1: SettingWithCopyWarning: \n",
      "A value is trying to be set on a copy of a slice from a DataFrame.\n",
      "Try using .loc[row_indexer,col_indexer] = value instead\n",
      "\n",
      "See the caveats in the documentation: http://pandas.pydata.org/pandas-docs/stable/indexing.html#indexing-view-versus-copy\n",
      "  \"\"\"Entry point for launching an IPython kernel.\n"
     ]
    }
   ],
   "source": [
    "df_ev3[('pop_div')] = df_ev3[('pop_div')].astype(int)"
   ]
  },
  {
   "cell_type": "code",
   "execution_count": 77,
   "metadata": {
    "collapsed": true
   },
   "outputs": [],
   "source": [
    "df_ev_220 = df_ev3.drop(['citystate', 'pop', 'id', 'ev_total'], axis=1)"
   ]
  },
  {
   "cell_type": "code",
   "execution_count": 78,
   "metadata": {
    "collapsed": true
   },
   "outputs": [
    {
     "data": {
      "image/png": "[encoded data removed]",
      "text/plain": [
       "<matplotlib.figure.Figure at 0xe0324e0>"
      ]
     },
     "metadata": {},
     "output_type": "display_data"
    }
   ],
   "source": [
    "sns.heatmap(df_ev_220.corr())\n",
    "sns.set(font_scale = 1.5)"
   ]
  },
  {
   "cell_type": "code",
   "execution_count": 79,
   "metadata": {
    "collapsed": true
   },
   "outputs": [],
   "source": [
    "x_220 = df_ev_220.drop(['evlevel2evsenum'], axis=1)"
   ]
  },
  {
   "cell_type": "code",
   "execution_count": 80,
   "metadata": {
    "collapsed": true
   },
   "outputs": [],
   "source": [
    "y_220 = df_ev_220.evlevel2evsenum"
   ]
  },
  {
   "cell_type": "code",
   "execution_count": 81,
   "metadata": {
    "collapsed": true
   },
   "outputs": [
    {
     "data": {
      "text/plain": [
       "<matplotlib.axes._subplots.AxesSubplot at 0xe09e550>"
      ]
     },
     "execution_count": 81,
     "metadata": {},
     "output_type": "execute_result"
    },
    {
     "data": {
      "image/png": "[encoded data removed]",
      "text/plain": [
       "<matplotlib.figure.Figure at 0xdf5d860>"
      ]
     },
     "metadata": {},
     "output_type": "display_data"
    }
   ],
   "source": [
    "sns.set(font_scale = 1)\n",
    "df_ev_220.plot(kind='scatter', x='id_x', y='evlevel2evsenum', figsize=(12, 8))"
   ]
  },
  {
   "cell_type": "markdown",
   "metadata": {
    "collapsed": true
   },
   "source": [
    "#### Model Prep"
   ]
  },
  {
   "cell_type": "code",
   "execution_count": 83,
   "metadata": {
    "collapsed": true
   },
   "outputs": [
    {
     "name": "stderr",
     "output_type": "stream",
     "text": [
      "C:\\Users\\cmagann\\AppData\\Local\\Continuum\\Anaconda2\\lib\\site-packages\\sklearn\\cross_validation.py:44: DeprecationWarning: This module was deprecated in version 0.18 in favor of the model_selection module into which all the refactored classes and functions are moved. Also note that the interface of the new CV iterators are different from that of this module. This module will be removed in 0.20.\n",
      "  \"This module will be removed in 0.20.\", DeprecationWarning)\n"
     ]
    }
   ],
   "source": [
    "from sklearn.linear_model import LinearRegression\n",
    "from sklearn.metrics import mean_absolute_error,mean_squared_error,r2_score\n",
    "from sklearn import linear_model, metrics\n",
    "import numpy as np\n",
    "from math import sqrt\n",
    "from sklearn.model_selection import train_test_split\n",
    "from sklearn.cross_validation import KFold"
   ]
  },
  {
   "cell_type": "markdown",
   "metadata": {},
   "source": [
    "#### Fast Charger Model Build"
   ]
  },
  {
   "cell_type": "markdown",
   "metadata": {},
   "source": [
    "Notes: "
   ]
  },
  {
   "cell_type": "code",
   "execution_count": 86,
   "metadata": {},
   "outputs": [
    {
     "data": {
      "text/plain": [
       "[('evlevel1evsenum', 0.0),\n",
       " ('evlevel2evsenum', -0.12769546612118335),\n",
       " ('pop_x', 0.00026391300865217181),\n",
       " ('id_x', 4.9267316909418322e-07),\n",
       " ('pop_div', -0.00059109237692997864)]"
      ]
     },
     "execution_count": 86,
     "metadata": {},
     "output_type": "execute_result"
    }
   ],
   "source": [
    "# instantiate, fit\n",
    "lr = LinearRegression()\n",
    "lr.fit(fast_x, fast_y)\n",
    "\n",
    "# print coefficients\n",
    "zip(fast_x, lr.coef_)"
   ]
  },
  {
   "cell_type": "code",
   "execution_count": 87,
   "metadata": {},
   "outputs": [
    {
     "data": {
      "text/plain": [
       "0.67178244245206686"
      ]
     },
     "execution_count": 87,
     "metadata": {},
     "output_type": "execute_result"
    }
   ],
   "source": [
    "# calculate the R-squared\n",
    "lr.score(fast_x, fast_y)"
   ]
  },
  {
   "cell_type": "code",
   "execution_count": 88,
   "metadata": {
    "collapsed": true
   },
   "outputs": [
    {
     "data": {
      "text/plain": [
       "array([ 3.52936832,  5.23360452,  3.57169682,  0.48186215,  3.24712532,\n",
       "        5.4403981 ,  5.67223507,  5.37426523,  3.38476602,  6.59023735,\n",
       "        3.42980705,  3.22665053,  3.23975109,  3.5768233 ,  5.22719118,\n",
       "       -0.88170458, -1.00815654,  3.50825268,  5.47795174,  0.81768944,\n",
       "        5.80484314,  4.68818097,  3.421448  ,  5.80352773,  3.53680296,\n",
       "        3.48734968,  5.00058271,  1.07118694,  5.05879339,  1.35488011,\n",
       "        4.9603946 ,  0.50871646,  0.38141365,  3.31996117,  0.5922082 ,\n",
       "       -0.88434533,  5.90770044,  3.31859215,  3.48643507,  6.11848089,\n",
       "        3.5707803 ,  3.29497757,  3.43520709,  3.36170053,  2.98440797,\n",
       "        0.25685974,  0.80969736,  3.43566646,  6.1164833 ,  3.30299505,\n",
       "        3.43358793,  5.46555159,  5.10131001,  6.23605565,  3.28979165,\n",
       "        1.16893636,  3.51824958, -0.16646616,  3.43273671,  5.81922857,\n",
       "        3.52549012, -0.72198   ,  5.84550414,  0.9404447 ,  6.34039777,\n",
       "        3.52930928,  0.02239024, -0.46591728,  0.83521981,  5.4757389 ,\n",
       "        5.16348477,  5.09893369,  5.35485971, -1.14326149,  5.78059308,\n",
       "        5.33609406,  3.34648209,  4.84959634,  6.10735237,  0.73584237,\n",
       "        0.86668602,  3.5253878 ,  5.09456969,  0.36015832,  3.55909876,\n",
       "        3.39032176,  3.58101062,  0.28602396,  3.36278793,  5.26270665,\n",
       "        0.26269129,  3.42546418, -0.39122982,  0.44578655,  5.69799627,\n",
       "        1.13717831,  5.06017191,  3.55935836,  3.52919148,  5.40692259,\n",
       "        4.71013162,  0.83357235,  4.77499105,  3.41340153,  3.33489964,\n",
       "        5.90759809,  3.44537211,  3.44537556,  4.71060953,  0.20054217,\n",
       "        3.40679804,  3.32294864,  3.24009305,  5.14056458,  3.43163449,\n",
       "       -0.98974443,  6.17409246,  5.38706322, -0.61648423,  5.86213757,\n",
       "        0.04275593,  6.29431897,  3.46683733,  5.20833935,  5.1559047 ,\n",
       "        3.41876064, -0.73874814,  3.49982892,  5.7958297 ,  1.67082819,\n",
       "        3.4174355 ,  4.72834922,  0.32865733,  3.42231034,  5.98504802,\n",
       "        3.35770501,  5.15624545,  1.33041421])"
      ]
     },
     "execution_count": 88,
     "metadata": {},
     "output_type": "execute_result"
    }
   ],
   "source": [
    "lr.predict(fast_x)"
   ]
  },
  {
   "cell_type": "code",
   "execution_count": 89,
   "metadata": {},
   "outputs": [
    {
     "data": {
      "text/plain": [
       "3.3188405797101446"
      ]
     },
     "execution_count": 89,
     "metadata": {},
     "output_type": "execute_result"
    }
   ],
   "source": [
    "lr.predict(fast_x).mean()"
   ]
  },
  {
   "cell_type": "code",
   "execution_count": 90,
   "metadata": {
    "collapsed": true
   },
   "outputs": [],
   "source": [
    "# Training setup, with random state\n",
    "training_data,holdout = train_test_split(df_ev_fast,test_size=0.5,random_state=123)"
   ]
  },
  {
   "cell_type": "code",
   "execution_count": 116,
   "metadata": {
    "collapsed": true
   },
   "outputs": [],
   "source": [
    "# KFold setup (ran folds at 5, switched to 3, then 2 for smaller dataset and received improved results)\n",
    "n_fast = training_data.shape[0]\n",
    "kf_fast = KFold(fast_x.shape[0],n_folds=2,random_state=1)"
   ]
  },
  {
   "cell_type": "code",
   "execution_count": 117,
   "metadata": {
    "collapsed": true
   },
   "outputs": [],
   "source": [
    "### DEFINE X AND Y\n",
    "\n",
    "MAE_score = []\n",
    "MSE_score = []\n",
    "R2_scores = []\n",
    "RMSE_score = []\n",
    "\n",
    "# Use K-Folds cross validation to train your model / kfolds loop (define scores in the loop)\n",
    "# Fill-in the kfolds-loop:\n",
    "# use iloc with scikit\n",
    "\n",
    "for train_index, test_index in kf_fast:\n",
    "    #print(\"TRAIN:\", train_index, \"TEST:\", test_index)\n",
    "    x_train, x_test = fast_x.iloc[train_index], fast_x.iloc[test_index]\n",
    "    y_train, y_true = fast_y.iloc[train_index], fast_y.iloc[test_index] \n",
    "    \n",
    "    # Fit your model on your training x and training y\n",
    "    lr.fit(x_train,y_train)\n",
    "    y_preds = lr.predict(x_test)\n",
    "    \n",
    "    fold_score_fast1 = mean_squared_error(y_true,y_preds)\n",
    "    MSE_score.append(fold_score_fast1)\n",
    "    \n",
    "    fold_score_fast2 = mean_absolute_error(y_true,y_preds)\n",
    "    MAE_score.append(fold_score_fast2)\n",
    "    \n",
    "    fold_score_fast3 = r2_score(y_true,y_preds)\n",
    "    R2_scores.append(fold_score_fast3)\n",
    "    \n",
    "    fold_score_fast4 = sqrt(mean_squared_error(y_true,y_preds))\n",
    "    RMSE_score.append(fold_score_fast4)\n"
   ]
  },
  {
   "cell_type": "code",
   "execution_count": 118,
   "metadata": {},
   "outputs": [
    {
     "data": {
      "text/plain": [
       "[('evlevel1evsenum', 0.0),\n",
       " ('evlevel2evsenum', -0.45660334647158113),\n",
       " ('pop_x', 0.00032756230781667167),\n",
       " ('id_x', -3.2613021144044492e-06),\n",
       " ('pop_div', -0.00056925130812441281)]"
      ]
     },
     "execution_count": 118,
     "metadata": {},
     "output_type": "execute_result"
    }
   ],
   "source": [
    "zip(fast_x, lr.coef_)"
   ]
  },
  {
   "cell_type": "code",
   "execution_count": 119,
   "metadata": {},
   "outputs": [
    {
     "data": {
      "text/plain": [
       "array([ 5.3035604 ,  4.99276055,  4.64972776,  5.11864643, -2.05161973,\n",
       "        5.87396014,  5.12553936,  3.12251368,  4.74230444,  6.33360875,\n",
       "        0.48477172,  0.92053534,  3.47117541,  5.09572721,  0.16211418,\n",
       "        3.42280779,  3.66611672,  3.38496175,  0.12561473,  3.68724409,\n",
       "        5.01598541,  0.13802601,  2.98554351, -0.34102645,  0.27179302,\n",
       "        5.60723755,  1.07764034,  5.0368791 ,  3.41942469,  3.47129883,\n",
       "        5.2281361 ,  4.53416911,  0.55286155,  4.58948266,  3.65150166,\n",
       "        3.13459749,  5.90366458,  3.58860948,  3.58858665,  4.48695283,\n",
       "        0.10163603,  3.62663156,  3.10650652,  2.62500365,  5.16524677,\n",
       "        3.59605993, -0.78720515,  6.42930863,  5.23222912, -0.54961718,\n",
       "        5.82489822,  0.29572195,  6.29258782,  3.54514106,  5.05220593,\n",
       "        4.9712497 ,  3.02318283, -0.60456627,  3.51677288,  5.87872352,\n",
       "       -2.81285278,  3.60874097,  4.54888441,  0.18526184,  3.61550067,\n",
       "        6.16348046,  3.69684342,  4.9648449 ,  1.24780235])"
      ]
     },
     "execution_count": 119,
     "metadata": {},
     "output_type": "execute_result"
    }
   ],
   "source": [
    "lr.predict(x_test)"
   ]
  },
  {
   "cell_type": "code",
   "execution_count": 120,
   "metadata": {},
   "outputs": [
    {
     "data": {
      "text/plain": [
       "3.2628066460378951"
      ]
     },
     "execution_count": 120,
     "metadata": {},
     "output_type": "execute_result"
    }
   ],
   "source": [
    "lr.predict(x_test).mean()"
   ]
  },
  {
   "cell_type": "code",
   "execution_count": 121,
   "metadata": {},
   "outputs": [
    {
     "data": {
      "text/plain": [
       "3.2628066460378951"
      ]
     },
     "execution_count": 121,
     "metadata": {},
     "output_type": "execute_result"
    }
   ],
   "source": [
    "y_preds.mean()"
   ]
  },
  {
   "cell_type": "code",
   "execution_count": 122,
   "metadata": {},
   "outputs": [
    {
     "data": {
      "text/plain": [
       "3.463768115942029"
      ]
     },
     "execution_count": 122,
     "metadata": {},
     "output_type": "execute_result"
    }
   ],
   "source": [
    "y_true.mean()"
   ]
  },
  {
   "cell_type": "code",
   "execution_count": 123,
   "metadata": {},
   "outputs": [
    {
     "data": {
      "text/plain": [
       "[2.0226425285955671, 2.9158827344069844]"
      ]
     },
     "execution_count": 123,
     "metadata": {},
     "output_type": "execute_result"
    }
   ],
   "source": [
    "# mean squared error\n",
    "MSE_score"
   ]
  },
  {
   "cell_type": "code",
   "execution_count": 124,
   "metadata": {},
   "outputs": [
    {
     "data": {
      "text/plain": [
       "[1.2689203120140446, 1.379395674328052]"
      ]
     },
     "execution_count": 124,
     "metadata": {},
     "output_type": "execute_result"
    }
   ],
   "source": [
    "# mean absolute error\n",
    "MAE_score"
   ]
  },
  {
   "cell_type": "code",
   "execution_count": 125,
   "metadata": {},
   "outputs": [
    {
     "data": {
      "text/plain": [
       "[1.4221963748356157, 1.7075956003711723]"
      ]
     },
     "execution_count": 125,
     "metadata": {},
     "output_type": "execute_result"
    }
   ],
   "source": [
    "# root squared mean error\n",
    "RMSE_score"
   ]
  },
  {
   "cell_type": "code",
   "execution_count": 126,
   "metadata": {},
   "outputs": [
    {
     "data": {
      "text/plain": [
       "[0.67983904918400495, 0.57478198669101777]"
      ]
     },
     "execution_count": 126,
     "metadata": {},
     "output_type": "execute_result"
    }
   ],
   "source": [
    "# root squared\n",
    "R2_scores"
   ]
  },
  {
   "cell_type": "code",
   "execution_count": 127,
   "metadata": {},
   "outputs": [
    {
     "data": {
      "text/plain": [
       "3.1453888757114772"
      ]
     },
     "execution_count": 127,
     "metadata": {},
     "output_type": "execute_result"
    }
   ],
   "source": [
    "# normalize view\n",
    "lr.intercept_"
   ]
  },
  {
   "cell_type": "code",
   "execution_count": 128,
   "metadata": {},
   "outputs": [
    {
     "data": {
      "text/plain": [
       "[5.3035603992406539,\n",
       " 4.9927605538039934,\n",
       " 4.6497277603609541,\n",
       " 5.1186464263261868,\n",
       " -2.0516197250947803]"
      ]
     },
     "execution_count": 128,
     "metadata": {},
     "output_type": "execute_result"
    }
   ],
   "source": [
    "list(lr.predict(x_test)[0:5]) "
   ]
  },
  {
   "cell_type": "code",
   "execution_count": null,
   "metadata": {
    "collapsed": true
   },
   "outputs": [],
   "source": [
    "# Holdout Testing"
   ]
  },
  {
   "cell_type": "code",
   "execution_count": 129,
   "metadata": {
    "collapsed": true
   },
   "outputs": [],
   "source": [
    "# Training setup\n",
    "training_data = holdout"
   ]
  },
  {
   "cell_type": "code",
   "execution_count": 130,
   "metadata": {
    "collapsed": true
   },
   "outputs": [
    {
     "data": {
      "text/html": [
       "<div>\n",
       "<style>\n",
       "    .dataframe thead tr:only-child th {\n",
       "        text-align: right;\n",
       "    }\n",
       "\n",
       "    .dataframe thead th {\n",
       "        text-align: left;\n",
       "    }\n",
       "\n",
       "    .dataframe tbody tr th {\n",
       "        vertical-align: top;\n",
       "    }\n",
       "</style>\n",
       "<table border=\"1\" class=\"dataframe\">\n",
       "  <thead>\n",
       "    <tr style=\"text-align: right;\">\n",
       "      <th></th>\n",
       "      <th>evdcfastcount</th>\n",
       "      <th>evlevel1evsenum</th>\n",
       "      <th>evlevel2evsenum</th>\n",
       "      <th>pop_x</th>\n",
       "      <th>id_x</th>\n",
       "      <th>pop_div</th>\n",
       "    </tr>\n",
       "  </thead>\n",
       "  <tbody>\n",
       "    <tr>\n",
       "      <th>12420</th>\n",
       "      <td>1</td>\n",
       "      <td>0</td>\n",
       "      <td>1</td>\n",
       "      <td>8710</td>\n",
       "      <td>9448</td>\n",
       "      <td>8710</td>\n",
       "    </tr>\n",
       "    <tr>\n",
       "      <th>10977</th>\n",
       "      <td>8</td>\n",
       "      <td>0</td>\n",
       "      <td>0</td>\n",
       "      <td>7599</td>\n",
       "      <td>24018</td>\n",
       "      <td>949</td>\n",
       "    </tr>\n",
       "    <tr>\n",
       "      <th>13787</th>\n",
       "      <td>2</td>\n",
       "      <td>0</td>\n",
       "      <td>1</td>\n",
       "      <td>11005</td>\n",
       "      <td>8276</td>\n",
       "      <td>5502</td>\n",
       "    </tr>\n",
       "    <tr>\n",
       "      <th>16598</th>\n",
       "      <td>1</td>\n",
       "      <td>0</td>\n",
       "      <td>0</td>\n",
       "      <td>7596</td>\n",
       "      <td>18924</td>\n",
       "      <td>7596</td>\n",
       "    </tr>\n",
       "    <tr>\n",
       "      <th>523</th>\n",
       "      <td>2</td>\n",
       "      <td>0</td>\n",
       "      <td>1</td>\n",
       "      <td>13748</td>\n",
       "      <td>6837</td>\n",
       "      <td>6874</td>\n",
       "    </tr>\n",
       "  </tbody>\n",
       "</table>\n",
       "</div>"
      ],
      "text/plain": [
       "       evdcfastcount  evlevel1evsenum  evlevel2evsenum  pop_x   id_x  pop_div\n",
       "12420              1                0                1   8710   9448     8710\n",
       "10977              8                0                0   7599  24018      949\n",
       "13787              2                0                1  11005   8276     5502\n",
       "16598              1                0                0   7596  18924     7596\n",
       "523                2                0                1  13748   6837     6874"
      ]
     },
     "execution_count": 130,
     "metadata": {},
     "output_type": "execute_result"
    }
   ],
   "source": [
    "holdout.head()"
   ]
  },
  {
   "cell_type": "code",
   "execution_count": 131,
   "metadata": {
    "collapsed": true
   },
   "outputs": [
    {
     "data": {
      "text/plain": [
       "evdcfastcount      int32\n",
       "evlevel1evsenum    int32\n",
       "evlevel2evsenum    int32\n",
       "pop_x              int32\n",
       "id_x               int32\n",
       "pop_div            int32\n",
       "dtype: object"
      ]
     },
     "execution_count": 131,
     "metadata": {},
     "output_type": "execute_result"
    }
   ],
   "source": [
    "holdout.dtypes"
   ]
  },
  {
   "cell_type": "code",
   "execution_count": 132,
   "metadata": {
    "collapsed": true
   },
   "outputs": [
    {
     "ename": "ValueError",
     "evalue": "Must pass DataFrame with boolean values only",
     "output_type": "error",
     "traceback": [
      "\u001b[1;31m---------------------------------------------------------------------------\u001b[0m",
      "\u001b[1;31mValueError\u001b[0m                                Traceback (most recent call last)",
      "\u001b[1;32m<ipython-input-132-39a6145ebbb0>\u001b[0m in \u001b[0;36m<module>\u001b[1;34m()\u001b[0m\n\u001b[0;32m      1\u001b[0m \u001b[1;31m# Error on fast_x set > Must pass DataFrame with boolean values only\u001b[0m\u001b[1;33m\u001b[0m\u001b[1;33m\u001b[0m\u001b[0m\n\u001b[1;32m----> 2\u001b[1;33m \u001b[0mfast_x\u001b[0m \u001b[1;33m=\u001b[0m \u001b[0mholdout\u001b[0m\u001b[1;33m[\u001b[0m\u001b[0mfast_x\u001b[0m\u001b[1;33m]\u001b[0m\u001b[1;33m\u001b[0m\u001b[0m\n\u001b[0m\u001b[0;32m      3\u001b[0m \u001b[0mfast_y\u001b[0m \u001b[1;33m=\u001b[0m \u001b[0mholdout\u001b[0m\u001b[1;33m[\u001b[0m\u001b[0mfast_y\u001b[0m\u001b[1;33m]\u001b[0m\u001b[1;33m\u001b[0m\u001b[0m\n",
      "\u001b[1;32mC:\\Users\\cmagann\\AppData\\Local\\Continuum\\Anaconda2\\lib\\site-packages\\pandas\\core\\frame.pyc\u001b[0m in \u001b[0;36m__getitem__\u001b[1;34m(self, key)\u001b[0m\n\u001b[0;32m   2056\u001b[0m             \u001b[1;32mreturn\u001b[0m \u001b[0mself\u001b[0m\u001b[1;33m.\u001b[0m\u001b[0m_getitem_array\u001b[0m\u001b[1;33m(\u001b[0m\u001b[0mkey\u001b[0m\u001b[1;33m)\u001b[0m\u001b[1;33m\u001b[0m\u001b[0m\n\u001b[0;32m   2057\u001b[0m         \u001b[1;32melif\u001b[0m \u001b[0misinstance\u001b[0m\u001b[1;33m(\u001b[0m\u001b[0mkey\u001b[0m\u001b[1;33m,\u001b[0m \u001b[0mDataFrame\u001b[0m\u001b[1;33m)\u001b[0m\u001b[1;33m:\u001b[0m\u001b[1;33m\u001b[0m\u001b[0m\n\u001b[1;32m-> 2058\u001b[1;33m             \u001b[1;32mreturn\u001b[0m \u001b[0mself\u001b[0m\u001b[1;33m.\u001b[0m\u001b[0m_getitem_frame\u001b[0m\u001b[1;33m(\u001b[0m\u001b[0mkey\u001b[0m\u001b[1;33m)\u001b[0m\u001b[1;33m\u001b[0m\u001b[0m\n\u001b[0m\u001b[0;32m   2059\u001b[0m         \u001b[1;32melif\u001b[0m \u001b[0mis_mi_columns\u001b[0m\u001b[1;33m:\u001b[0m\u001b[1;33m\u001b[0m\u001b[0m\n\u001b[0;32m   2060\u001b[0m             \u001b[1;32mreturn\u001b[0m \u001b[0mself\u001b[0m\u001b[1;33m.\u001b[0m\u001b[0m_getitem_multilevel\u001b[0m\u001b[1;33m(\u001b[0m\u001b[0mkey\u001b[0m\u001b[1;33m)\u001b[0m\u001b[1;33m\u001b[0m\u001b[0m\n",
      "\u001b[1;32mC:\\Users\\cmagann\\AppData\\Local\\Continuum\\Anaconda2\\lib\\site-packages\\pandas\\core\\frame.pyc\u001b[0m in \u001b[0;36m_getitem_frame\u001b[1;34m(self, key)\u001b[0m\n\u001b[0;32m   2131\u001b[0m     \u001b[1;32mdef\u001b[0m \u001b[0m_getitem_frame\u001b[0m\u001b[1;33m(\u001b[0m\u001b[0mself\u001b[0m\u001b[1;33m,\u001b[0m \u001b[0mkey\u001b[0m\u001b[1;33m)\u001b[0m\u001b[1;33m:\u001b[0m\u001b[1;33m\u001b[0m\u001b[0m\n\u001b[0;32m   2132\u001b[0m         \u001b[1;32mif\u001b[0m \u001b[0mkey\u001b[0m\u001b[1;33m.\u001b[0m\u001b[0mvalues\u001b[0m\u001b[1;33m.\u001b[0m\u001b[0msize\u001b[0m \u001b[1;32mand\u001b[0m \u001b[1;32mnot\u001b[0m \u001b[0mis_bool_dtype\u001b[0m\u001b[1;33m(\u001b[0m\u001b[0mkey\u001b[0m\u001b[1;33m.\u001b[0m\u001b[0mvalues\u001b[0m\u001b[1;33m)\u001b[0m\u001b[1;33m:\u001b[0m\u001b[1;33m\u001b[0m\u001b[0m\n\u001b[1;32m-> 2133\u001b[1;33m             \u001b[1;32mraise\u001b[0m \u001b[0mValueError\u001b[0m\u001b[1;33m(\u001b[0m\u001b[1;34m'Must pass DataFrame with boolean values only'\u001b[0m\u001b[1;33m)\u001b[0m\u001b[1;33m\u001b[0m\u001b[0m\n\u001b[0m\u001b[0;32m   2134\u001b[0m         \u001b[1;32mreturn\u001b[0m \u001b[0mself\u001b[0m\u001b[1;33m.\u001b[0m\u001b[0mwhere\u001b[0m\u001b[1;33m(\u001b[0m\u001b[0mkey\u001b[0m\u001b[1;33m)\u001b[0m\u001b[1;33m\u001b[0m\u001b[0m\n\u001b[0;32m   2135\u001b[0m \u001b[1;33m\u001b[0m\u001b[0m\n",
      "\u001b[1;31mValueError\u001b[0m: Must pass DataFrame with boolean values only"
     ]
    }
   ],
   "source": [
    "# Error on fast_x set > Must pass DataFrame with boolean values only\n",
    "fast_x = holdout[fast_x]\n",
    "fast_y = holdout[fast_y]"
   ]
  },
  {
   "cell_type": "code",
   "execution_count": 133,
   "metadata": {
    "collapsed": true
   },
   "outputs": [
    {
     "ename": "ValueError",
     "evalue": "Must pass DataFrame with boolean values only",
     "output_type": "error",
     "traceback": [
      "\u001b[1;31m---------------------------------------------------------------------------\u001b[0m",
      "\u001b[1;31mValueError\u001b[0m                                Traceback (most recent call last)",
      "\u001b[1;32m<ipython-input-133-8e00c3cbaf76>\u001b[0m in \u001b[0;36m<module>\u001b[1;34m()\u001b[0m\n\u001b[1;32m----> 1\u001b[1;33m \u001b[0mholdout\u001b[0m\u001b[1;33m[\u001b[0m\u001b[0mfast_x\u001b[0m\u001b[1;33m]\u001b[0m\u001b[1;33m.\u001b[0m\u001b[0mhead\u001b[0m\u001b[1;33m(\u001b[0m\u001b[1;33m)\u001b[0m\u001b[1;33m\u001b[0m\u001b[0m\n\u001b[0m",
      "\u001b[1;32mC:\\Users\\cmagann\\AppData\\Local\\Continuum\\Anaconda2\\lib\\site-packages\\pandas\\core\\frame.pyc\u001b[0m in \u001b[0;36m__getitem__\u001b[1;34m(self, key)\u001b[0m\n\u001b[0;32m   2056\u001b[0m             \u001b[1;32mreturn\u001b[0m \u001b[0mself\u001b[0m\u001b[1;33m.\u001b[0m\u001b[0m_getitem_array\u001b[0m\u001b[1;33m(\u001b[0m\u001b[0mkey\u001b[0m\u001b[1;33m)\u001b[0m\u001b[1;33m\u001b[0m\u001b[0m\n\u001b[0;32m   2057\u001b[0m         \u001b[1;32melif\u001b[0m \u001b[0misinstance\u001b[0m\u001b[1;33m(\u001b[0m\u001b[0mkey\u001b[0m\u001b[1;33m,\u001b[0m \u001b[0mDataFrame\u001b[0m\u001b[1;33m)\u001b[0m\u001b[1;33m:\u001b[0m\u001b[1;33m\u001b[0m\u001b[0m\n\u001b[1;32m-> 2058\u001b[1;33m             \u001b[1;32mreturn\u001b[0m \u001b[0mself\u001b[0m\u001b[1;33m.\u001b[0m\u001b[0m_getitem_frame\u001b[0m\u001b[1;33m(\u001b[0m\u001b[0mkey\u001b[0m\u001b[1;33m)\u001b[0m\u001b[1;33m\u001b[0m\u001b[0m\n\u001b[0m\u001b[0;32m   2059\u001b[0m         \u001b[1;32melif\u001b[0m \u001b[0mis_mi_columns\u001b[0m\u001b[1;33m:\u001b[0m\u001b[1;33m\u001b[0m\u001b[0m\n\u001b[0;32m   2060\u001b[0m             \u001b[1;32mreturn\u001b[0m \u001b[0mself\u001b[0m\u001b[1;33m.\u001b[0m\u001b[0m_getitem_multilevel\u001b[0m\u001b[1;33m(\u001b[0m\u001b[0mkey\u001b[0m\u001b[1;33m)\u001b[0m\u001b[1;33m\u001b[0m\u001b[0m\n",
      "\u001b[1;32mC:\\Users\\cmagann\\AppData\\Local\\Continuum\\Anaconda2\\lib\\site-packages\\pandas\\core\\frame.pyc\u001b[0m in \u001b[0;36m_getitem_frame\u001b[1;34m(self, key)\u001b[0m\n\u001b[0;32m   2131\u001b[0m     \u001b[1;32mdef\u001b[0m \u001b[0m_getitem_frame\u001b[0m\u001b[1;33m(\u001b[0m\u001b[0mself\u001b[0m\u001b[1;33m,\u001b[0m \u001b[0mkey\u001b[0m\u001b[1;33m)\u001b[0m\u001b[1;33m:\u001b[0m\u001b[1;33m\u001b[0m\u001b[0m\n\u001b[0;32m   2132\u001b[0m         \u001b[1;32mif\u001b[0m \u001b[0mkey\u001b[0m\u001b[1;33m.\u001b[0m\u001b[0mvalues\u001b[0m\u001b[1;33m.\u001b[0m\u001b[0msize\u001b[0m \u001b[1;32mand\u001b[0m \u001b[1;32mnot\u001b[0m \u001b[0mis_bool_dtype\u001b[0m\u001b[1;33m(\u001b[0m\u001b[0mkey\u001b[0m\u001b[1;33m.\u001b[0m\u001b[0mvalues\u001b[0m\u001b[1;33m)\u001b[0m\u001b[1;33m:\u001b[0m\u001b[1;33m\u001b[0m\u001b[0m\n\u001b[1;32m-> 2133\u001b[1;33m             \u001b[1;32mraise\u001b[0m \u001b[0mValueError\u001b[0m\u001b[1;33m(\u001b[0m\u001b[1;34m'Must pass DataFrame with boolean values only'\u001b[0m\u001b[1;33m)\u001b[0m\u001b[1;33m\u001b[0m\u001b[0m\n\u001b[0m\u001b[0;32m   2134\u001b[0m         \u001b[1;32mreturn\u001b[0m \u001b[0mself\u001b[0m\u001b[1;33m.\u001b[0m\u001b[0mwhere\u001b[0m\u001b[1;33m(\u001b[0m\u001b[0mkey\u001b[0m\u001b[1;33m)\u001b[0m\u001b[1;33m\u001b[0m\u001b[0m\n\u001b[0;32m   2135\u001b[0m \u001b[1;33m\u001b[0m\u001b[0m\n",
      "\u001b[1;31mValueError\u001b[0m: Must pass DataFrame with boolean values only"
     ]
    }
   ],
   "source": [
    "holdout[fast_x].head()"
   ]
  },
  {
   "cell_type": "code",
   "execution_count": 134,
   "metadata": {},
   "outputs": [
    {
     "data": {
      "text/plain": [
       "3.2183598447580777"
      ]
     },
     "execution_count": 134,
     "metadata": {},
     "output_type": "execute_result"
    }
   ],
   "source": [
    "lr.predict(fast_x).mean()"
   ]
  },
  {
   "cell_type": "markdown",
   "metadata": {
    "collapsed": true
   },
   "source": [
    "#### grid search"
   ]
  },
  {
   "cell_type": "code",
   "execution_count": 135,
   "metadata": {
    "collapsed": true
   },
   "outputs": [
    {
     "data": {
      "text/plain": [
       "GridSearchCV(cv=None, error_score='raise',\n",
       "       estimator=Ridge(alpha=1.0, copy_X=True, fit_intercept=True, max_iter=None,\n",
       "   normalize=False, random_state=None, solver='auto', tol=0.001),\n",
       "       fit_params={}, iid=True, n_jobs=1,\n",
       "       param_grid={'alpha': array([  1.00000e-10,   1.00000e-09,   1.00000e-08,   1.00000e-07,\n",
       "         1.00000e-06,   1.00000e-05,   1.00000e-04,   1.00000e-03,\n",
       "         1.00000e-02,   1.00000e-01,   1.00000e+00,   1.00000e+01,\n",
       "         1.00000e+02,   1.00000e+03,   1.00000e+04,   1.00000e+05,\n",
       "         1.00000e+06,   1.00000e+07,   1.00000e+08,   1.00000e+09,\n",
       "         1.00000e+10])},\n",
       "       pre_dispatch='2*n_jobs', refit=True,\n",
       "       scoring='neg_mean_squared_error', verbose=0)"
      ]
     },
     "execution_count": 135,
     "metadata": {},
     "output_type": "execute_result"
    }
   ],
   "source": [
    "from sklearn import grid_search\n",
    "\n",
    "alphas = np.logspace(-10, 10, 21)\n",
    "gs = grid_search.GridSearchCV(\n",
    "    estimator=linear_model.Ridge(),\n",
    "    param_grid={'alpha': alphas},\n",
    "    scoring='neg_mean_squared_error')\n",
    "\n",
    "gs.fit(fast_x, fast_y)"
   ]
  },
  {
   "cell_type": "code",
   "execution_count": 136,
   "metadata": {},
   "outputs": [
    {
     "name": "stdout",
     "output_type": "stream",
     "text": [
      "-2.23730032642\n"
     ]
    }
   ],
   "source": [
    "# new population divide feature reduced score to -16 from -18\n",
    "print(gs.best_score_)"
   ]
  },
  {
   "cell_type": "code",
   "execution_count": 137,
   "metadata": {},
   "outputs": [
    {
     "name": "stdout",
     "output_type": "stream",
     "text": [
      "2.23730032642\n"
     ]
    }
   ],
   "source": [
    "print(-gs.best_score_)"
   ]
  },
  {
   "cell_type": "code",
   "execution_count": 138,
   "metadata": {},
   "outputs": [
    {
     "name": "stdout",
     "output_type": "stream",
     "text": [
      "Ridge(alpha=100.0, copy_X=True, fit_intercept=True, max_iter=None,\n",
      "   normalize=False, random_state=None, solver='auto', tol=0.001)\n"
     ]
    }
   ],
   "source": [
    "print(gs.best_estimator_)"
   ]
  },
  {
   "cell_type": "code",
   "execution_count": 139,
   "metadata": {
    "collapsed": true
   },
   "outputs": [
    {
     "name": "stdout",
     "output_type": "stream",
     "text": [
      "[mean: -2.26607, std: 0.25343, params: {'alpha': 1e-10}, mean: -2.26607, std: 0.25343, params: {'alpha': 1.0000000000000001e-09}, mean: -2.26607, std: 0.25343, params: {'alpha': 1e-08}, mean: -2.26607, std: 0.25343, params: {'alpha': 9.9999999999999995e-08}, mean: -2.26607, std: 0.25343, params: {'alpha': 9.9999999999999995e-07}, mean: -2.26607, std: 0.25343, params: {'alpha': 1.0000000000000001e-05}, mean: -2.26607, std: 0.25343, params: {'alpha': 0.0001}, mean: -2.26607, std: 0.25342, params: {'alpha': 0.001}, mean: -2.26605, std: 0.25340, params: {'alpha': 0.01}, mean: -2.26588, std: 0.25314, params: {'alpha': 0.10000000000000001}, mean: -2.26416, std: 0.25068, params: {'alpha': 1.0}, mean: -2.25184, std: 0.23300, params: {'alpha': 10.0}, mean: -2.23730, std: 0.20976, params: {'alpha': 100.0}, mean: -2.25038, std: 0.21986, params: {'alpha': 1000.0}, mean: -2.25458, std: 0.22233, params: {'alpha': 10000.0}, mean: -2.25507, std: 0.22262, params: {'alpha': 100000.0}, mean: -2.25497, std: 0.22296, params: {'alpha': 1000000.0}, mean: -2.25419, std: 0.22577, params: {'alpha': 10000000.0}, mean: -2.29546, std: 0.23529, params: {'alpha': 100000000.0}, mean: -3.25718, std: 0.20440, params: {'alpha': 1000000000.0}, mean: -5.67601, std: 0.40342, params: {'alpha': 10000000000.0}]\n"
     ]
    }
   ],
   "source": [
    "print(gs.grid_scores_)"
   ]
  },
  {
   "cell_type": "code",
   "execution_count": 140,
   "metadata": {},
   "outputs": [
    {
     "name": "stdout",
     "output_type": "stream",
     "text": [
      "~~~ OLS ~~~\n",
      "('OLS MSE: ', 2.169021006748713)\n",
      "('OLS R2:', 0.67178244245206686)\n",
      "~~~ Lasso ~~~\n",
      "('Lasso MSE: ', 2.1970321710215837)\n",
      "('Lasso R2:', 0.66754377630125039)\n",
      "~~~ Ridge ~~~\n",
      "('Ridge MSE: ', 2.1690215010172782)\n",
      "('Ridge R2:', 0.67178236765905153)\n"
     ]
    }
   ],
   "source": [
    "lm = linear_model.LinearRegression().fit(fast_x, fast_y)\n",
    "print(\"~~~ OLS ~~~\")\n",
    "print('OLS MSE: ', metrics.mean_squared_error(fast_y, lm.predict(fast_x)))\n",
    "print('OLS R2:', lm.score(fast_x, fast_y))\n",
    "\n",
    "lm = linear_model.Lasso().fit(fast_x, fast_y)\n",
    "print(\"~~~ Lasso ~~~\")\n",
    "print('Lasso MSE: ', metrics.mean_squared_error(fast_y, lm.predict(fast_x)))\n",
    "print('Lasso R2:', lm.score(fast_x, fast_y))\n",
    "\n",
    "lm = linear_model.Ridge().fit(fast_x, fast_y)\n",
    "print(\"~~~ Ridge ~~~\")\n",
    "print('Ridge MSE: ', metrics.mean_squared_error(fast_y, lm.predict(fast_x)))\n",
    "print('Ridge R2:', lm.score(fast_x, fast_y))"
   ]
  },
  {
   "cell_type": "markdown",
   "metadata": {},
   "source": [
    "#### 110 Charger Model Build (simple model run through only for initial score, very low number of instances for 110s overall)"
   ]
  },
  {
   "cell_type": "markdown",
   "metadata": {},
   "source": [
    "Notes: "
   ]
  },
  {
   "cell_type": "code",
   "execution_count": 143,
   "metadata": {},
   "outputs": [
    {
     "data": {
      "text/plain": [
       "[('evdcfastcount', 0.0),\n",
       " ('evlevel2evsenum', 0.12498787300422297),\n",
       " ('pop_x', 0.00037066852501538452),\n",
       " ('id_x', -2.7725964120500689e-05),\n",
       " ('pop_div', -0.0004881437213536679)]"
      ]
     },
     "execution_count": 143,
     "metadata": {},
     "output_type": "execute_result"
    }
   ],
   "source": [
    "# create X and y\n",
    "X_110 = x_110\n",
    "y_110 = y_110\n",
    "\n",
    "# instantiate, fit\n",
    "lr = LinearRegression()\n",
    "lr.fit(X_110, y_110)\n",
    "\n",
    "# print coefficients\n",
    "zip(X_110, lr.coef_)"
   ]
  },
  {
   "cell_type": "code",
   "execution_count": 144,
   "metadata": {},
   "outputs": [
    {
     "data": {
      "text/plain": [
       "0.46835439938526774"
      ]
     },
     "execution_count": 144,
     "metadata": {},
     "output_type": "execute_result"
    }
   ],
   "source": [
    "lr.score(X_110, y_110)"
   ]
  },
  {
   "cell_type": "code",
   "execution_count": 145,
   "metadata": {
    "collapsed": true
   },
   "outputs": [
    {
     "data": {
      "text/plain": [
       "array([ 2.89734966,  4.51865879,  2.9348188 ,  0.75929227,  4.0370696 ,\n",
       "        5.16083387,  4.86978923,  4.35758838,  3.49991002,  6.20153113,\n",
       "        3.33113086,  3.59062008,  3.20157704,  2.70385395,  5.67786675,\n",
       "        0.17177029,  0.22677783,  2.82230717,  4.76925516,  1.02011231,\n",
       "        5.00804463,  4.12924898,  3.40468339,  4.77231446,  2.84936203,\n",
       "        3.19500164,  4.22072244,  1.31872899,  4.22165799,  0.69763888,\n",
       "        4.31460998,  0.62058663,  0.72347691,  3.74672253,  0.61004976,\n",
       "        0.44875079,  5.56386538,  3.46658647,  3.14725642,  5.28516147,\n",
       "        3.05385554,  3.010589  ,  3.23228271,  3.63345566,  3.68236194,\n",
       "        0.78284913,  0.87691923,  3.24942523,  5.28241061,  3.59160466,\n",
       "        3.30356039,  4.93680532,  4.18990978,  5.47717435,  3.39077572,\n",
       "        1.00612881,  2.83716635,  0.29749217,  3.2674703 ,  4.94507916,\n",
       "        2.89601162,  0.20713265,  5.52430158,  0.89519223,  5.95850491,\n",
       "        2.89405759,  0.36111646,  0.86035533,  0.88594367,  4.39605431,\n",
       "        4.28826948,  5.5597948 ,  4.04119254,  0.56223181,  5.4614565 ,\n",
       "        4.24410251,  3.63994138,  4.11816624,  6.03289983,  1.19751286,\n",
       "        0.89535608,  2.92822764,  4.37765797,  0.71520333,  2.7673811 ,\n",
       "        3.58411823,  2.59918148,  0.82915967,  3.53293291,  4.04873272,\n",
       "        1.04897157,  3.02816852,  0.84498306,  1.10327256,  4.78614824,\n",
       "        0.66375393,  4.27476365,  2.73623542,  2.96551819,  4.41072534,\n",
       "        3.92189355,  1.2010172 ,  3.71839856,  3.65776456,  3.65016136,\n",
       "        5.22657786,  3.34151772,  3.34132364,  3.58125404,  1.09992956,\n",
       "        3.34809855,  3.25779743,  3.56597075,  4.44878229,  3.27989098,\n",
       "        0.59888835,  6.16225827,  4.60237921,  0.43934308,  5.02557946,\n",
       "        0.47504568,  5.45931944,  3.10784581,  4.34006135,  4.19659436,\n",
       "        3.34389735,  0.66766399,  3.14423533,  5.36780577,  5.12149001,\n",
       "        3.27662058,  3.85842746,  1.06116098,  3.38460538,  5.83294613,\n",
       "        3.58548311,  4.14697214,  0.94416546])"
      ]
     },
     "execution_count": 145,
     "metadata": {},
     "output_type": "execute_result"
    }
   ],
   "source": [
    "lr.predict(fast_x)"
   ]
  },
  {
   "cell_type": "code",
   "execution_count": 146,
   "metadata": {},
   "outputs": [
    {
     "data": {
      "text/plain": [
       "3.1702304035754412"
      ]
     },
     "execution_count": 146,
     "metadata": {},
     "output_type": "execute_result"
    }
   ],
   "source": [
    "lr.predict(fast_x).mean()"
   ]
  },
  {
   "cell_type": "markdown",
   "metadata": {},
   "source": [
    "#### 220 Charger Model Build (simple model run through only for initial score)"
   ]
  },
  {
   "cell_type": "markdown",
   "metadata": {},
   "source": [
    "Notes: "
   ]
  },
  {
   "cell_type": "code",
   "execution_count": 147,
   "metadata": {},
   "outputs": [
    {
     "data": {
      "text/plain": [
       "[('evdcfastcount', 0.14114962036200329),\n",
       " ('evlevel1evsenum', 0.21141881652206695),\n",
       " ('pop_x', 0.00024288249128639553),\n",
       " ('id_x', -7.3422821299601769e-06),\n",
       " ('pop_div', -0.0003445942573982346)]"
      ]
     },
     "execution_count": 147,
     "metadata": {},
     "output_type": "execute_result"
    }
   ],
   "source": [
    "# create X and y\n",
    "X_220 = x_220\n",
    "y_220 = y_220\n",
    "\n",
    "# instantiate, fit\n",
    "lr = LinearRegression()\n",
    "lr.fit(X_220, y_220)\n",
    "\n",
    "# print coefficients\n",
    "zip(X_220, lr.coef_)"
   ]
  },
  {
   "cell_type": "code",
   "execution_count": 148,
   "metadata": {},
   "outputs": [
    {
     "data": {
      "text/plain": [
       "0.58064973294362465"
      ]
     },
     "execution_count": 148,
     "metadata": {},
     "output_type": "execute_result"
    }
   ],
   "source": [
    "lr.score(X_220, y_220)"
   ]
  },
  {
   "cell_type": "code",
   "execution_count": 149,
   "metadata": {
    "collapsed": true
   },
   "outputs": [
    {
     "data": {
      "text/plain": [
       "array([ 2.4863024 ,  3.5135144 ,  2.44248355,  1.06906033,  3.13862183,\n",
       "        4.01767121,  3.82234684,  3.50162168,  2.81523318,  4.74237568,\n",
       "        2.71702586,  3.05671059,  2.96545926,  2.37954495,  4.54678894,\n",
       "        0.41363151,  0.60651841,  2.49474418,  3.6776266 ,  1.21113261,\n",
       "        3.94030028,  3.43664985,  2.74539828,  3.87461357,  2.46529295,\n",
       "        2.6114511 ,  3.42470859,  1.34570463,  3.31993315,  1.03446924,\n",
       "        3.42041196,  0.83233388,  1.0379009 ,  2.97686112,  0.84740596,\n",
       "        0.69269418,  4.23246723,  2.91068165,  2.60103103,  4.20565808,\n",
       "        2.47200865,  2.84950778,  2.68625377,  2.8967604 ,  3.44467161,\n",
       "        1.23236725,  1.17095349,  2.68982981,  4.20362358,  2.96017275,\n",
       "        2.70557398,  3.77712597,  3.33829933,  4.32936521,  2.92862984,\n",
       "        1.28269175,  2.48622328,  0.60076741,  2.69838509,  3.93167399,\n",
       "        2.49135539,  0.45737943,  4.18179262,  0.9986727 ,  4.52483129,\n",
       "        2.48557885,  0.65835376,  0.89298265,  1.1788503 ,  3.57343167,\n",
       "        3.40519707,  4.41706525,  3.40275557,  1.2833345 ,  4.12306782,\n",
       "        3.44742835,  2.91752703,  3.28222487,  4.48938189,  1.24123715,\n",
       "        0.98290115,  2.49929374,  3.53905186,  1.03112076,  2.41778543,\n",
       "        2.82863834,  2.34937648,  1.0458363 ,  2.85095824,  3.3492918 ,\n",
       "        1.09988049,  2.66961342,  0.90486797,  1.15372703,  3.81476846,\n",
       "        0.97868654,  3.4846103 ,  2.40990816,  2.50353568,  3.5359932 ,\n",
       "        3.12241371,  1.26313408,  3.1146981 ,  2.81738084,  2.93461293,\n",
       "        4.06240354,  2.69991202,  2.69986063,  3.02806291,  1.10024294,\n",
       "        2.75064523,  2.85457562,  3.05335854,  3.59351639,  2.7027861 ,\n",
       "        0.71042506,  4.56775366,  3.57688744,  0.74760265,  3.97967015,\n",
       "        0.69332502,  4.28945148,  2.61668156,  3.44815334,  3.37504288,\n",
       "        2.75411647,  0.78271943,  2.58340552,  4.10690152,  5.65092856,\n",
       "        2.71941614,  3.11855059,  1.11729954,  2.73992954,  4.35611008,\n",
       "        2.86962164,  3.36161267,  1.0954467 ])"
      ]
     },
     "execution_count": 149,
     "metadata": {},
     "output_type": "execute_result"
    }
   ],
   "source": [
    "lr.predict(fast_x)"
   ]
  },
  {
   "cell_type": "code",
   "execution_count": 150,
   "metadata": {},
   "outputs": [
    {
     "data": {
      "text/plain": [
       "2.668262429503685"
      ]
     },
     "execution_count": 150,
     "metadata": {},
     "output_type": "execute_result"
    }
   ],
   "source": [
    "lr.predict(fast_x).mean()"
   ]
  },
  {
   "cell_type": "code",
   "execution_count": null,
   "metadata": {
    "collapsed": true
   },
   "outputs": [],
   "source": []
  }
 ],
 "metadata": {
  "kernelspec": {
   "display_name": "Python 2",
   "language": "python",
   "name": "python2"
  },
  "language_info": {
   "codemirror_mode": {
    "name": "ipython",
    "version": 2
   },
   "file_extension": ".py",
   "mimetype": "text/x-python",
   "name": "python",
   "nbconvert_exporter": "python",
   "pygments_lexer": "ipython2",
   "version": "2.7.13"
  }
 },
 "nbformat": 4,
 "nbformat_minor": 2
}
