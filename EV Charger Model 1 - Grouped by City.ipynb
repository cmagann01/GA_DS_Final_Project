{
 "cells": [
  {
   "cell_type": "markdown",
   "metadata": {
    "collapsed": true
   },
   "source": [
    "### EV Charger Models - Grouped by City _Population Observation Counts\n",
    "\n",
    "#### Overview\n",
    "\n",
    "Majority of updates in the data.gov alternative fuels data set were made in August 2017\n",
    "\n",
    "Total number of charge stations = 53301\n",
    "\n",
    "ev_total (mean) = 2.68 > charge stations per location\n",
    "\n",
    "evdcfastcount > DC Fast Chargers % of total = 12%\n",
    "\n",
    "evlevel1evsenum > Level 1 EVSE (standard 110V outlet) % of total = 6%\n",
    "\n",
    "evlevel2evsenum > Level 2 EVSE (J1772 connector) % of total = 82%\n"
   ]
  },
  {
   "cell_type": "code",
   "execution_count": null,
   "metadata": {
    "collapsed": true
   },
   "outputs": [],
   "source": []
  },
  {
   "cell_type": "markdown",
   "metadata": {},
   "source": [
    "#### Notes\n",
    "\n",
    "Not a logistic regression because we are not attempting to determine a category\n",
    "\n",
    "We are predicting how many and what type of ev charger to install per population count\n",
    "\n",
    "To clean up the notebook and reduce rows I removed the checks including head, shape, isnull, describe, nunique, value counts, etc.\n",
    "\n",
    "Model: Grouped by city, not great scores but started with 0.07!  Got them above 65 for the most popular types\n",
    "\n",
    "EV Types: Fast = super fast charger / 110 = standard 110 outlet charger (super slow) / 220 = 220 outlet charger like a dryer in a house runs on (fairly quick and the most popular)\n",
    "\n",
    "Goal: Predict how many and which type of charger to install for varying population groups"
   ]
  },
  {
   "cell_type": "code",
   "execution_count": null,
   "metadata": {
    "collapsed": true
   },
   "outputs": [],
   "source": []
  },
  {
   "cell_type": "markdown",
   "metadata": {},
   "source": [
    "#### Grouped by City _Population Observation Counts\n",
    "\n",
    "median > over 2.5k, under 5k \n",
    "\n",
    "over 500k = 31  /  over 250k, under 500k = 48  /  over 100k, under 250k = 208  /  over 75k, under 100k = 146  /  over 50k, under 75k = 255  /  over 25k, under 50k = 515  /  over 15k, under 25k = 397\n",
    "\n",
    "over 7.5k, under 15k = 506 < our city population category match\n",
    "\n",
    "over 5k, under 7.5k = 221  /  over 2.5k, under 5k = 250  /  over 100, under 2.5k = 375"
   ]
  },
  {
   "cell_type": "markdown",
   "metadata": {},
   "source": [
    "#### import"
   ]
  },
  {
   "cell_type": "code",
   "execution_count": 1,
   "metadata": {
    "collapsed": true
   },
   "outputs": [],
   "source": [
    "import pandas as pd\n",
    "import matplotlib.pyplot as plt\n",
    "import seaborn as sns\n",
    "\n",
    "%matplotlib inline"
   ]
  },
  {
   "cell_type": "markdown",
   "metadata": {},
   "source": [
    "#### 2 new prepped dataframes saved locally in csv format > 1. data.gov: ev data  /  2. cencus.gov: state, city, population"
   ]
  },
  {
   "cell_type": "code",
   "execution_count": 2,
   "metadata": {
    "collapsed": true,
    "scrolled": true
   },
   "outputs": [],
   "source": [
    "df_ev = pd.read_csv('ev_new.csv', error_bad_lines=False, index_col=False, dtype='unicode')"
   ]
  },
  {
   "cell_type": "code",
   "execution_count": 3,
   "metadata": {
    "collapsed": true
   },
   "outputs": [],
   "source": [
    "df_ev_pop = pd.read_csv('ev_citystatepop.csv', error_bad_lines=False, index_col=False, dtype='unicode')"
   ]
  },
  {
   "cell_type": "code",
   "execution_count": 5,
   "metadata": {
    "collapsed": true
   },
   "outputs": [],
   "source": [
    "# df_ev_drop = df_ev.drop(['id', 'city', 'state'], axis=1)\n",
    "df_ev_drop = df_ev.drop(['city', 'state'], axis=1)"
   ]
  },
  {
   "cell_type": "markdown",
   "metadata": {},
   "source": [
    "#### formatting"
   ]
  },
  {
   "cell_type": "code",
   "execution_count": 7,
   "metadata": {
    "collapsed": true
   },
   "outputs": [],
   "source": [
    "df_ev_drop[('evdcfastcount')] = df_ev_drop[('evdcfastcount')].astype(int)\n",
    "df_ev_drop[('evlevel1evsenum')] = df_ev_drop[('evlevel1evsenum')].astype(int)\n",
    "df_ev_drop[('evlevel2evsenum')] = df_ev_drop[('evlevel2evsenum')].astype(int)\n",
    "df_ev_drop[('ev_total')] = df_ev_drop[('ev_total')].astype(int)\n",
    "df_ev_drop[('id')] = df_ev_drop[('id')].astype(int)"
   ]
  },
  {
   "cell_type": "code",
   "execution_count": 8,
   "metadata": {
    "collapsed": true
   },
   "outputs": [],
   "source": [
    "df_ev_drop.evdcfastcount.fillna(value=0, inplace=True)\n",
    "df_ev_drop.evlevel1evsenum.fillna(value=0, inplace=True)\n",
    "df_ev_drop.evlevel2evsenum.fillna(value=0, inplace=True)"
   ]
  },
  {
   "cell_type": "code",
   "execution_count": 63,
   "metadata": {
    "collapsed": true
   },
   "outputs": [],
   "source": [
    "# df_ev_pop['citystate'] = df_ev_pop['citystatepop']"
   ]
  },
  {
   "cell_type": "code",
   "execution_count": 12,
   "metadata": {
    "collapsed": true
   },
   "outputs": [],
   "source": [
    "df_ev_pop[('citystate')] = df_ev_pop[('citystate')].astype(str)\n",
    "df_ev_pop[('pop')] = df_ev_pop[('pop')].astype(int)"
   ]
  },
  {
   "cell_type": "code",
   "execution_count": 13,
   "metadata": {
    "collapsed": true
   },
   "outputs": [
    {
     "data": {
      "text/plain": [
       "citystate    object\n",
       "pop           int32\n",
       "dtype: object"
      ]
     },
     "execution_count": 13,
     "metadata": {},
     "output_type": "execute_result"
    }
   ],
   "source": [
    "df_ev_pop.dtypes"
   ]
  },
  {
   "cell_type": "markdown",
   "metadata": {},
   "source": [
    "#### set index of both dataframes to 'citystate' to merge on"
   ]
  },
  {
   "cell_type": "code",
   "execution_count": 14,
   "metadata": {
    "collapsed": true
   },
   "outputs": [],
   "source": [
    "# df.set_index('Locality', inplace=True)\n",
    "df_ev_drop2 = df_ev_drop.set_index('citystate')"
   ]
  },
  {
   "cell_type": "code",
   "execution_count": 16,
   "metadata": {
    "collapsed": true
   },
   "outputs": [],
   "source": [
    "df_ev_pop2 = df_ev_pop.set_index('citystate')"
   ]
  },
  {
   "cell_type": "markdown",
   "metadata": {},
   "source": [
    "#### merge on 'citystate' to introduce population into the data set"
   ]
  },
  {
   "cell_type": "code",
   "execution_count": 18,
   "metadata": {
    "collapsed": true
   },
   "outputs": [],
   "source": [
    "df_ev_merge = pd.merge(df_ev_drop2, df_ev_pop2, right_index=True, left_index=True)"
   ]
  },
  {
   "cell_type": "code",
   "execution_count": 21,
   "metadata": {},
   "outputs": [
    {
     "data": {
      "text/plain": [
       "(16617, 6)"
      ]
     },
     "execution_count": 21,
     "metadata": {},
     "output_type": "execute_result"
    }
   ],
   "source": [
    "df_ev_merge.shape"
   ]
  },
  {
   "cell_type": "markdown",
   "metadata": {},
   "source": [
    "#### this is the grouped command section"
   ]
  },
  {
   "cell_type": "code",
   "execution_count": 22,
   "metadata": {
    "collapsed": true
   },
   "outputs": [],
   "source": [
    "df_ev_grouped = df_ev_merge.groupby(['citystate', 'pop']).sum()"
   ]
  },
  {
   "cell_type": "code",
   "execution_count": 60,
   "metadata": {
    "collapsed": true
   },
   "outputs": [],
   "source": [
    "\n",
    "# IMPORTANT > 'pop' and 'id' are now a sub DFs. \n",
    "# Must add a new column that converts it them to int before they can be used in a model (pop_x) / (id_x)\n"
   ]
  },
  {
   "cell_type": "code",
   "execution_count": 23,
   "metadata": {},
   "outputs": [
    {
     "data": {
      "text/html": [
       "<div>\n",
       "<style>\n",
       "    .dataframe thead tr:only-child th {\n",
       "        text-align: right;\n",
       "    }\n",
       "\n",
       "    .dataframe thead th {\n",
       "        text-align: left;\n",
       "    }\n",
       "\n",
       "    .dataframe tbody tr th {\n",
       "        vertical-align: top;\n",
       "    }\n",
       "</style>\n",
       "<table border=\"1\" class=\"dataframe\">\n",
       "  <thead>\n",
       "    <tr style=\"text-align: right;\">\n",
       "      <th></th>\n",
       "      <th></th>\n",
       "      <th>id</th>\n",
       "      <th>evdcfastcount</th>\n",
       "      <th>evlevel1evsenum</th>\n",
       "      <th>evlevel2evsenum</th>\n",
       "      <th>ev_total</th>\n",
       "    </tr>\n",
       "    <tr>\n",
       "      <th>citystate</th>\n",
       "      <th>pop</th>\n",
       "      <th></th>\n",
       "      <th></th>\n",
       "      <th></th>\n",
       "      <th></th>\n",
       "      <th></th>\n",
       "    </tr>\n",
       "  </thead>\n",
       "  <tbody>\n",
       "    <tr>\n",
       "      <th>AbbotsfordWI</th>\n",
       "      <th>2259</th>\n",
       "      <td>19458</td>\n",
       "      <td>0</td>\n",
       "      <td>1</td>\n",
       "      <td>0</td>\n",
       "      <td>1</td>\n",
       "    </tr>\n",
       "    <tr>\n",
       "      <th>AberdeenMD</th>\n",
       "      <th>15612</th>\n",
       "      <td>19380</td>\n",
       "      <td>0</td>\n",
       "      <td>0</td>\n",
       "      <td>2</td>\n",
       "      <td>2</td>\n",
       "    </tr>\n",
       "    <tr>\n",
       "      <th>AberdeenNC</th>\n",
       "      <th>7502</th>\n",
       "      <td>82694</td>\n",
       "      <td>0</td>\n",
       "      <td>0</td>\n",
       "      <td>10</td>\n",
       "      <td>10</td>\n",
       "    </tr>\n",
       "    <tr>\n",
       "      <th>AberdeenSD</th>\n",
       "      <th>28415</th>\n",
       "      <td>53098</td>\n",
       "      <td>0</td>\n",
       "      <td>0</td>\n",
       "      <td>6</td>\n",
       "      <td>6</td>\n",
       "    </tr>\n",
       "    <tr>\n",
       "      <th>AberdeenWA</th>\n",
       "      <th>16334</th>\n",
       "      <td>25517</td>\n",
       "      <td>8</td>\n",
       "      <td>0</td>\n",
       "      <td>0</td>\n",
       "      <td>8</td>\n",
       "    </tr>\n",
       "  </tbody>\n",
       "</table>\n",
       "</div>"
      ],
      "text/plain": [
       "                       id  evdcfastcount  evlevel1evsenum  evlevel2evsenum  \\\n",
       "citystate    pop                                                             \n",
       "AbbotsfordWI 2259   19458              0                1                0   \n",
       "AberdeenMD   15612  19380              0                0                2   \n",
       "AberdeenNC   7502   82694              0                0               10   \n",
       "AberdeenSD   28415  53098              0                0                6   \n",
       "AberdeenWA   16334  25517              8                0                0   \n",
       "\n",
       "                    ev_total  \n",
       "citystate    pop              \n",
       "AbbotsfordWI 2259          1  \n",
       "AberdeenMD   15612         2  \n",
       "AberdeenNC   7502         10  \n",
       "AberdeenSD   28415         6  \n",
       "AberdeenWA   16334         8  "
      ]
     },
     "execution_count": 23,
     "metadata": {},
     "output_type": "execute_result"
    }
   ],
   "source": [
    "df_ev_grouped.head()"
   ]
  },
  {
   "cell_type": "code",
   "execution_count": 111,
   "metadata": {
    "collapsed": true
   },
   "outputs": [],
   "source": [
    "# ev_total zeros removal (just in case there are any)\n",
    "df_ev_config = df_ev_grouped[df_ev_grouped.ev_total != 0]"
   ]
  },
  {
   "cell_type": "markdown",
   "metadata": {},
   "source": [
    "#### final dataframes config and checks"
   ]
  },
  {
   "cell_type": "code",
   "execution_count": 114,
   "metadata": {
    "collapsed": true
   },
   "outputs": [],
   "source": [
    "# Reset index for use in model\n",
    "df_ev_config = df_ev_grouped.reset_index()"
   ]
  },
  {
   "cell_type": "code",
   "execution_count": null,
   "metadata": {
    "collapsed": true
   },
   "outputs": [],
   "source": [
    "\n",
    "# Conversion of 'pop' and 'id' as a new int columns\n"
   ]
  },
  {
   "cell_type": "code",
   "execution_count": 116,
   "metadata": {
    "collapsed": true
   },
   "outputs": [],
   "source": [
    "df_ev_config[('pop_x')] = df_ev_config[('pop')].astype(int)\n",
    "df_ev_config[('id_x')] = df_ev_config[('id')].astype(int)"
   ]
  },
  {
   "cell_type": "code",
   "execution_count": 121,
   "metadata": {
    "collapsed": true
   },
   "outputs": [
    {
     "data": {
      "text/html": [
       "<div>\n",
       "<style>\n",
       "    .dataframe thead tr:only-child th {\n",
       "        text-align: right;\n",
       "    }\n",
       "\n",
       "    .dataframe thead th {\n",
       "        text-align: left;\n",
       "    }\n",
       "\n",
       "    .dataframe tbody tr th {\n",
       "        vertical-align: top;\n",
       "    }\n",
       "</style>\n",
       "<table border=\"1\" class=\"dataframe\">\n",
       "  <thead>\n",
       "    <tr style=\"text-align: right;\">\n",
       "      <th></th>\n",
       "      <th>citystate</th>\n",
       "      <th>pop</th>\n",
       "      <th>id</th>\n",
       "      <th>evdcfastcount</th>\n",
       "      <th>evlevel1evsenum</th>\n",
       "      <th>evlevel2evsenum</th>\n",
       "      <th>ev_total</th>\n",
       "      <th>pop_x</th>\n",
       "      <th>id_x</th>\n",
       "    </tr>\n",
       "  </thead>\n",
       "  <tbody>\n",
       "    <tr>\n",
       "      <th>1850</th>\n",
       "      <td>New YorkNY</td>\n",
       "      <td>8537673</td>\n",
       "      <td>5573787</td>\n",
       "      <td>4</td>\n",
       "      <td>21</td>\n",
       "      <td>483</td>\n",
       "      <td>508</td>\n",
       "      <td>8537673</td>\n",
       "      <td>5573787</td>\n",
       "    </tr>\n",
       "    <tr>\n",
       "      <th>1541</th>\n",
       "      <td>Los AngelesCA</td>\n",
       "      <td>3976322</td>\n",
       "      <td>6315494</td>\n",
       "      <td>37</td>\n",
       "      <td>78</td>\n",
       "      <td>1626</td>\n",
       "      <td>1741</td>\n",
       "      <td>3976322</td>\n",
       "      <td>6315494</td>\n",
       "    </tr>\n",
       "    <tr>\n",
       "      <th>475</th>\n",
       "      <td>ChicagoIL</td>\n",
       "      <td>2704958</td>\n",
       "      <td>2045565</td>\n",
       "      <td>16</td>\n",
       "      <td>24</td>\n",
       "      <td>299</td>\n",
       "      <td>339</td>\n",
       "      <td>2704958</td>\n",
       "      <td>2045565</td>\n",
       "    </tr>\n",
       "    <tr>\n",
       "      <th>1228</th>\n",
       "      <td>HoustonTX</td>\n",
       "      <td>2303482</td>\n",
       "      <td>2049347</td>\n",
       "      <td>23</td>\n",
       "      <td>44</td>\n",
       "      <td>353</td>\n",
       "      <td>420</td>\n",
       "      <td>2303482</td>\n",
       "      <td>2049347</td>\n",
       "    </tr>\n",
       "    <tr>\n",
       "      <th>2081</th>\n",
       "      <td>PhoenixAZ</td>\n",
       "      <td>1615017</td>\n",
       "      <td>1841499</td>\n",
       "      <td>23</td>\n",
       "      <td>0</td>\n",
       "      <td>282</td>\n",
       "      <td>305</td>\n",
       "      <td>1615017</td>\n",
       "      <td>1841499</td>\n",
       "    </tr>\n",
       "    <tr>\n",
       "      <th>2079</th>\n",
       "      <td>PhiladelphiaPA</td>\n",
       "      <td>1567872</td>\n",
       "      <td>742267</td>\n",
       "      <td>11</td>\n",
       "      <td>3</td>\n",
       "      <td>90</td>\n",
       "      <td>104</td>\n",
       "      <td>1567872</td>\n",
       "      <td>742267</td>\n",
       "    </tr>\n",
       "    <tr>\n",
       "      <th>2327</th>\n",
       "      <td>San AntonioTX</td>\n",
       "      <td>1492510</td>\n",
       "      <td>1251414</td>\n",
       "      <td>0</td>\n",
       "      <td>5</td>\n",
       "      <td>192</td>\n",
       "      <td>197</td>\n",
       "      <td>1492510</td>\n",
       "      <td>1251414</td>\n",
       "    </tr>\n",
       "    <tr>\n",
       "      <th>2332</th>\n",
       "      <td>San DiegoCA</td>\n",
       "      <td>1406630</td>\n",
       "      <td>4334756</td>\n",
       "      <td>43</td>\n",
       "      <td>9</td>\n",
       "      <td>965</td>\n",
       "      <td>1017</td>\n",
       "      <td>1406630</td>\n",
       "      <td>4334756</td>\n",
       "    </tr>\n",
       "    <tr>\n",
       "      <th>636</th>\n",
       "      <td>DallasTX</td>\n",
       "      <td>1317929</td>\n",
       "      <td>1885537</td>\n",
       "      <td>8</td>\n",
       "      <td>2</td>\n",
       "      <td>246</td>\n",
       "      <td>256</td>\n",
       "      <td>1317929</td>\n",
       "      <td>1885537</td>\n",
       "    </tr>\n",
       "    <tr>\n",
       "      <th>2336</th>\n",
       "      <td>San JoseCA</td>\n",
       "      <td>1025350</td>\n",
       "      <td>2523640</td>\n",
       "      <td>29</td>\n",
       "      <td>26</td>\n",
       "      <td>535</td>\n",
       "      <td>590</td>\n",
       "      <td>1025350</td>\n",
       "      <td>2523640</td>\n",
       "    </tr>\n",
       "    <tr>\n",
       "      <th>128</th>\n",
       "      <td>AustinTX</td>\n",
       "      <td>947890</td>\n",
       "      <td>3518236</td>\n",
       "      <td>13</td>\n",
       "      <td>64</td>\n",
       "      <td>506</td>\n",
       "      <td>583</td>\n",
       "      <td>947890</td>\n",
       "      <td>3518236</td>\n",
       "    </tr>\n",
       "    <tr>\n",
       "      <th>1294</th>\n",
       "      <td>JacksonvilleFL</td>\n",
       "      <td>880619</td>\n",
       "      <td>1009361</td>\n",
       "      <td>18</td>\n",
       "      <td>1</td>\n",
       "      <td>86</td>\n",
       "      <td>105</td>\n",
       "      <td>880619</td>\n",
       "      <td>1009361</td>\n",
       "    </tr>\n",
       "    <tr>\n",
       "      <th>2334</th>\n",
       "      <td>San FranciscoCA</td>\n",
       "      <td>870887</td>\n",
       "      <td>2839777</td>\n",
       "      <td>32</td>\n",
       "      <td>86</td>\n",
       "      <td>514</td>\n",
       "      <td>632</td>\n",
       "      <td>870887</td>\n",
       "      <td>2839777</td>\n",
       "    </tr>\n",
       "    <tr>\n",
       "      <th>553</th>\n",
       "      <td>ColumbusOH</td>\n",
       "      <td>860090</td>\n",
       "      <td>1177476</td>\n",
       "      <td>25</td>\n",
       "      <td>0</td>\n",
       "      <td>103</td>\n",
       "      <td>128</td>\n",
       "      <td>860090</td>\n",
       "      <td>1177476</td>\n",
       "    </tr>\n",
       "    <tr>\n",
       "      <th>942</th>\n",
       "      <td>Fort WorthTX</td>\n",
       "      <td>854113</td>\n",
       "      <td>499871</td>\n",
       "      <td>4</td>\n",
       "      <td>1</td>\n",
       "      <td>63</td>\n",
       "      <td>68</td>\n",
       "      <td>854113</td>\n",
       "      <td>499871</td>\n",
       "    </tr>\n",
       "    <tr>\n",
       "      <th>458</th>\n",
       "      <td>CharlotteNC</td>\n",
       "      <td>842051</td>\n",
       "      <td>1362203</td>\n",
       "      <td>30</td>\n",
       "      <td>12</td>\n",
       "      <td>202</td>\n",
       "      <td>244</td>\n",
       "      <td>842051</td>\n",
       "      <td>1362203</td>\n",
       "    </tr>\n",
       "    <tr>\n",
       "      <th>2394</th>\n",
       "      <td>SeattleWA</td>\n",
       "      <td>704352</td>\n",
       "      <td>2659155</td>\n",
       "      <td>15</td>\n",
       "      <td>51</td>\n",
       "      <td>493</td>\n",
       "      <td>559</td>\n",
       "      <td>704352</td>\n",
       "      <td>2659155</td>\n",
       "    </tr>\n",
       "    <tr>\n",
       "      <th>685</th>\n",
       "      <td>DenverCO</td>\n",
       "      <td>693060</td>\n",
       "      <td>1615083</td>\n",
       "      <td>16</td>\n",
       "      <td>44</td>\n",
       "      <td>178</td>\n",
       "      <td>238</td>\n",
       "      <td>693060</td>\n",
       "      <td>1615083</td>\n",
       "    </tr>\n",
       "    <tr>\n",
       "      <th>788</th>\n",
       "      <td>El PasoTX</td>\n",
       "      <td>683080</td>\n",
       "      <td>413730</td>\n",
       "      <td>8</td>\n",
       "      <td>0</td>\n",
       "      <td>52</td>\n",
       "      <td>60</td>\n",
       "      <td>683080</td>\n",
       "      <td>413730</td>\n",
       "    </tr>\n",
       "    <tr>\n",
       "      <th>275</th>\n",
       "      <td>BostonMA</td>\n",
       "      <td>673184</td>\n",
       "      <td>1606926</td>\n",
       "      <td>7</td>\n",
       "      <td>3</td>\n",
       "      <td>295</td>\n",
       "      <td>305</td>\n",
       "      <td>673184</td>\n",
       "      <td>1606926</td>\n",
       "    </tr>\n",
       "    <tr>\n",
       "      <th>696</th>\n",
       "      <td>DetroitMI</td>\n",
       "      <td>672795</td>\n",
       "      <td>853112</td>\n",
       "      <td>0</td>\n",
       "      <td>10</td>\n",
       "      <td>149</td>\n",
       "      <td>159</td>\n",
       "      <td>672795</td>\n",
       "      <td>853112</td>\n",
       "    </tr>\n",
       "    <tr>\n",
       "      <th>1812</th>\n",
       "      <td>NashvilleTN</td>\n",
       "      <td>660388</td>\n",
       "      <td>1275821</td>\n",
       "      <td>25</td>\n",
       "      <td>14</td>\n",
       "      <td>193</td>\n",
       "      <td>232</td>\n",
       "      <td>660388</td>\n",
       "      <td>1275821</td>\n",
       "    </tr>\n",
       "    <tr>\n",
       "      <th>1662</th>\n",
       "      <td>MemphisTN</td>\n",
       "      <td>652717</td>\n",
       "      <td>408937</td>\n",
       "      <td>9</td>\n",
       "      <td>0</td>\n",
       "      <td>50</td>\n",
       "      <td>59</td>\n",
       "      <td>652717</td>\n",
       "      <td>408937</td>\n",
       "    </tr>\n",
       "    <tr>\n",
       "      <th>2149</th>\n",
       "      <td>PortlandOR</td>\n",
       "      <td>639863</td>\n",
       "      <td>1706777</td>\n",
       "      <td>27</td>\n",
       "      <td>43</td>\n",
       "      <td>309</td>\n",
       "      <td>379</td>\n",
       "      <td>639863</td>\n",
       "      <td>1706777</td>\n",
       "    </tr>\n",
       "    <tr>\n",
       "      <th>1952</th>\n",
       "      <td>Oklahoma CityOK</td>\n",
       "      <td>638367</td>\n",
       "      <td>214330</td>\n",
       "      <td>13</td>\n",
       "      <td>2</td>\n",
       "      <td>21</td>\n",
       "      <td>36</td>\n",
       "      <td>638367</td>\n",
       "      <td>214330</td>\n",
       "    </tr>\n",
       "    <tr>\n",
       "      <th>1449</th>\n",
       "      <td>Las VegasNV</td>\n",
       "      <td>632912</td>\n",
       "      <td>2531381</td>\n",
       "      <td>37</td>\n",
       "      <td>6</td>\n",
       "      <td>296</td>\n",
       "      <td>339</td>\n",
       "      <td>632912</td>\n",
       "      <td>2531381</td>\n",
       "    </tr>\n",
       "    <tr>\n",
       "      <th>148</th>\n",
       "      <td>BaltimoreMD</td>\n",
       "      <td>614664</td>\n",
       "      <td>2539679</td>\n",
       "      <td>33</td>\n",
       "      <td>12</td>\n",
       "      <td>334</td>\n",
       "      <td>379</td>\n",
       "      <td>614664</td>\n",
       "      <td>2539679</td>\n",
       "    </tr>\n",
       "    <tr>\n",
       "      <th>1716</th>\n",
       "      <td>MilwaukeeWI</td>\n",
       "      <td>595047</td>\n",
       "      <td>451381</td>\n",
       "      <td>6</td>\n",
       "      <td>2</td>\n",
       "      <td>48</td>\n",
       "      <td>56</td>\n",
       "      <td>595047</td>\n",
       "      <td>451381</td>\n",
       "    </tr>\n",
       "    <tr>\n",
       "      <th>26</th>\n",
       "      <td>AlbuquerqueNM</td>\n",
       "      <td>559277</td>\n",
       "      <td>357234</td>\n",
       "      <td>14</td>\n",
       "      <td>2</td>\n",
       "      <td>32</td>\n",
       "      <td>48</td>\n",
       "      <td>559277</td>\n",
       "      <td>357234</td>\n",
       "    </tr>\n",
       "    <tr>\n",
       "      <th>2692</th>\n",
       "      <td>TucsonAZ</td>\n",
       "      <td>530706</td>\n",
       "      <td>713739</td>\n",
       "      <td>5</td>\n",
       "      <td>1</td>\n",
       "      <td>96</td>\n",
       "      <td>102</td>\n",
       "      <td>530706</td>\n",
       "      <td>713739</td>\n",
       "    </tr>\n",
       "    <tr>\n",
       "      <th>...</th>\n",
       "      <td>...</td>\n",
       "      <td>...</td>\n",
       "      <td>...</td>\n",
       "      <td>...</td>\n",
       "      <td>...</td>\n",
       "      <td>...</td>\n",
       "      <td>...</td>\n",
       "      <td>...</td>\n",
       "      <td>...</td>\n",
       "    </tr>\n",
       "    <tr>\n",
       "      <th>753</th>\n",
       "      <td>EaglevilleMO</td>\n",
       "      <td>303</td>\n",
       "      <td>26966</td>\n",
       "      <td>0</td>\n",
       "      <td>0</td>\n",
       "      <td>4</td>\n",
       "      <td>4</td>\n",
       "      <td>303</td>\n",
       "      <td>26966</td>\n",
       "    </tr>\n",
       "    <tr>\n",
       "      <th>285</th>\n",
       "      <td>Boyne FallsMI</td>\n",
       "      <td>292</td>\n",
       "      <td>21637</td>\n",
       "      <td>0</td>\n",
       "      <td>0</td>\n",
       "      <td>2</td>\n",
       "      <td>2</td>\n",
       "      <td>292</td>\n",
       "      <td>21637</td>\n",
       "    </tr>\n",
       "    <tr>\n",
       "      <th>1131</th>\n",
       "      <td>Harpers FerryWV</td>\n",
       "      <td>291</td>\n",
       "      <td>53270</td>\n",
       "      <td>0</td>\n",
       "      <td>0</td>\n",
       "      <td>4</td>\n",
       "      <td>4</td>\n",
       "      <td>291</td>\n",
       "      <td>53270</td>\n",
       "    </tr>\n",
       "    <tr>\n",
       "      <th>1239</th>\n",
       "      <td>HunkerPA</td>\n",
       "      <td>288</td>\n",
       "      <td>15427</td>\n",
       "      <td>2</td>\n",
       "      <td>0</td>\n",
       "      <td>1</td>\n",
       "      <td>3</td>\n",
       "      <td>288</td>\n",
       "      <td>15427</td>\n",
       "    </tr>\n",
       "    <tr>\n",
       "      <th>827</th>\n",
       "      <td>EphraimWI</td>\n",
       "      <td>285</td>\n",
       "      <td>37988</td>\n",
       "      <td>0</td>\n",
       "      <td>0</td>\n",
       "      <td>3</td>\n",
       "      <td>3</td>\n",
       "      <td>285</td>\n",
       "      <td>37988</td>\n",
       "    </tr>\n",
       "    <tr>\n",
       "      <th>328</th>\n",
       "      <td>BrowntownWI</td>\n",
       "      <td>281</td>\n",
       "      <td>26231</td>\n",
       "      <td>0</td>\n",
       "      <td>0</td>\n",
       "      <td>1</td>\n",
       "      <td>1</td>\n",
       "      <td>281</td>\n",
       "      <td>26231</td>\n",
       "    </tr>\n",
       "    <tr>\n",
       "      <th>2254</th>\n",
       "      <td>RocheportMO</td>\n",
       "      <td>249</td>\n",
       "      <td>19481</td>\n",
       "      <td>0</td>\n",
       "      <td>0</td>\n",
       "      <td>1</td>\n",
       "      <td>1</td>\n",
       "      <td>249</td>\n",
       "      <td>19481</td>\n",
       "    </tr>\n",
       "    <tr>\n",
       "      <th>702</th>\n",
       "      <td>DillsboroNC</td>\n",
       "      <td>245</td>\n",
       "      <td>28343</td>\n",
       "      <td>0</td>\n",
       "      <td>0</td>\n",
       "      <td>1</td>\n",
       "      <td>1</td>\n",
       "      <td>245</td>\n",
       "      <td>28343</td>\n",
       "    </tr>\n",
       "    <tr>\n",
       "      <th>1156</th>\n",
       "      <td>HaywardMN</td>\n",
       "      <td>242</td>\n",
       "      <td>12450</td>\n",
       "      <td>0</td>\n",
       "      <td>1</td>\n",
       "      <td>0</td>\n",
       "      <td>1</td>\n",
       "      <td>242</td>\n",
       "      <td>12450</td>\n",
       "    </tr>\n",
       "    <tr>\n",
       "      <th>2636</th>\n",
       "      <td>The PlainsVA</td>\n",
       "      <td>228</td>\n",
       "      <td>27656</td>\n",
       "      <td>0</td>\n",
       "      <td>0</td>\n",
       "      <td>2</td>\n",
       "      <td>2</td>\n",
       "      <td>228</td>\n",
       "      <td>27656</td>\n",
       "    </tr>\n",
       "    <tr>\n",
       "      <th>1493</th>\n",
       "      <td>LimaMT</td>\n",
       "      <td>224</td>\n",
       "      <td>25507</td>\n",
       "      <td>8</td>\n",
       "      <td>0</td>\n",
       "      <td>0</td>\n",
       "      <td>8</td>\n",
       "      <td>224</td>\n",
       "      <td>25507</td>\n",
       "    </tr>\n",
       "    <tr>\n",
       "      <th>1835</th>\n",
       "      <td>New HarmonyUT</td>\n",
       "      <td>220</td>\n",
       "      <td>16076</td>\n",
       "      <td>0</td>\n",
       "      <td>0</td>\n",
       "      <td>2</td>\n",
       "      <td>2</td>\n",
       "      <td>220</td>\n",
       "      <td>16076</td>\n",
       "    </tr>\n",
       "    <tr>\n",
       "      <th>697</th>\n",
       "      <td>DetroitOR</td>\n",
       "      <td>217</td>\n",
       "      <td>32686</td>\n",
       "      <td>7</td>\n",
       "      <td>0</td>\n",
       "      <td>1</td>\n",
       "      <td>8</td>\n",
       "      <td>217</td>\n",
       "      <td>32686</td>\n",
       "    </tr>\n",
       "    <tr>\n",
       "      <th>2448</th>\n",
       "      <td>SkykomishWA</td>\n",
       "      <td>206</td>\n",
       "      <td>15731</td>\n",
       "      <td>1</td>\n",
       "      <td>0</td>\n",
       "      <td>1</td>\n",
       "      <td>2</td>\n",
       "      <td>206</td>\n",
       "      <td>15731</td>\n",
       "    </tr>\n",
       "    <tr>\n",
       "      <th>781</th>\n",
       "      <td>Egg HarborWI</td>\n",
       "      <td>203</td>\n",
       "      <td>49528</td>\n",
       "      <td>0</td>\n",
       "      <td>0</td>\n",
       "      <td>4</td>\n",
       "      <td>4</td>\n",
       "      <td>203</td>\n",
       "      <td>49528</td>\n",
       "    </tr>\n",
       "    <tr>\n",
       "      <th>806</th>\n",
       "      <td>ElktonOR</td>\n",
       "      <td>200</td>\n",
       "      <td>20764</td>\n",
       "      <td>1</td>\n",
       "      <td>0</td>\n",
       "      <td>1</td>\n",
       "      <td>2</td>\n",
       "      <td>200</td>\n",
       "      <td>20764</td>\n",
       "    </tr>\n",
       "    <tr>\n",
       "      <th>1708</th>\n",
       "      <td>MillersburgMI</td>\n",
       "      <td>197</td>\n",
       "      <td>28433</td>\n",
       "      <td>0</td>\n",
       "      <td>0</td>\n",
       "      <td>2</td>\n",
       "      <td>2</td>\n",
       "      <td>197</td>\n",
       "      <td>28433</td>\n",
       "    </tr>\n",
       "    <tr>\n",
       "      <th>2561</th>\n",
       "      <td>Stony CreekVA</td>\n",
       "      <td>188</td>\n",
       "      <td>29508</td>\n",
       "      <td>0</td>\n",
       "      <td>0</td>\n",
       "      <td>3</td>\n",
       "      <td>3</td>\n",
       "      <td>188</td>\n",
       "      <td>29508</td>\n",
       "    </tr>\n",
       "    <tr>\n",
       "      <th>606</th>\n",
       "      <td>CraneIN</td>\n",
       "      <td>182</td>\n",
       "      <td>13841</td>\n",
       "      <td>0</td>\n",
       "      <td>0</td>\n",
       "      <td>1</td>\n",
       "      <td>1</td>\n",
       "      <td>182</td>\n",
       "      <td>13841</td>\n",
       "    </tr>\n",
       "    <tr>\n",
       "      <th>241</th>\n",
       "      <td>Black HawkCO</td>\n",
       "      <td>127</td>\n",
       "      <td>26228</td>\n",
       "      <td>0</td>\n",
       "      <td>0</td>\n",
       "      <td>10</td>\n",
       "      <td>10</td>\n",
       "      <td>127</td>\n",
       "      <td>26228</td>\n",
       "    </tr>\n",
       "    <tr>\n",
       "      <th>2783</th>\n",
       "      <td>WashingtonVA</td>\n",
       "      <td>126</td>\n",
       "      <td>44327</td>\n",
       "      <td>0</td>\n",
       "      <td>0</td>\n",
       "      <td>3</td>\n",
       "      <td>3</td>\n",
       "      <td>126</td>\n",
       "      <td>44327</td>\n",
       "    </tr>\n",
       "    <tr>\n",
       "      <th>1858</th>\n",
       "      <td>NewfaneVT</td>\n",
       "      <td>113</td>\n",
       "      <td>24286</td>\n",
       "      <td>0</td>\n",
       "      <td>0</td>\n",
       "      <td>1</td>\n",
       "      <td>1</td>\n",
       "      <td>113</td>\n",
       "      <td>24286</td>\n",
       "    </tr>\n",
       "    <tr>\n",
       "      <th>2047</th>\n",
       "      <td>Pawleys IslandSC</td>\n",
       "      <td>107</td>\n",
       "      <td>35208</td>\n",
       "      <td>0</td>\n",
       "      <td>0</td>\n",
       "      <td>5</td>\n",
       "      <td>5</td>\n",
       "      <td>107</td>\n",
       "      <td>35208</td>\n",
       "    </tr>\n",
       "    <tr>\n",
       "      <th>265</th>\n",
       "      <td>BockMN</td>\n",
       "      <td>105</td>\n",
       "      <td>14934</td>\n",
       "      <td>0</td>\n",
       "      <td>1</td>\n",
       "      <td>0</td>\n",
       "      <td>1</td>\n",
       "      <td>105</td>\n",
       "      <td>14934</td>\n",
       "    </tr>\n",
       "    <tr>\n",
       "      <th>437</th>\n",
       "      <td>CentervilleOH</td>\n",
       "      <td>102</td>\n",
       "      <td>20465</td>\n",
       "      <td>0</td>\n",
       "      <td>0</td>\n",
       "      <td>2</td>\n",
       "      <td>2</td>\n",
       "      <td>102</td>\n",
       "      <td>20465</td>\n",
       "    </tr>\n",
       "    <tr>\n",
       "      <th>305</th>\n",
       "      <td>Brian HeadUT</td>\n",
       "      <td>89</td>\n",
       "      <td>19278</td>\n",
       "      <td>0</td>\n",
       "      <td>0</td>\n",
       "      <td>2</td>\n",
       "      <td>2</td>\n",
       "      <td>89</td>\n",
       "      <td>19278</td>\n",
       "    </tr>\n",
       "    <tr>\n",
       "      <th>2712</th>\n",
       "      <td>Unity VillageMO</td>\n",
       "      <td>80</td>\n",
       "      <td>55925</td>\n",
       "      <td>0</td>\n",
       "      <td>0</td>\n",
       "      <td>14</td>\n",
       "      <td>14</td>\n",
       "      <td>80</td>\n",
       "      <td>55925</td>\n",
       "    </tr>\n",
       "    <tr>\n",
       "      <th>2617</th>\n",
       "      <td>Taos Ski ValleyNM</td>\n",
       "      <td>69</td>\n",
       "      <td>50989</td>\n",
       "      <td>0</td>\n",
       "      <td>0</td>\n",
       "      <td>4</td>\n",
       "      <td>4</td>\n",
       "      <td>69</td>\n",
       "      <td>50989</td>\n",
       "    </tr>\n",
       "    <tr>\n",
       "      <th>171</th>\n",
       "      <td>Bay LakeFL</td>\n",
       "      <td>50</td>\n",
       "      <td>23606</td>\n",
       "      <td>0</td>\n",
       "      <td>0</td>\n",
       "      <td>2</td>\n",
       "      <td>2</td>\n",
       "      <td>50</td>\n",
       "      <td>23606</td>\n",
       "    </tr>\n",
       "    <tr>\n",
       "      <th>1405</th>\n",
       "      <td>Lake Buena VistaFL</td>\n",
       "      <td>11</td>\n",
       "      <td>13996</td>\n",
       "      <td>0</td>\n",
       "      <td>0</td>\n",
       "      <td>4</td>\n",
       "      <td>4</td>\n",
       "      <td>11</td>\n",
       "      <td>13996</td>\n",
       "    </tr>\n",
       "  </tbody>\n",
       "</table>\n",
       "<p>2957 rows × 9 columns</p>\n",
       "</div>"
      ],
      "text/plain": [
       "               citystate      pop       id  evdcfastcount  evlevel1evsenum  \\\n",
       "1850          New YorkNY  8537673  5573787              4               21   \n",
       "1541       Los AngelesCA  3976322  6315494             37               78   \n",
       "475            ChicagoIL  2704958  2045565             16               24   \n",
       "1228           HoustonTX  2303482  2049347             23               44   \n",
       "2081           PhoenixAZ  1615017  1841499             23                0   \n",
       "2079      PhiladelphiaPA  1567872   742267             11                3   \n",
       "2327       San AntonioTX  1492510  1251414              0                5   \n",
       "2332         San DiegoCA  1406630  4334756             43                9   \n",
       "636             DallasTX  1317929  1885537              8                2   \n",
       "2336          San JoseCA  1025350  2523640             29               26   \n",
       "128             AustinTX   947890  3518236             13               64   \n",
       "1294      JacksonvilleFL   880619  1009361             18                1   \n",
       "2334     San FranciscoCA   870887  2839777             32               86   \n",
       "553           ColumbusOH   860090  1177476             25                0   \n",
       "942         Fort WorthTX   854113   499871              4                1   \n",
       "458          CharlotteNC   842051  1362203             30               12   \n",
       "2394           SeattleWA   704352  2659155             15               51   \n",
       "685             DenverCO   693060  1615083             16               44   \n",
       "788            El PasoTX   683080   413730              8                0   \n",
       "275             BostonMA   673184  1606926              7                3   \n",
       "696            DetroitMI   672795   853112              0               10   \n",
       "1812         NashvilleTN   660388  1275821             25               14   \n",
       "1662           MemphisTN   652717   408937              9                0   \n",
       "2149          PortlandOR   639863  1706777             27               43   \n",
       "1952     Oklahoma CityOK   638367   214330             13                2   \n",
       "1449         Las VegasNV   632912  2531381             37                6   \n",
       "148          BaltimoreMD   614664  2539679             33               12   \n",
       "1716         MilwaukeeWI   595047   451381              6                2   \n",
       "26         AlbuquerqueNM   559277   357234             14                2   \n",
       "2692            TucsonAZ   530706   713739              5                1   \n",
       "...                  ...      ...      ...            ...              ...   \n",
       "753         EaglevilleMO      303    26966              0                0   \n",
       "285        Boyne FallsMI      292    21637              0                0   \n",
       "1131     Harpers FerryWV      291    53270              0                0   \n",
       "1239            HunkerPA      288    15427              2                0   \n",
       "827            EphraimWI      285    37988              0                0   \n",
       "328          BrowntownWI      281    26231              0                0   \n",
       "2254         RocheportMO      249    19481              0                0   \n",
       "702          DillsboroNC      245    28343              0                0   \n",
       "1156           HaywardMN      242    12450              0                1   \n",
       "2636        The PlainsVA      228    27656              0                0   \n",
       "1493              LimaMT      224    25507              8                0   \n",
       "1835       New HarmonyUT      220    16076              0                0   \n",
       "697            DetroitOR      217    32686              7                0   \n",
       "2448         SkykomishWA      206    15731              1                0   \n",
       "781         Egg HarborWI      203    49528              0                0   \n",
       "806             ElktonOR      200    20764              1                0   \n",
       "1708       MillersburgMI      197    28433              0                0   \n",
       "2561       Stony CreekVA      188    29508              0                0   \n",
       "606              CraneIN      182    13841              0                0   \n",
       "241         Black HawkCO      127    26228              0                0   \n",
       "2783        WashingtonVA      126    44327              0                0   \n",
       "1858           NewfaneVT      113    24286              0                0   \n",
       "2047    Pawleys IslandSC      107    35208              0                0   \n",
       "265               BockMN      105    14934              0                1   \n",
       "437        CentervilleOH      102    20465              0                0   \n",
       "305         Brian HeadUT       89    19278              0                0   \n",
       "2712     Unity VillageMO       80    55925              0                0   \n",
       "2617   Taos Ski ValleyNM       69    50989              0                0   \n",
       "171           Bay LakeFL       50    23606              0                0   \n",
       "1405  Lake Buena VistaFL       11    13996              0                0   \n",
       "\n",
       "      evlevel2evsenum  ev_total    pop_x     id_x  \n",
       "1850              483       508  8537673  5573787  \n",
       "1541             1626      1741  3976322  6315494  \n",
       "475               299       339  2704958  2045565  \n",
       "1228              353       420  2303482  2049347  \n",
       "2081              282       305  1615017  1841499  \n",
       "2079               90       104  1567872   742267  \n",
       "2327              192       197  1492510  1251414  \n",
       "2332              965      1017  1406630  4334756  \n",
       "636               246       256  1317929  1885537  \n",
       "2336              535       590  1025350  2523640  \n",
       "128               506       583   947890  3518236  \n",
       "1294               86       105   880619  1009361  \n",
       "2334              514       632   870887  2839777  \n",
       "553               103       128   860090  1177476  \n",
       "942                63        68   854113   499871  \n",
       "458               202       244   842051  1362203  \n",
       "2394              493       559   704352  2659155  \n",
       "685               178       238   693060  1615083  \n",
       "788                52        60   683080   413730  \n",
       "275               295       305   673184  1606926  \n",
       "696               149       159   672795   853112  \n",
       "1812              193       232   660388  1275821  \n",
       "1662               50        59   652717   408937  \n",
       "2149              309       379   639863  1706777  \n",
       "1952               21        36   638367   214330  \n",
       "1449              296       339   632912  2531381  \n",
       "148               334       379   614664  2539679  \n",
       "1716               48        56   595047   451381  \n",
       "26                 32        48   559277   357234  \n",
       "2692               96       102   530706   713739  \n",
       "...               ...       ...      ...      ...  \n",
       "753                 4         4      303    26966  \n",
       "285                 2         2      292    21637  \n",
       "1131                4         4      291    53270  \n",
       "1239                1         3      288    15427  \n",
       "827                 3         3      285    37988  \n",
       "328                 1         1      281    26231  \n",
       "2254                1         1      249    19481  \n",
       "702                 1         1      245    28343  \n",
       "1156                0         1      242    12450  \n",
       "2636                2         2      228    27656  \n",
       "1493                0         8      224    25507  \n",
       "1835                2         2      220    16076  \n",
       "697                 1         8      217    32686  \n",
       "2448                1         2      206    15731  \n",
       "781                 4         4      203    49528  \n",
       "806                 1         2      200    20764  \n",
       "1708                2         2      197    28433  \n",
       "2561                3         3      188    29508  \n",
       "606                 1         1      182    13841  \n",
       "241                10        10      127    26228  \n",
       "2783                3         3      126    44327  \n",
       "1858                1         1      113    24286  \n",
       "2047                5         5      107    35208  \n",
       "265                 0         1      105    14934  \n",
       "437                 2         2      102    20465  \n",
       "305                 2         2       89    19278  \n",
       "2712               14        14       80    55925  \n",
       "2617                4         4       69    50989  \n",
       "171                 2         2       50    23606  \n",
       "1405                4         4       11    13996  \n",
       "\n",
       "[2957 rows x 9 columns]"
      ]
     },
     "execution_count": 121,
     "metadata": {},
     "output_type": "execute_result"
    }
   ],
   "source": [
    "df_ev_config.sort_values(by = 'pop', ascending=False)"
   ]
  },
  {
   "cell_type": "markdown",
   "metadata": {},
   "source": [
    "#### population category research"
   ]
  },
  {
   "cell_type": "code",
   "execution_count": 124,
   "metadata": {},
   "outputs": [
    {
     "data": {
      "text/plain": [
       "(375, 9)"
      ]
     },
     "execution_count": 124,
     "metadata": {},
     "output_type": "execute_result"
    }
   ],
   "source": [
    "df_ev_config[(df_ev_config['pop_x'] >= 100) & (df_ev_config['pop_x'] <= 2500)].shape"
   ]
  },
  {
   "cell_type": "markdown",
   "metadata": {},
   "source": [
    "#### population entry"
   ]
  },
  {
   "cell_type": "code",
   "execution_count": 125,
   "metadata": {
    "collapsed": true
   },
   "outputs": [],
   "source": [
    "df_ev_final = df_ev_config[(df_ev_config['pop_x'] > 7500) & (df_ev_config['pop_x'] < 15000)]"
   ]
  },
  {
   "cell_type": "markdown",
   "metadata": {},
   "source": [
    "#### individual data frames for each charger type"
   ]
  },
  {
   "cell_type": "markdown",
   "metadata": {},
   "source": [
    "#### 1. Fast dataframe"
   ]
  },
  {
   "cell_type": "code",
   "execution_count": 136,
   "metadata": {
    "collapsed": true
   },
   "outputs": [],
   "source": [
    "df_ev1 = df_ev_final[df_ev_final.evdcfastcount != 0]"
   ]
  },
  {
   "cell_type": "code",
   "execution_count": 138,
   "metadata": {
    "collapsed": true
   },
   "outputs": [
    {
     "name": "stderr",
     "output_type": "stream",
     "text": [
      "C:\\Users\\cmagann\\AppData\\Local\\Continuum\\Anaconda2\\lib\\site-packages\\ipykernel_launcher.py:1: SettingWithCopyWarning: \n",
      "A value is trying to be set on a copy of a slice from a DataFrame.\n",
      "Try using .loc[row_indexer,col_indexer] = value instead\n",
      "\n",
      "See the caveats in the documentation: http://pandas.pydata.org/pandas-docs/stable/indexing.html#indexing-view-versus-copy\n",
      "  \"\"\"Entry point for launching an IPython kernel.\n"
     ]
    }
   ],
   "source": [
    "df_ev1[('pop_x')] = df_ev1[('pop_x')].astype(int)\n",
    "# df_ev1[('id_fast')] = df_ev1[('id_x')].astype(int)"
   ]
  },
  {
   "cell_type": "markdown",
   "metadata": {},
   "source": [
    "#### define new column to divde population by ev type to obtain a more alternative sample size"
   ]
  },
  {
   "cell_type": "code",
   "execution_count": 144,
   "metadata": {
    "collapsed": true
   },
   "outputs": [
    {
     "name": "stderr",
     "output_type": "stream",
     "text": [
      "C:\\Users\\cmagann\\AppData\\Local\\Continuum\\Anaconda2\\lib\\site-packages\\ipykernel_launcher.py:2: SettingWithCopyWarning: \n",
      "A value is trying to be set on a copy of a slice from a DataFrame.\n",
      "Try using .loc[row_indexer,col_indexer] = value instead\n",
      "\n",
      "See the caveats in the documentation: http://pandas.pydata.org/pandas-docs/stable/indexing.html#indexing-view-versus-copy\n",
      "  \n"
     ]
    }
   ],
   "source": [
    "# Takes the total number of chargers per  to one population segment\n",
    "df_ev1['pop_div'] = df_ev1.pop_x / df_ev1.evdcfastcount"
   ]
  },
  {
   "cell_type": "code",
   "execution_count": 146,
   "metadata": {
    "collapsed": true
   },
   "outputs": [
    {
     "name": "stderr",
     "output_type": "stream",
     "text": [
      "C:\\Users\\cmagann\\AppData\\Local\\Continuum\\Anaconda2\\lib\\site-packages\\ipykernel_launcher.py:1: SettingWithCopyWarning: \n",
      "A value is trying to be set on a copy of a slice from a DataFrame.\n",
      "Try using .loc[row_indexer,col_indexer] = value instead\n",
      "\n",
      "See the caveats in the documentation: http://pandas.pydata.org/pandas-docs/stable/indexing.html#indexing-view-versus-copy\n",
      "  \"\"\"Entry point for launching an IPython kernel.\n"
     ]
    }
   ],
   "source": [
    "df_ev1[('pop_div')] = df_ev1[('pop_div')].astype(int)"
   ]
  },
  {
   "cell_type": "markdown",
   "metadata": {},
   "source": [
    "#### features setup"
   ]
  },
  {
   "cell_type": "code",
   "execution_count": 216,
   "metadata": {
    "collapsed": true
   },
   "outputs": [],
   "source": [
    "df_ev_fast = df_ev1.drop(['citystate', 'pop', 'id', 'ev_total'], axis=1)"
   ]
  },
  {
   "cell_type": "code",
   "execution_count": 152,
   "metadata": {
    "collapsed": true
   },
   "outputs": [
    {
     "data": {
      "image/png": "[encoded data removed]",
      "text/plain": [
       "<matplotlib.figure.Figure at 0xe5e9828>"
      ]
     },
     "metadata": {},
     "output_type": "display_data"
    }
   ],
   "source": [
    "# visualize correlation matrix in Seaborn using a heatmap\n",
    "sns.heatmap(df_ev_fast.corr())\n",
    "sns.set(font_scale = 1.5)"
   ]
  },
  {
   "cell_type": "markdown",
   "metadata": {},
   "source": [
    "##### create categories"
   ]
  },
  {
   "cell_type": "code",
   "execution_count": 217,
   "metadata": {
    "collapsed": true
   },
   "outputs": [],
   "source": [
    "fast_x = df_ev_fast.drop(['evdcfastcount'], axis=1)"
   ]
  },
  {
   "cell_type": "code",
   "execution_count": 188,
   "metadata": {
    "collapsed": true
   },
   "outputs": [],
   "source": [
    "fast_y = df_ev_fast.evdcfastcount"
   ]
  },
  {
   "cell_type": "markdown",
   "metadata": {},
   "source": [
    "#### ran multiple scatter plot tests on individual x features"
   ]
  },
  {
   "cell_type": "code",
   "execution_count": 280,
   "metadata": {
    "collapsed": true
   },
   "outputs": [
    {
     "data": {
      "text/plain": [
       "<matplotlib.axes._subplots.AxesSubplot at 0xf1b7f98>"
      ]
     },
     "execution_count": 280,
     "metadata": {},
     "output_type": "execute_result"
    },
    {
     "data": {
      "image/png": "[encoded data removed]",
      "text/plain": [
       "<matplotlib.figure.Figure at 0xf4a9eb8>"
      ]
     },
     "metadata": {},
     "output_type": "display_data"
    }
   ],
   "source": [
    "sns.set(font_scale = 1)\n",
    "df_ev_fast.plot(kind='scatter', x='id_x', y='evdcfastcount', figsize=(12, 8))"
   ]
  },
  {
   "cell_type": "markdown",
   "metadata": {
    "collapsed": true
   },
   "source": [
    "#### 2. 110 dataframe"
   ]
  },
  {
   "cell_type": "code",
   "execution_count": 271,
   "metadata": {
    "collapsed": true
   },
   "outputs": [],
   "source": [
    "df_ev2 = df_ev_final[df_ev_final.evlevel1evsenum != 0]"
   ]
  },
  {
   "cell_type": "code",
   "execution_count": 272,
   "metadata": {
    "collapsed": true
   },
   "outputs": [
    {
     "name": "stderr",
     "output_type": "stream",
     "text": [
      "C:\\Users\\cmagann\\AppData\\Local\\Continuum\\Anaconda2\\lib\\site-packages\\ipykernel_launcher.py:1: SettingWithCopyWarning: \n",
      "A value is trying to be set on a copy of a slice from a DataFrame.\n",
      "Try using .loc[row_indexer,col_indexer] = value instead\n",
      "\n",
      "See the caveats in the documentation: http://pandas.pydata.org/pandas-docs/stable/indexing.html#indexing-view-versus-copy\n",
      "  \"\"\"Entry point for launching an IPython kernel.\n"
     ]
    }
   ],
   "source": [
    "df_ev2[('pop_x')] = df_ev2[('pop_x')].astype(int)"
   ]
  },
  {
   "cell_type": "code",
   "execution_count": 273,
   "metadata": {
    "collapsed": true
   },
   "outputs": [
    {
     "name": "stderr",
     "output_type": "stream",
     "text": [
      "C:\\Users\\cmagann\\AppData\\Local\\Continuum\\Anaconda2\\lib\\site-packages\\ipykernel_launcher.py:1: SettingWithCopyWarning: \n",
      "A value is trying to be set on a copy of a slice from a DataFrame.\n",
      "Try using .loc[row_indexer,col_indexer] = value instead\n",
      "\n",
      "See the caveats in the documentation: http://pandas.pydata.org/pandas-docs/stable/indexing.html#indexing-view-versus-copy\n",
      "  \"\"\"Entry point for launching an IPython kernel.\n"
     ]
    }
   ],
   "source": [
    "df_ev2['pop_div'] = df_ev2.pop_x / df_ev2.evlevel1evsenum"
   ]
  },
  {
   "cell_type": "code",
   "execution_count": 274,
   "metadata": {
    "collapsed": true
   },
   "outputs": [
    {
     "name": "stderr",
     "output_type": "stream",
     "text": [
      "C:\\Users\\cmagann\\AppData\\Local\\Continuum\\Anaconda2\\lib\\site-packages\\ipykernel_launcher.py:1: SettingWithCopyWarning: \n",
      "A value is trying to be set on a copy of a slice from a DataFrame.\n",
      "Try using .loc[row_indexer,col_indexer] = value instead\n",
      "\n",
      "See the caveats in the documentation: http://pandas.pydata.org/pandas-docs/stable/indexing.html#indexing-view-versus-copy\n",
      "  \"\"\"Entry point for launching an IPython kernel.\n"
     ]
    }
   ],
   "source": [
    "df_ev2[('pop_div')] = df_ev2[('pop_div')].astype(int)"
   ]
  },
  {
   "cell_type": "code",
   "execution_count": 275,
   "metadata": {
    "collapsed": true
   },
   "outputs": [],
   "source": [
    "df_ev_110 = df_ev2.drop(['citystate', 'pop', 'id', 'ev_total'], axis=1)"
   ]
  },
  {
   "cell_type": "code",
   "execution_count": 276,
   "metadata": {
    "collapsed": true
   },
   "outputs": [
    {
     "data": {
      "image/png": "[encoded data removed]",
      "text/plain": [
       "<matplotlib.figure.Figure at 0xefa7d30>"
      ]
     },
     "metadata": {},
     "output_type": "display_data"
    }
   ],
   "source": [
    "sns.heatmap(df_ev_110.corr())\n",
    "sns.set(font_scale = 1.5)"
   ]
  },
  {
   "cell_type": "code",
   "execution_count": 277,
   "metadata": {
    "collapsed": true
   },
   "outputs": [],
   "source": [
    "x_110 = df_ev_110.drop(['evlevel1evsenum'], axis=1)"
   ]
  },
  {
   "cell_type": "code",
   "execution_count": 278,
   "metadata": {
    "collapsed": true
   },
   "outputs": [],
   "source": [
    "y_110 = df_ev_110.evlevel1evsenum"
   ]
  },
  {
   "cell_type": "code",
   "execution_count": 281,
   "metadata": {
    "collapsed": true
   },
   "outputs": [
    {
     "data": {
      "text/plain": [
       "<matplotlib.axes._subplots.AxesSubplot at 0xf61bba8>"
      ]
     },
     "execution_count": 281,
     "metadata": {},
     "output_type": "execute_result"
    },
    {
     "data": {
      "image/png": "[encoded data removed]",
      "text/plain": [
       "<matplotlib.figure.Figure at 0xefa70b8>"
      ]
     },
     "metadata": {},
     "output_type": "display_data"
    }
   ],
   "source": [
    "sns.set(font_scale = 1)\n",
    "df_ev_110.plot(kind='scatter', x='id_x', y='evlevel1evsenum', figsize=(12, 8))"
   ]
  },
  {
   "cell_type": "markdown",
   "metadata": {
    "collapsed": true
   },
   "source": [
    "#### 3. 220 dataframe"
   ]
  },
  {
   "cell_type": "code",
   "execution_count": 282,
   "metadata": {
    "collapsed": true
   },
   "outputs": [],
   "source": [
    "df_ev3 = df_ev_final[df_ev_final.evlevel2evsenum != 0]"
   ]
  },
  {
   "cell_type": "code",
   "execution_count": 283,
   "metadata": {
    "collapsed": true
   },
   "outputs": [
    {
     "name": "stderr",
     "output_type": "stream",
     "text": [
      "C:\\Users\\cmagann\\AppData\\Local\\Continuum\\Anaconda2\\lib\\site-packages\\ipykernel_launcher.py:1: SettingWithCopyWarning: \n",
      "A value is trying to be set on a copy of a slice from a DataFrame.\n",
      "Try using .loc[row_indexer,col_indexer] = value instead\n",
      "\n",
      "See the caveats in the documentation: http://pandas.pydata.org/pandas-docs/stable/indexing.html#indexing-view-versus-copy\n",
      "  \"\"\"Entry point for launching an IPython kernel.\n"
     ]
    }
   ],
   "source": [
    "df_ev3[('pop_x')] = df_ev3[('pop_x')].astype(int)"
   ]
  },
  {
   "cell_type": "code",
   "execution_count": 284,
   "metadata": {
    "collapsed": true
   },
   "outputs": [
    {
     "name": "stderr",
     "output_type": "stream",
     "text": [
      "C:\\Users\\cmagann\\AppData\\Local\\Continuum\\Anaconda2\\lib\\site-packages\\ipykernel_launcher.py:1: SettingWithCopyWarning: \n",
      "A value is trying to be set on a copy of a slice from a DataFrame.\n",
      "Try using .loc[row_indexer,col_indexer] = value instead\n",
      "\n",
      "See the caveats in the documentation: http://pandas.pydata.org/pandas-docs/stable/indexing.html#indexing-view-versus-copy\n",
      "  \"\"\"Entry point for launching an IPython kernel.\n"
     ]
    }
   ],
   "source": [
    "df_ev3['pop_div'] = df_ev3.pop_x / df_ev3.evlevel2evsenum"
   ]
  },
  {
   "cell_type": "code",
   "execution_count": 285,
   "metadata": {
    "collapsed": true
   },
   "outputs": [
    {
     "name": "stderr",
     "output_type": "stream",
     "text": [
      "C:\\Users\\cmagann\\AppData\\Local\\Continuum\\Anaconda2\\lib\\site-packages\\ipykernel_launcher.py:1: SettingWithCopyWarning: \n",
      "A value is trying to be set on a copy of a slice from a DataFrame.\n",
      "Try using .loc[row_indexer,col_indexer] = value instead\n",
      "\n",
      "See the caveats in the documentation: http://pandas.pydata.org/pandas-docs/stable/indexing.html#indexing-view-versus-copy\n",
      "  \"\"\"Entry point for launching an IPython kernel.\n"
     ]
    }
   ],
   "source": [
    "df_ev3[('pop_div')] = df_ev3[('pop_div')].astype(int)"
   ]
  },
  {
   "cell_type": "code",
   "execution_count": 286,
   "metadata": {
    "collapsed": true
   },
   "outputs": [],
   "source": [
    "df_ev_220 = df_ev3.drop(['citystate', 'pop', 'id', 'ev_total'], axis=1)"
   ]
  },
  {
   "cell_type": "code",
   "execution_count": 287,
   "metadata": {
    "collapsed": true
   },
   "outputs": [
    {
     "data": {
      "image/png": "[encoded data removed]",
      "text/plain": [
       "<matplotlib.figure.Figure at 0xf2f2ac8>"
      ]
     },
     "metadata": {},
     "output_type": "display_data"
    }
   ],
   "source": [
    "sns.heatmap(df_ev_220.corr())\n",
    "sns.set(font_scale = 1.5)"
   ]
  },
  {
   "cell_type": "code",
   "execution_count": 288,
   "metadata": {
    "collapsed": true
   },
   "outputs": [],
   "source": [
    "x_220 = df_ev_220.drop(['evlevel2evsenum'], axis=1)"
   ]
  },
  {
   "cell_type": "code",
   "execution_count": 289,
   "metadata": {
    "collapsed": true
   },
   "outputs": [],
   "source": [
    "y_220 = df_ev_220.evlevel2evsenum"
   ]
  },
  {
   "cell_type": "code",
   "execution_count": 290,
   "metadata": {
    "collapsed": true
   },
   "outputs": [
    {
     "data": {
      "text/plain": [
       "<matplotlib.axes._subplots.AxesSubplot at 0xf817f28>"
      ]
     },
     "execution_count": 290,
     "metadata": {},
     "output_type": "execute_result"
    },
    {
     "data": {
      "image/png": "[encoded data removed]",
      "text/plain": [
       "<matplotlib.figure.Figure at 0xf6c84a8>"
      ]
     },
     "metadata": {},
     "output_type": "display_data"
    }
   ],
   "source": [
    "sns.set(font_scale = 1)\n",
    "df_ev_220.plot(kind='scatter', x='id_x', y='evlevel2evsenum', figsize=(12, 8))"
   ]
  },
  {
   "cell_type": "markdown",
   "metadata": {
    "collapsed": true
   },
   "source": [
    "#### Model Prep"
   ]
  },
  {
   "cell_type": "code",
   "execution_count": 165,
   "metadata": {
    "collapsed": true
   },
   "outputs": [
    {
     "name": "stderr",
     "output_type": "stream",
     "text": [
      "C:\\Users\\cmagann\\AppData\\Local\\Continuum\\Anaconda2\\lib\\site-packages\\sklearn\\cross_validation.py:44: DeprecationWarning: This module was deprecated in version 0.18 in favor of the model_selection module into which all the refactored classes and functions are moved. Also note that the interface of the new CV iterators are different from that of this module. This module will be removed in 0.20.\n",
      "  \"This module will be removed in 0.20.\", DeprecationWarning)\n"
     ]
    }
   ],
   "source": [
    "from sklearn.linear_model import LinearRegression\n",
    "from sklearn.metrics import mean_absolute_error,mean_squared_error,r2_score\n",
    "from sklearn import linear_model, metrics\n",
    "import numpy as np\n",
    "from math import sqrt\n",
    "from sklearn.model_selection import train_test_split\n",
    "from sklearn.cross_validation import KFold"
   ]
  },
  {
   "cell_type": "markdown",
   "metadata": {},
   "source": [
    "#### Fast Charger Model Build"
   ]
  },
  {
   "cell_type": "markdown",
   "metadata": {},
   "source": [
    "Notes: "
   ]
  },
  {
   "cell_type": "code",
   "execution_count": 205,
   "metadata": {},
   "outputs": [
    {
     "data": {
      "text/plain": [
       "[('evlevel1evsenum', -0.19562390552656891),\n",
       " ('evlevel2evsenum', -0.063835879365526038),\n",
       " ('pop_x', 0.00028249141162044975),\n",
       " ('id_x', 5.670585411127454e-06),\n",
       " ('pop_div', -0.00067043761270646268)]"
      ]
     },
     "execution_count": 205,
     "metadata": {},
     "output_type": "execute_result"
    }
   ],
   "source": [
    "# instantiate, fit\n",
    "lr = LinearRegression()\n",
    "lr.fit(fast_x, fast_y)\n",
    "\n",
    "# print coefficients\n",
    "zip(fast_x, lr.coef_)"
   ]
  },
  {
   "cell_type": "code",
   "execution_count": 206,
   "metadata": {},
   "outputs": [
    {
     "data": {
      "text/plain": [
       "0.65916615738113515"
      ]
     },
     "execution_count": 206,
     "metadata": {},
     "output_type": "execute_result"
    }
   ],
   "source": [
    "# calculate the R-squared\n",
    "lr.score(fast_x, fast_y)"
   ]
  },
  {
   "cell_type": "code",
   "execution_count": 207,
   "metadata": {
    "collapsed": true
   },
   "outputs": [
    {
     "data": {
      "text/plain": [
       "array([ 3.63482218,  5.54254893,  3.54320097,  0.23993229,  3.23877286,\n",
       "        4.66705378,  6.03577165,  5.72902232,  3.4921442 ,  6.80286958,\n",
       "        3.47439252,  3.29730371,  3.07863281,  3.71459602,  6.68915197,\n",
       "        3.58952145,  5.9007381 ,  6.18847977,  5.01681023,  3.41333887,\n",
       "        6.22932859,  3.67118465,  3.72626748,  5.11867177,  0.86070395,\n",
       "        5.62054032,  5.22339826,  3.65922771,  3.34659477,  0.28648227,\n",
       "       -1.39556203,  6.24351389,  2.57990044,  3.61445185,  6.55869865,\n",
       "        3.2695588 ,  3.37072091,  3.48576058,  5.13084095,  0.55845401,\n",
       "        6.95439196,  5.41765834,  5.75435997,  5.43736815,  6.63543517,\n",
       "        3.29908814,  0.70323598,  3.47429251,  4.96681281,  6.18749666,\n",
       "        3.63164349, -1.67179355,  5.8562768 ,  0.75556585,  6.73438417,\n",
       "        3.54667897, -0.38108534, -1.0074181 ,  5.41947174,  5.42657859,\n",
       "        5.45802304,  5.76019421, -1.40131505,  6.17011424,  5.31013784,\n",
       "        3.35130948,  5.14398998,  6.33928762,  3.5403119 ,  3.62548396,\n",
       "        5.47027767,  0.02903376,  3.66541176,  3.29323128,  3.111499  ,\n",
       "       -0.01783294,  2.46164355,  5.63533824, -0.36537065,  3.27988656,\n",
       "       -0.89535664,  6.13986602,  0.66915679,  3.96750381,  3.65939746,\n",
       "        3.53782021,  5.76319475,  4.95007028,  0.58920906,  5.10909605,\n",
       "        2.52599636,  6.40832217,  5.37984009,  4.45751845, -0.09035744,\n",
       "        3.43811895,  3.41184891,  3.45299103,  5.41965011,  3.54061725,\n",
       "        7.23950868,  5.70196092, -1.13577004,  6.2620923 ,  6.81490857,\n",
       "        3.53818987,  5.52159561,  5.47680126,  3.50236763, -1.44178503,\n",
       "        3.32223306,  6.12808336,  2.58725771,  3.46118155,  4.98655778,\n",
       "       -0.08929356,  3.21737294,  6.29920189,  3.44004034,  5.13484573,\n",
       "        1.14920599])"
      ]
     },
     "execution_count": 207,
     "metadata": {},
     "output_type": "execute_result"
    }
   ],
   "source": [
    "lr.predict(fast_x)"
   ]
  },
  {
   "cell_type": "code",
   "execution_count": 209,
   "metadata": {},
   "outputs": [
    {
     "data": {
      "text/plain": [
       "3.785123966942149"
      ]
     },
     "execution_count": 209,
     "metadata": {},
     "output_type": "execute_result"
    }
   ],
   "source": [
    "lr.predict(fast_x).mean()"
   ]
  },
  {
   "cell_type": "code",
   "execution_count": 242,
   "metadata": {
    "collapsed": true
   },
   "outputs": [],
   "source": [
    "# Training setup, with random state\n",
    "training_data,holdout = train_test_split(df_ev_fast,test_size=0.5,random_state=123)"
   ]
  },
  {
   "cell_type": "code",
   "execution_count": 299,
   "metadata": {},
   "outputs": [],
   "source": [
    "# KFold setup (ran folds at 5, switched to 3, then 2 for smaller dataset and received improved results)\n",
    "n_fast = training_data.shape[0]\n",
    "kf_fast = KFold(fast_x.shape[0],n_folds=2,random_state=1)"
   ]
  },
  {
   "cell_type": "code",
   "execution_count": 300,
   "metadata": {},
   "outputs": [],
   "source": [
    "### DEFINE X AND Y\n",
    "\n",
    "MAE_score = []\n",
    "MSE_score = []\n",
    "R2_scores = []\n",
    "RMSE_score = []\n",
    "\n",
    "# Use K-Folds cross validation to train your model / kfolds loop (define scores in the loop)\n",
    "# Fill-in the kfolds-loop:\n",
    "# use iloc with scikit\n",
    "\n",
    "for train_index, test_index in kf_fast:\n",
    "    #print(\"TRAIN:\", train_index, \"TEST:\", test_index)\n",
    "    x_train, x_test = fast_x.iloc[train_index], fast_x.iloc[test_index]\n",
    "    y_train, y_true = fast_y.iloc[train_index], fast_y.iloc[test_index] \n",
    "    \n",
    "    # Fit your model on your training x and training y\n",
    "    lr.fit(x_train,y_train)\n",
    "    y_preds = lr.predict(x_test)\n",
    "    \n",
    "    fold_score_fast1 = mean_squared_error(y_true,y_preds)\n",
    "    MSE_score.append(fold_score_fast1)\n",
    "    \n",
    "    fold_score_fast2 = mean_absolute_error(y_true,y_preds)\n",
    "    MAE_score.append(fold_score_fast2)\n",
    "    \n",
    "    fold_score_fast3 = r2_score(y_true,y_preds)\n",
    "    R2_scores.append(fold_score_fast3)\n",
    "    \n",
    "    fold_score_fast4 = sqrt(mean_squared_error(y_true,y_preds))\n",
    "    RMSE_score.append(fold_score_fast4)\n"
   ]
  },
  {
   "cell_type": "code",
   "execution_count": 301,
   "metadata": {},
   "outputs": [
    {
     "data": {
      "text/plain": [
       "[('evlevel1evsenum', 0.22777800011464461),\n",
       " ('evlevel2evsenum', -0.10344083860141112),\n",
       " ('pop_x', 0.00032778377282834657),\n",
       " ('id_x', 7.8984439954141848e-06),\n",
       " ('pop_div', -0.00069899582567874662)]"
      ]
     },
     "execution_count": 301,
     "metadata": {},
     "output_type": "execute_result"
    }
   ],
   "source": [
    "zip(fast_x, lr.coef_)"
   ]
  },
  {
   "cell_type": "code",
   "execution_count": 302,
   "metadata": {},
   "outputs": [
    {
     "data": {
      "text/plain": [
       "array([ 5.67684309, -1.76166914,  6.21072163,  4.86402103,  3.12048691,\n",
       "        5.02058628,  6.35030453,  3.25688584,  3.47415485,  5.47508645,\n",
       "       -0.33519498,  3.43187887,  3.72888629,  2.89488812, -0.33438047,\n",
       "        4.06333322,  5.52001929,  0.17751319,  2.62511858, -1.22341748,\n",
       "        6.07824276,  0.03335162,  2.96287236,  3.43854409,  3.31513674,\n",
       "        5.67017298,  4.78775865,  0.21195085,  4.9766653 ,  4.0599606 ,\n",
       "        6.36482922,  5.31526547,  5.5011659 , -0.48110733,  3.40881617,\n",
       "        3.25819517,  3.23042131,  5.37278114,  3.45189352,  7.36840435,\n",
       "        5.5879857 , -1.61316583,  6.27844892,  6.81746324,  3.45002171,\n",
       "        5.41411518,  5.36025929,  3.22702467, -1.89153218,  3.50269831,\n",
       "        6.16456602,  1.92844658,  3.42403826,  4.83764163, -0.48698614,\n",
       "        3.55862614,  6.37216604,  3.4755573 ,  5.85555463,  0.83257601])"
      ]
     },
     "execution_count": 302,
     "metadata": {},
     "output_type": "execute_result"
    }
   ],
   "source": [
    "lr.predict(x_test)"
   ]
  },
  {
   "cell_type": "code",
   "execution_count": 303,
   "metadata": {},
   "outputs": [
    {
     "data": {
      "text/plain": [
       "3.5442815406519075"
      ]
     },
     "execution_count": 303,
     "metadata": {},
     "output_type": "execute_result"
    }
   ],
   "source": [
    "lr.predict(x_test).mean()"
   ]
  },
  {
   "cell_type": "code",
   "execution_count": 304,
   "metadata": {},
   "outputs": [
    {
     "data": {
      "text/plain": [
       "3.5442815406519075"
      ]
     },
     "execution_count": 304,
     "metadata": {},
     "output_type": "execute_result"
    }
   ],
   "source": [
    "y_preds.mean()"
   ]
  },
  {
   "cell_type": "code",
   "execution_count": 305,
   "metadata": {},
   "outputs": [
    {
     "data": {
      "text/plain": [
       "3.683333333333333"
      ]
     },
     "execution_count": 305,
     "metadata": {},
     "output_type": "execute_result"
    }
   ],
   "source": [
    "y_true.mean()"
   ]
  },
  {
   "cell_type": "code",
   "execution_count": 306,
   "metadata": {},
   "outputs": [
    {
     "data": {
      "text/plain": [
       "[2.4109321458540829, 3.1744661966854713]"
      ]
     },
     "execution_count": 306,
     "metadata": {},
     "output_type": "execute_result"
    }
   ],
   "source": [
    "# mean squared error\n",
    "MSE_score"
   ]
  },
  {
   "cell_type": "code",
   "execution_count": 307,
   "metadata": {},
   "outputs": [
    {
     "data": {
      "text/plain": [
       "[1.3598904995797729, 1.477374461624319]"
      ]
     },
     "execution_count": 307,
     "metadata": {},
     "output_type": "execute_result"
    }
   ],
   "source": [
    "# mean absolute error\n",
    "MAE_score"
   ]
  },
  {
   "cell_type": "code",
   "execution_count": 308,
   "metadata": {},
   "outputs": [
    {
     "data": {
      "text/plain": [
       "[1.5527176645656102, 1.7817031730020214]"
      ]
     },
     "execution_count": 308,
     "metadata": {},
     "output_type": "execute_result"
    }
   ],
   "source": [
    "# root squared mean error\n",
    "RMSE_score"
   ]
  },
  {
   "cell_type": "code",
   "execution_count": 309,
   "metadata": {},
   "outputs": [
    {
     "data": {
      "text/plain": [
       "[0.67332756118552761, 0.59037677665623511]"
      ]
     },
     "execution_count": 309,
     "metadata": {},
     "output_type": "execute_result"
    }
   ],
   "source": [
    "# root squared\n",
    "R2_scores"
   ]
  },
  {
   "cell_type": "code",
   "execution_count": 310,
   "metadata": {},
   "outputs": [
    {
     "data": {
      "text/plain": [
       "3.5028326116802129"
      ]
     },
     "execution_count": 310,
     "metadata": {},
     "output_type": "execute_result"
    }
   ],
   "source": [
    "# normalize view\n",
    "lr.intercept_"
   ]
  },
  {
   "cell_type": "code",
   "execution_count": 311,
   "metadata": {},
   "outputs": [
    {
     "data": {
      "text/plain": [
       "[5.6768430892972912,\n",
       " -1.761669143547012,\n",
       " 6.2107216267498249,\n",
       " 4.8640210280994651,\n",
       " 3.1204869102999169]"
      ]
     },
     "execution_count": 311,
     "metadata": {},
     "output_type": "execute_result"
    }
   ],
   "source": [
    "list(lr.predict(x_test)[0:5]) "
   ]
  },
  {
   "cell_type": "code",
   "execution_count": null,
   "metadata": {
    "collapsed": true
   },
   "outputs": [],
   "source": [
    "# Holdout Testing"
   ]
  },
  {
   "cell_type": "code",
   "execution_count": 312,
   "metadata": {
    "collapsed": true
   },
   "outputs": [],
   "source": [
    "# Training setup\n",
    "training_data = holdout"
   ]
  },
  {
   "cell_type": "code",
   "execution_count": 313,
   "metadata": {
    "collapsed": true
   },
   "outputs": [
    {
     "data": {
      "text/html": [
       "<div>\n",
       "<style>\n",
       "    .dataframe thead tr:only-child th {\n",
       "        text-align: right;\n",
       "    }\n",
       "\n",
       "    .dataframe thead th {\n",
       "        text-align: left;\n",
       "    }\n",
       "\n",
       "    .dataframe tbody tr th {\n",
       "        vertical-align: top;\n",
       "    }\n",
       "</style>\n",
       "<table border=\"1\" class=\"dataframe\">\n",
       "  <thead>\n",
       "    <tr style=\"text-align: right;\">\n",
       "      <th></th>\n",
       "      <th>evdcfastcount</th>\n",
       "      <th>evlevel1evsenum</th>\n",
       "      <th>evlevel2evsenum</th>\n",
       "      <th>pop_x</th>\n",
       "      <th>id_x</th>\n",
       "      <th>pop_div</th>\n",
       "    </tr>\n",
       "  </thead>\n",
       "  <tbody>\n",
       "    <tr>\n",
       "      <th>110</th>\n",
       "      <td>2</td>\n",
       "      <td>0</td>\n",
       "      <td>1</td>\n",
       "      <td>13748</td>\n",
       "      <td>6837</td>\n",
       "      <td>6874</td>\n",
       "    </tr>\n",
       "    <tr>\n",
       "      <th>2395</th>\n",
       "      <td>4</td>\n",
       "      <td>3</td>\n",
       "      <td>7</td>\n",
       "      <td>7678</td>\n",
       "      <td>109355</td>\n",
       "      <td>1919</td>\n",
       "    </tr>\n",
       "    <tr>\n",
       "      <th>1755</th>\n",
       "      <td>2</td>\n",
       "      <td>1</td>\n",
       "      <td>19</td>\n",
       "      <td>7535</td>\n",
       "      <td>163693</td>\n",
       "      <td>3767</td>\n",
       "    </tr>\n",
       "    <tr>\n",
       "      <th>2669</th>\n",
       "      <td>2</td>\n",
       "      <td>0</td>\n",
       "      <td>0</td>\n",
       "      <td>11113</td>\n",
       "      <td>23821</td>\n",
       "      <td>5556</td>\n",
       "    </tr>\n",
       "    <tr>\n",
       "      <th>780</th>\n",
       "      <td>6</td>\n",
       "      <td>0</td>\n",
       "      <td>0</td>\n",
       "      <td>12655</td>\n",
       "      <td>16542</td>\n",
       "      <td>2109</td>\n",
       "    </tr>\n",
       "  </tbody>\n",
       "</table>\n",
       "</div>"
      ],
      "text/plain": [
       "      evdcfastcount  evlevel1evsenum  evlevel2evsenum  pop_x    id_x  pop_div\n",
       "110               2                0                1  13748    6837     6874\n",
       "2395              4                3                7   7678  109355     1919\n",
       "1755              2                1               19   7535  163693     3767\n",
       "2669              2                0                0  11113   23821     5556\n",
       "780               6                0                0  12655   16542     2109"
      ]
     },
     "execution_count": 313,
     "metadata": {},
     "output_type": "execute_result"
    }
   ],
   "source": [
    "holdout.head()"
   ]
  },
  {
   "cell_type": "code",
   "execution_count": 314,
   "metadata": {
    "collapsed": true
   },
   "outputs": [
    {
     "data": {
      "text/plain": [
       "evdcfastcount      int32\n",
       "evlevel1evsenum    int32\n",
       "evlevel2evsenum    int32\n",
       "pop_x              int32\n",
       "id_x               int32\n",
       "pop_div            int32\n",
       "dtype: object"
      ]
     },
     "execution_count": 314,
     "metadata": {},
     "output_type": "execute_result"
    }
   ],
   "source": [
    "holdout.dtypes"
   ]
  },
  {
   "cell_type": "code",
   "execution_count": 315,
   "metadata": {
    "collapsed": true
   },
   "outputs": [
    {
     "ename": "ValueError",
     "evalue": "Must pass DataFrame with boolean values only",
     "output_type": "error",
     "traceback": [
      "\u001b[1;31m---------------------------------------------------------------------------\u001b[0m",
      "\u001b[1;31mValueError\u001b[0m                                Traceback (most recent call last)",
      "\u001b[1;32m<ipython-input-315-39a6145ebbb0>\u001b[0m in \u001b[0;36m<module>\u001b[1;34m()\u001b[0m\n\u001b[0;32m      1\u001b[0m \u001b[1;31m# Error on fast_x set > Must pass DataFrame with boolean values only\u001b[0m\u001b[1;33m\u001b[0m\u001b[1;33m\u001b[0m\u001b[0m\n\u001b[1;32m----> 2\u001b[1;33m \u001b[0mfast_x\u001b[0m \u001b[1;33m=\u001b[0m \u001b[0mholdout\u001b[0m\u001b[1;33m[\u001b[0m\u001b[0mfast_x\u001b[0m\u001b[1;33m]\u001b[0m\u001b[1;33m\u001b[0m\u001b[0m\n\u001b[0m\u001b[0;32m      3\u001b[0m \u001b[0mfast_y\u001b[0m \u001b[1;33m=\u001b[0m \u001b[0mholdout\u001b[0m\u001b[1;33m[\u001b[0m\u001b[0mfast_y\u001b[0m\u001b[1;33m]\u001b[0m\u001b[1;33m\u001b[0m\u001b[0m\n",
      "\u001b[1;32mC:\\Users\\cmagann\\AppData\\Local\\Continuum\\Anaconda2\\lib\\site-packages\\pandas\\core\\frame.pyc\u001b[0m in \u001b[0;36m__getitem__\u001b[1;34m(self, key)\u001b[0m\n\u001b[0;32m   2056\u001b[0m             \u001b[1;32mreturn\u001b[0m \u001b[0mself\u001b[0m\u001b[1;33m.\u001b[0m\u001b[0m_getitem_array\u001b[0m\u001b[1;33m(\u001b[0m\u001b[0mkey\u001b[0m\u001b[1;33m)\u001b[0m\u001b[1;33m\u001b[0m\u001b[0m\n\u001b[0;32m   2057\u001b[0m         \u001b[1;32melif\u001b[0m \u001b[0misinstance\u001b[0m\u001b[1;33m(\u001b[0m\u001b[0mkey\u001b[0m\u001b[1;33m,\u001b[0m \u001b[0mDataFrame\u001b[0m\u001b[1;33m)\u001b[0m\u001b[1;33m:\u001b[0m\u001b[1;33m\u001b[0m\u001b[0m\n\u001b[1;32m-> 2058\u001b[1;33m             \u001b[1;32mreturn\u001b[0m \u001b[0mself\u001b[0m\u001b[1;33m.\u001b[0m\u001b[0m_getitem_frame\u001b[0m\u001b[1;33m(\u001b[0m\u001b[0mkey\u001b[0m\u001b[1;33m)\u001b[0m\u001b[1;33m\u001b[0m\u001b[0m\n\u001b[0m\u001b[0;32m   2059\u001b[0m         \u001b[1;32melif\u001b[0m \u001b[0mis_mi_columns\u001b[0m\u001b[1;33m:\u001b[0m\u001b[1;33m\u001b[0m\u001b[0m\n\u001b[0;32m   2060\u001b[0m             \u001b[1;32mreturn\u001b[0m \u001b[0mself\u001b[0m\u001b[1;33m.\u001b[0m\u001b[0m_getitem_multilevel\u001b[0m\u001b[1;33m(\u001b[0m\u001b[0mkey\u001b[0m\u001b[1;33m)\u001b[0m\u001b[1;33m\u001b[0m\u001b[0m\n",
      "\u001b[1;32mC:\\Users\\cmagann\\AppData\\Local\\Continuum\\Anaconda2\\lib\\site-packages\\pandas\\core\\frame.pyc\u001b[0m in \u001b[0;36m_getitem_frame\u001b[1;34m(self, key)\u001b[0m\n\u001b[0;32m   2131\u001b[0m     \u001b[1;32mdef\u001b[0m \u001b[0m_getitem_frame\u001b[0m\u001b[1;33m(\u001b[0m\u001b[0mself\u001b[0m\u001b[1;33m,\u001b[0m \u001b[0mkey\u001b[0m\u001b[1;33m)\u001b[0m\u001b[1;33m:\u001b[0m\u001b[1;33m\u001b[0m\u001b[0m\n\u001b[0;32m   2132\u001b[0m         \u001b[1;32mif\u001b[0m \u001b[0mkey\u001b[0m\u001b[1;33m.\u001b[0m\u001b[0mvalues\u001b[0m\u001b[1;33m.\u001b[0m\u001b[0msize\u001b[0m \u001b[1;32mand\u001b[0m \u001b[1;32mnot\u001b[0m \u001b[0mis_bool_dtype\u001b[0m\u001b[1;33m(\u001b[0m\u001b[0mkey\u001b[0m\u001b[1;33m.\u001b[0m\u001b[0mvalues\u001b[0m\u001b[1;33m)\u001b[0m\u001b[1;33m:\u001b[0m\u001b[1;33m\u001b[0m\u001b[0m\n\u001b[1;32m-> 2133\u001b[1;33m             \u001b[1;32mraise\u001b[0m \u001b[0mValueError\u001b[0m\u001b[1;33m(\u001b[0m\u001b[1;34m'Must pass DataFrame with boolean values only'\u001b[0m\u001b[1;33m)\u001b[0m\u001b[1;33m\u001b[0m\u001b[0m\n\u001b[0m\u001b[0;32m   2134\u001b[0m         \u001b[1;32mreturn\u001b[0m \u001b[0mself\u001b[0m\u001b[1;33m.\u001b[0m\u001b[0mwhere\u001b[0m\u001b[1;33m(\u001b[0m\u001b[0mkey\u001b[0m\u001b[1;33m)\u001b[0m\u001b[1;33m\u001b[0m\u001b[0m\n\u001b[0;32m   2135\u001b[0m \u001b[1;33m\u001b[0m\u001b[0m\n",
      "\u001b[1;31mValueError\u001b[0m: Must pass DataFrame with boolean values only"
     ]
    }
   ],
   "source": [
    "# Error on fast_x set > Must pass DataFrame with boolean values only\n",
    "fast_x = holdout[fast_x]\n",
    "fast_y = holdout[fast_y]"
   ]
  },
  {
   "cell_type": "code",
   "execution_count": 254,
   "metadata": {
    "collapsed": true
   },
   "outputs": [
    {
     "ename": "ValueError",
     "evalue": "Must pass DataFrame with boolean values only",
     "output_type": "error",
     "traceback": [
      "\u001b[1;31m---------------------------------------------------------------------------\u001b[0m",
      "\u001b[1;31mValueError\u001b[0m                                Traceback (most recent call last)",
      "\u001b[1;32m<ipython-input-254-8e00c3cbaf76>\u001b[0m in \u001b[0;36m<module>\u001b[1;34m()\u001b[0m\n\u001b[1;32m----> 1\u001b[1;33m \u001b[0mholdout\u001b[0m\u001b[1;33m[\u001b[0m\u001b[0mfast_x\u001b[0m\u001b[1;33m]\u001b[0m\u001b[1;33m.\u001b[0m\u001b[0mhead\u001b[0m\u001b[1;33m(\u001b[0m\u001b[1;33m)\u001b[0m\u001b[1;33m\u001b[0m\u001b[0m\n\u001b[0m",
      "\u001b[1;32mC:\\Users\\cmagann\\AppData\\Local\\Continuum\\Anaconda2\\lib\\site-packages\\pandas\\core\\frame.pyc\u001b[0m in \u001b[0;36m__getitem__\u001b[1;34m(self, key)\u001b[0m\n\u001b[0;32m   2056\u001b[0m             \u001b[1;32mreturn\u001b[0m \u001b[0mself\u001b[0m\u001b[1;33m.\u001b[0m\u001b[0m_getitem_array\u001b[0m\u001b[1;33m(\u001b[0m\u001b[0mkey\u001b[0m\u001b[1;33m)\u001b[0m\u001b[1;33m\u001b[0m\u001b[0m\n\u001b[0;32m   2057\u001b[0m         \u001b[1;32melif\u001b[0m \u001b[0misinstance\u001b[0m\u001b[1;33m(\u001b[0m\u001b[0mkey\u001b[0m\u001b[1;33m,\u001b[0m \u001b[0mDataFrame\u001b[0m\u001b[1;33m)\u001b[0m\u001b[1;33m:\u001b[0m\u001b[1;33m\u001b[0m\u001b[0m\n\u001b[1;32m-> 2058\u001b[1;33m             \u001b[1;32mreturn\u001b[0m \u001b[0mself\u001b[0m\u001b[1;33m.\u001b[0m\u001b[0m_getitem_frame\u001b[0m\u001b[1;33m(\u001b[0m\u001b[0mkey\u001b[0m\u001b[1;33m)\u001b[0m\u001b[1;33m\u001b[0m\u001b[0m\n\u001b[0m\u001b[0;32m   2059\u001b[0m         \u001b[1;32melif\u001b[0m \u001b[0mis_mi_columns\u001b[0m\u001b[1;33m:\u001b[0m\u001b[1;33m\u001b[0m\u001b[0m\n\u001b[0;32m   2060\u001b[0m             \u001b[1;32mreturn\u001b[0m \u001b[0mself\u001b[0m\u001b[1;33m.\u001b[0m\u001b[0m_getitem_multilevel\u001b[0m\u001b[1;33m(\u001b[0m\u001b[0mkey\u001b[0m\u001b[1;33m)\u001b[0m\u001b[1;33m\u001b[0m\u001b[0m\n",
      "\u001b[1;32mC:\\Users\\cmagann\\AppData\\Local\\Continuum\\Anaconda2\\lib\\site-packages\\pandas\\core\\frame.pyc\u001b[0m in \u001b[0;36m_getitem_frame\u001b[1;34m(self, key)\u001b[0m\n\u001b[0;32m   2131\u001b[0m     \u001b[1;32mdef\u001b[0m \u001b[0m_getitem_frame\u001b[0m\u001b[1;33m(\u001b[0m\u001b[0mself\u001b[0m\u001b[1;33m,\u001b[0m \u001b[0mkey\u001b[0m\u001b[1;33m)\u001b[0m\u001b[1;33m:\u001b[0m\u001b[1;33m\u001b[0m\u001b[0m\n\u001b[0;32m   2132\u001b[0m         \u001b[1;32mif\u001b[0m \u001b[0mkey\u001b[0m\u001b[1;33m.\u001b[0m\u001b[0mvalues\u001b[0m\u001b[1;33m.\u001b[0m\u001b[0msize\u001b[0m \u001b[1;32mand\u001b[0m \u001b[1;32mnot\u001b[0m \u001b[0mis_bool_dtype\u001b[0m\u001b[1;33m(\u001b[0m\u001b[0mkey\u001b[0m\u001b[1;33m.\u001b[0m\u001b[0mvalues\u001b[0m\u001b[1;33m)\u001b[0m\u001b[1;33m:\u001b[0m\u001b[1;33m\u001b[0m\u001b[0m\n\u001b[1;32m-> 2133\u001b[1;33m             \u001b[1;32mraise\u001b[0m \u001b[0mValueError\u001b[0m\u001b[1;33m(\u001b[0m\u001b[1;34m'Must pass DataFrame with boolean values only'\u001b[0m\u001b[1;33m)\u001b[0m\u001b[1;33m\u001b[0m\u001b[0m\n\u001b[0m\u001b[0;32m   2134\u001b[0m         \u001b[1;32mreturn\u001b[0m \u001b[0mself\u001b[0m\u001b[1;33m.\u001b[0m\u001b[0mwhere\u001b[0m\u001b[1;33m(\u001b[0m\u001b[0mkey\u001b[0m\u001b[1;33m)\u001b[0m\u001b[1;33m\u001b[0m\u001b[0m\n\u001b[0;32m   2135\u001b[0m \u001b[1;33m\u001b[0m\u001b[0m\n",
      "\u001b[1;31mValueError\u001b[0m: Must pass DataFrame with boolean values only"
     ]
    }
   ],
   "source": [
    "holdout[fast_x].head()"
   ]
  },
  {
   "cell_type": "code",
   "execution_count": 316,
   "metadata": {},
   "outputs": [
    {
     "data": {
      "text/plain": [
       "3.7161726647860696"
      ]
     },
     "execution_count": 316,
     "metadata": {},
     "output_type": "execute_result"
    }
   ],
   "source": [
    "lr.predict(fast_x).mean()"
   ]
  },
  {
   "cell_type": "code",
   "execution_count": 317,
   "metadata": {
    "collapsed": true
   },
   "outputs": [
    {
     "data": {
      "text/plain": [
       "array([ 3.48070973,  5.38070157,  3.66187061, -0.07531236,  3.15486744,\n",
       "        4.0159049 ,  5.99903317,  5.62877321,  3.50357926,  6.77630636,\n",
       "        3.38990441,  3.25776521,  2.5902602 ,  3.5143354 ,  6.73759626,\n",
       "        3.4280818 ,  5.80424046,  6.18660569,  4.86013544,  3.27370354,\n",
       "        6.24457236,  3.50524591,  3.64369277,  5.47682991,  0.4088686 ,\n",
       "        5.533437  ,  5.15362379,  3.53762691,  3.14274348,  0.01318542,\n",
       "       -1.66320403,  6.30741012,  2.31028495,  3.50557589,  6.64310482,\n",
       "        3.83655831,  3.52231388,  3.42837465,  5.28839501,  0.16981117,\n",
       "        7.10912891,  5.33593112,  5.56592729,  5.29928012,  6.69842409,\n",
       "        3.09724421,  0.59885575,  3.22087799,  5.01846435,  5.92136478,\n",
       "        3.483562  , -1.06419006,  6.74924838,  0.45601385,  6.84430237,\n",
       "        3.32909349, -0.62165777, -1.35580276,  6.04910831,  5.25982105,\n",
       "        5.42748931,  5.67684309, -1.76166914,  6.21072163,  4.86402103,\n",
       "        3.12048691,  5.02058628,  6.35030453,  3.25688584,  3.47415485,\n",
       "        5.47508645, -0.33519498,  3.43187887,  3.72888629,  2.89488812,\n",
       "       -0.33438047,  4.06333322,  5.52001929,  0.17751319,  2.62511858,\n",
       "       -1.22341748,  6.07824276,  0.03335162,  2.96287236,  3.43854409,\n",
       "        3.31513674,  5.67017298,  4.78775865,  0.21195085,  4.9766653 ,\n",
       "        4.0599606 ,  6.36482922,  5.31526547,  5.5011659 , -0.48110733,\n",
       "        3.40881617,  3.25819517,  3.23042131,  5.37278114,  3.45189352,\n",
       "        7.36840435,  5.5879857 , -1.61316583,  6.27844892,  6.81746324,\n",
       "        3.45002171,  5.41411518,  5.36025929,  3.22702467, -1.89153218,\n",
       "        3.50269831,  6.16456602,  1.92844658,  3.42403826,  4.83764163,\n",
       "       -0.48698614,  3.55862614,  6.37216604,  3.4755573 ,  5.85555463,\n",
       "        0.83257601])"
      ]
     },
     "execution_count": 317,
     "metadata": {},
     "output_type": "execute_result"
    }
   ],
   "source": [
    "lr.predict(fast_x)"
   ]
  },
  {
   "cell_type": "markdown",
   "metadata": {
    "collapsed": true
   },
   "source": [
    "#### grid search"
   ]
  },
  {
   "cell_type": "code",
   "execution_count": 318,
   "metadata": {
    "collapsed": true
   },
   "outputs": [
    {
     "data": {
      "text/plain": [
       "GridSearchCV(cv=None, error_score='raise',\n",
       "       estimator=Ridge(alpha=1.0, copy_X=True, fit_intercept=True, max_iter=None,\n",
       "   normalize=False, random_state=None, solver='auto', tol=0.001),\n",
       "       fit_params={}, iid=True, n_jobs=1,\n",
       "       param_grid={'alpha': array([  1.00000e-10,   1.00000e-09,   1.00000e-08,   1.00000e-07,\n",
       "         1.00000e-06,   1.00000e-05,   1.00000e-04,   1.00000e-03,\n",
       "         1.00000e-02,   1.00000e-01,   1.00000e+00,   1.00000e+01,\n",
       "         1.00000e+02,   1.00000e+03,   1.00000e+04,   1.00000e+05,\n",
       "         1.00000e+06,   1.00000e+07,   1.00000e+08,   1.00000e+09,\n",
       "         1.00000e+10])},\n",
       "       pre_dispatch='2*n_jobs', refit=True,\n",
       "       scoring='neg_mean_squared_error', verbose=0)"
      ]
     },
     "execution_count": 318,
     "metadata": {},
     "output_type": "execute_result"
    }
   ],
   "source": [
    "from sklearn import grid_search\n",
    "\n",
    "alphas = np.logspace(-10, 10, 21)\n",
    "gs = grid_search.GridSearchCV(\n",
    "    estimator=linear_model.Ridge(),\n",
    "    param_grid={'alpha': alphas},\n",
    "    scoring='neg_mean_squared_error')\n",
    "\n",
    "gs.fit(fast_x, fast_y)"
   ]
  },
  {
   "cell_type": "code",
   "execution_count": 319,
   "metadata": {},
   "outputs": [
    {
     "name": "stdout",
     "output_type": "stream",
     "text": [
      "-2.82181422096\n"
     ]
    }
   ],
   "source": [
    "# new population divide feature reduced score to -16 from -18\n",
    "print(gs.best_score_)"
   ]
  },
  {
   "cell_type": "code",
   "execution_count": 320,
   "metadata": {},
   "outputs": [
    {
     "name": "stdout",
     "output_type": "stream",
     "text": [
      "2.82181422096\n"
     ]
    }
   ],
   "source": [
    "print(-gs.best_score_)"
   ]
  },
  {
   "cell_type": "code",
   "execution_count": 321,
   "metadata": {},
   "outputs": [
    {
     "name": "stdout",
     "output_type": "stream",
     "text": [
      "Ridge(alpha=100.0, copy_X=True, fit_intercept=True, max_iter=None,\n",
      "   normalize=False, random_state=None, solver='auto', tol=0.001)\n"
     ]
    }
   ],
   "source": [
    "print(gs.best_estimator_)"
   ]
  },
  {
   "cell_type": "code",
   "execution_count": 268,
   "metadata": {
    "collapsed": true
   },
   "outputs": [
    {
     "name": "stdout",
     "output_type": "stream",
     "text": [
      "[mean: -2.92217, std: 0.34786, params: {'alpha': 1e-10}, mean: -2.92217, std: 0.34786, params: {'alpha': 1.0000000000000001e-09}, mean: -2.92217, std: 0.34786, params: {'alpha': 1e-08}, mean: -2.92217, std: 0.34786, params: {'alpha': 9.9999999999999995e-08}, mean: -2.92217, std: 0.34786, params: {'alpha': 9.9999999999999995e-07}, mean: -2.92217, std: 0.34786, params: {'alpha': 1.0000000000000001e-05}, mean: -2.92217, std: 0.34786, params: {'alpha': 0.0001}, mean: -2.92217, std: 0.34785, params: {'alpha': 0.001}, mean: -2.92212, std: 0.34782, params: {'alpha': 0.01}, mean: -2.92160, std: 0.34745, params: {'alpha': 0.10000000000000001}, mean: -2.91662, std: 0.34401, params: {'alpha': 1.0}, mean: -2.88152, std: 0.32374, params: {'alpha': 10.0}, mean: -2.82181, std: 0.31063, params: {'alpha': 100.0}, mean: -2.83476, std: 0.32439, params: {'alpha': 1000.0}, mean: -2.86459, std: 0.33465, params: {'alpha': 10000.0}, mean: -2.87076, std: 0.33608, params: {'alpha': 100000.0}, mean: -2.87056, std: 0.33663, params: {'alpha': 1000000.0}, mean: -2.86308, std: 0.34178, params: {'alpha': 10000000.0}, mean: -2.87917, std: 0.43235, params: {'alpha': 100000000.0}, mean: -4.17644, std: 0.68828, params: {'alpha': 1000000000.0}, mean: -6.85773, std: 0.63579, params: {'alpha': 10000000000.0}]\n"
     ]
    }
   ],
   "source": [
    "print(gs.grid_scores_)"
   ]
  },
  {
   "cell_type": "code",
   "execution_count": 322,
   "metadata": {},
   "outputs": [
    {
     "name": "stdout",
     "output_type": "stream",
     "text": [
      "~~~ OLS ~~~\n",
      "('OLS MSE: ', 2.5813606633860711)\n",
      "('OLS R2:', 0.65916615738113515)\n",
      "~~~ Lasso ~~~\n",
      "('Lasso MSE: ', 2.6456286592560105)\n",
      "('Lasso R2:', 0.65068043576134726)\n",
      "~~~ Ridge ~~~\n",
      "('Ridge MSE: ', 2.581365434990341)\n",
      "('Ridge R2:', 0.6591655273551793)\n"
     ]
    }
   ],
   "source": [
    "lm = linear_model.LinearRegression().fit(fast_x, fast_y)\n",
    "print(\"~~~ OLS ~~~\")\n",
    "print('OLS MSE: ', metrics.mean_squared_error(fast_y, lm.predict(fast_x)))\n",
    "print('OLS R2:', lm.score(fast_x, fast_y))\n",
    "\n",
    "lm = linear_model.Lasso().fit(fast_x, fast_y)\n",
    "print(\"~~~ Lasso ~~~\")\n",
    "print('Lasso MSE: ', metrics.mean_squared_error(fast_y, lm.predict(fast_x)))\n",
    "print('Lasso R2:', lm.score(fast_x, fast_y))\n",
    "\n",
    "lm = linear_model.Ridge().fit(fast_x, fast_y)\n",
    "print(\"~~~ Ridge ~~~\")\n",
    "print('Ridge MSE: ', metrics.mean_squared_error(fast_y, lm.predict(fast_x)))\n",
    "print('Ridge R2:', lm.score(fast_x, fast_y))"
   ]
  },
  {
   "cell_type": "markdown",
   "metadata": {},
   "source": [
    "#### 110 Charger Model Build (simple model run through only for initial score, very low number of instances for 110s overall)"
   ]
  },
  {
   "cell_type": "markdown",
   "metadata": {},
   "source": [
    "Notes: "
   ]
  },
  {
   "cell_type": "code",
   "execution_count": 327,
   "metadata": {},
   "outputs": [
    {
     "data": {
      "text/plain": [
       "[('evdcfastcount', -0.095376431601758085),\n",
       " ('evlevel2evsenum', 0.21674946902299988),\n",
       " ('pop_x', 0.00030076012896063152),\n",
       " ('id_x', -2.9193520821260641e-05),\n",
       " ('pop_div', -0.0005484563803167552)]"
      ]
     },
     "execution_count": 327,
     "metadata": {},
     "output_type": "execute_result"
    }
   ],
   "source": [
    "# create X and y\n",
    "X_110 = x_110\n",
    "y_110 = y_110\n",
    "\n",
    "# instantiate, fit\n",
    "lr = LinearRegression()\n",
    "lr.fit(X_110, y_110)\n",
    "\n",
    "# print coefficients\n",
    "zip(X_110, lr.coef_)"
   ]
  },
  {
   "cell_type": "code",
   "execution_count": 328,
   "metadata": {},
   "outputs": [
    {
     "data": {
      "text/plain": [
       "0.50545979613607395"
      ]
     },
     "execution_count": 328,
     "metadata": {},
     "output_type": "execute_result"
    }
   ],
   "source": [
    "lr.score(X_110, y_110)"
   ]
  },
  {
   "cell_type": "code",
   "execution_count": 329,
   "metadata": {
    "collapsed": true
   },
   "outputs": [
    {
     "data": {
      "text/plain": [
       "array([ 3.33474521,  4.64897977,  2.16666627,  0.9249676 ,  4.12390438,\n",
       "        8.22257464,  5.46658391,  5.0748017 ,  2.84083734,  6.66674997,\n",
       "        3.17126589,  3.36150008,  4.57817575,  3.29094246,  4.34872206,\n",
       "        3.15705869,  5.27927971,  5.547418  ,  4.84314266,  3.09112507,\n",
       "        5.30173114,  3.09051211,  2.33402594,  4.28530204,  1.25540616,\n",
       "        4.26166468,  4.83128789,  2.74067848,  3.79673757,  0.67598351,\n",
       "       -0.11941304,  5.90849562,  4.46250109,  3.0068769 ,  5.68623907,\n",
       "        2.93100862,  3.2991255 ,  3.36689623,  5.51616815,  1.31078184,\n",
       "        4.73217061,  4.97471079,  4.52671632,  4.64453231,  5.84404089,\n",
       "        3.4014424 ,  1.25649738,  3.61152734,  3.84226605,  3.62350998,\n",
       "        3.3180861 , -0.68004844,  5.07192634,  0.44605996,  6.28310019,\n",
       "        3.56376208,  0.19761275,  0.67313857,  4.81987277,  4.99609994,\n",
       "        5.97770642,  4.75366998,  0.50133083,  5.35163491,  5.51867382,\n",
       "        4.0896019 ,  4.30049357,  6.29531108,  3.17521725,  3.35371559,\n",
       "        4.29585256,  0.95182173,  3.06964664,  2.93306742,  3.18627078,\n",
       "        0.92524736,  3.22213938,  4.80581105,  0.26512052,  2.89906815,\n",
       "        0.71546777,  5.41077568,  0.63770233,  8.56058247,  3.21005328,\n",
       "        3.61847183,  5.11450442,  4.62733688,  1.46638455,  3.9684325 ,\n",
       "        3.33120416,  5.86447027,  5.07303731,  3.03739792,  0.07725476,\n",
       "        3.39202315,  3.5251718 ,  3.71474764,  4.62870332,  2.61368298,\n",
       "        2.34240668,  5.32407825, -0.97446504,  5.53819459,  5.32442138,\n",
       "        3.34169472,  5.02283408,  4.90255251,  3.98292595,  0.46639784,\n",
       "        2.96052409,  5.76656465,  6.64093975,  3.35187043,  4.54646786,\n",
       "        1.38813885,  3.44879512,  6.14599799,  2.89669305,  4.23073551,\n",
       "        1.30803101])"
      ]
     },
     "execution_count": 329,
     "metadata": {},
     "output_type": "execute_result"
    }
   ],
   "source": [
    "lr.predict(fast_x)"
   ]
  },
  {
   "cell_type": "code",
   "execution_count": 330,
   "metadata": {},
   "outputs": [
    {
     "data": {
      "text/plain": [
       "3.6499428118082728"
      ]
     },
     "execution_count": 330,
     "metadata": {},
     "output_type": "execute_result"
    }
   ],
   "source": [
    "lr.predict(fast_x).mean()"
   ]
  },
  {
   "cell_type": "markdown",
   "metadata": {},
   "source": [
    "#### 220 Charger Model Build (simple model run through only for initial score)"
   ]
  },
  {
   "cell_type": "markdown",
   "metadata": {},
   "source": [
    "Notes: "
   ]
  },
  {
   "cell_type": "code",
   "execution_count": 331,
   "metadata": {
    "collapsed": true
   },
   "outputs": [
    {
     "data": {
      "text/plain": [
       "[('evdcfastcount', -0.22073592891615074),\n",
       " ('evlevel1evsenum', 0.22188279488169593),\n",
       " ('pop_x', 0.00015468555839017123),\n",
       " ('id_x', 7.4731757755410583e-05),\n",
       " ('pop_div', -0.00044272338549660719)]"
      ]
     },
     "execution_count": 331,
     "metadata": {},
     "output_type": "execute_result"
    }
   ],
   "source": [
    "# create X and y\n",
    "X_220 = x_220\n",
    "y_220 = y_220\n",
    "\n",
    "# instantiate, fit\n",
    "lr = LinearRegression()\n",
    "lr.fit(X_220, y_220)\n",
    "\n",
    "# print coefficients\n",
    "zip(X_220, lr.coef_)"
   ]
  },
  {
   "cell_type": "code",
   "execution_count": 332,
   "metadata": {},
   "outputs": [
    {
     "data": {
      "text/plain": [
       "0.68274032881163471"
      ]
     },
     "execution_count": 332,
     "metadata": {},
     "output_type": "execute_result"
    }
   ],
   "source": [
    "lr.score(X_220, y_220)"
   ]
  },
  {
   "cell_type": "code",
   "execution_count": 333,
   "metadata": {
    "collapsed": true
   },
   "outputs": [
    {
     "data": {
      "text/plain": [
       "array([  2.79412946,   7.82603676,  11.53237026,   0.68977069,\n",
       "         1.55648684,  14.60058945,   4.10403913,   4.01729154,\n",
       "         4.841803  ,  10.58676729,   4.76996809,   5.06375205,\n",
       "         8.93332079,   2.90439802,  16.81066647,   4.8034024 ,\n",
       "         4.88994135,   4.37626726,   3.68674974,   7.30561957,\n",
       "         4.98577094,   4.19579161,   6.91086695,   6.15060237,\n",
       "         5.40579959,   5.38978622,   3.51622976,   5.87050883,\n",
       "         4.72227054,   0.50061057,   0.29848166,   4.00038137,\n",
       "        17.31133158,   4.41179298,   5.15126322,   6.00293802,\n",
       "         5.52657583,   2.71555627,   8.55847041,   2.17955655,\n",
       "         8.9205959 ,   8.07710221,  12.88869108,   5.00760273,\n",
       "         6.72998175,   8.0659225 ,   7.52651201,   5.19399036,\n",
       "         5.24664357,  23.32962484,   2.83787568,   0.8951516 ,\n",
       "         6.53798315,   3.63207787,   4.45310437,   3.7613485 ,\n",
       "         0.11702136,   0.23867029,   9.76329825,   5.1156729 ,\n",
       "         3.71541151,   4.75054777,   0.5976493 ,   5.73630102,\n",
       "        12.83613076,   3.19479919,   5.98961902,   6.86931857,\n",
       "         7.86371214,   2.74664878,   6.18300429,   1.83147144,\n",
       "         5.80272818,   3.36378545,  17.466246  ,   0.14408799,\n",
       "         4.33727421,   4.29054493,   1.62648458,  20.99748844,\n",
       "        -0.43802479,   6.13939261,  14.55521141,  17.65225134,\n",
       "         4.66658288,   3.62218572,   4.03498482,   3.05045043,\n",
       "         1.08748865,   6.5257941 ,   4.05584836,   6.78102719,\n",
       "         6.0756528 ,  11.1416792 ,   6.74933187,   2.65328462,\n",
       "         4.64095161,   4.15269178,   7.0658805 ,   7.75167636,\n",
       "        25.63329012,   3.44022778,  12.55779403,   4.60430521,\n",
       "        10.59756202,   2.77976119,   3.65938237,   3.76836629,\n",
       "         2.68737249,   3.8779225 ,   7.9486702 ,   3.94643431,\n",
       "         5.20853875,   2.75473849,   3.3232006 ,   0.64355183,\n",
       "         2.81911886,   3.68939843,   4.69896317,   6.10997779,   0.96661496])"
      ]
     },
     "execution_count": 333,
     "metadata": {},
     "output_type": "execute_result"
    }
   ],
   "source": [
    "lr.predict(fast_x)"
   ]
  },
  {
   "cell_type": "code",
   "execution_count": 334,
   "metadata": {},
   "outputs": [
    {
     "data": {
      "text/plain": [
       "5.9195009314029647"
      ]
     },
     "execution_count": 334,
     "metadata": {},
     "output_type": "execute_result"
    }
   ],
   "source": [
    "lr.predict(fast_x).mean()"
   ]
  },
  {
   "cell_type": "code",
   "execution_count": null,
   "metadata": {
    "collapsed": true
   },
   "outputs": [],
   "source": []
  }
 ],
 "metadata": {
  "kernelspec": {
   "display_name": "Python 2",
   "language": "python",
   "name": "python2"
  },
  "language_info": {
   "codemirror_mode": {
    "name": "ipython",
    "version": 2
   },
   "file_extension": ".py",
   "mimetype": "text/x-python",
   "name": "python",
   "nbconvert_exporter": "python",
   "pygments_lexer": "ipython2",
   "version": "2.7.13"
  }
 },
 "nbformat": 4,
 "nbformat_minor": 2
}
